{
  "metadata": {
    "kernelspec": {
      "language": "python",
      "display_name": "Python 3",
      "name": "python3"
    },
    "language_info": {
      "name": "python",
      "version": "3.7.12",
      "mimetype": "text/x-python",
      "codemirror_mode": {
        "name": "ipython",
        "version": 3
      },
      "pygments_lexer": "ipython3",
      "nbconvert_exporter": "python",
      "file_extension": ".py"
    },
    "colab": {
      "provenance": []
    }
  },
  "nbformat_minor": 0,
  "nbformat": 4,
  "cells": [
    {
      "cell_type": "markdown",
      "source": [
        "### Objetivos del notebook\n",
        "---\n",
        "\n",
        "[XGBoost](https://xgboost.readthedocs.io/en/stable/) es una implementación muy popular del [Gradient Boosting](https://interactivechaos.com/es/manual/tutorial-de-machine-learning/gradient-boosting).\n",
        "\n",
        "A pesar de tener sus carencias para problemas de Series Temporales (por ejemplo: no es capaz de extrapolar una tendencia), el algoritmo es muy versátil y todo Data Scientist debe conocerlo. \n",
        "\n",
        "El dataset con el que vamos a trabajar en este notebook contiene alrededor de **300 Series Temporales** que abarcan el periodo Enero'2013 - Septiembre'2015. Por tanto vamos a trabajar con **Series Temporales Multivariante**.\n",
        "\n",
        "Cada una de estas **Series Temporales** representan las ventas <u>**DIARIAS**</u> de **un artículo en un tienda y ciudad**. El objetivo es predecir las <u>**VENTAS TOTALES DEL MES DE OCTUBRE'2015**</u>.\n",
        "\n",
        "Es decir, partimos de ventas diarias y vamos a tener que <u>**agrupar nuestras ventas por mes**</u> antes de crear variables o entrenar el modelo.\n",
        "\n"
      ],
      "metadata": {
        "papermill": {
          "duration": 0.018262,
          "end_time": "2022-12-25T18:21:13.031571",
          "exception": false,
          "start_time": "2022-12-25T18:21:13.013309",
          "status": "completed"
        },
        "tags": [],
        "id": "L5Iw7Hcg5RJG"
      }
    },
    {
      "cell_type": "markdown",
      "source": [
        "### Índice\n",
        "<a id='index'></a>\n",
        "\n",
        "[Imports del notebook](#imports_notebook)<br>\n",
        "[Helpers Time Series](#helpers)<br>\n",
        "[Data Loading](#data_load)<br>\n",
        "[La idea del modelo (**CORE IDEA**)](#benchmark)<br>\n",
        "[Agrupación de las ventas por mes (**CORE IDEA**)](#monthly_agg)<br>\n",
        "[Data Imputation](#impute)<br>\n",
        "[EDA](#eda)<br>\n",
        "[--> 1. EDA: Global Sales](#eda_global_sales)<br>\n",
        "[--> 2. EDA: Top 3 Cities](#eda_top_3_cities)<br>\n",
        "[--> 3. EDA: Top 3 Categories](#eda_top_3_categories)<br>\n",
        "[Build Time Series Features (**CORE IDEA**)](#build_ts_features)<br>\n",
        "[Join TS Features](#join_ts_features)<br>\n",
        "[Train Test Split](#train_test_split)<br>\n",
        "[Model Train](#model_train)<br>\n",
        "[Model Evaluation (**CORE IDEA**)](#model_evaluation)<br>\n",
        "[Prediction](#prediction)<br>\n",
        "\n",
        "### Conclusión\n",
        "[Conclusión](#conclusion)<br>\n",
        "\n",
        "### Referencias\n",
        "[Referencias y lecturas recomendables](#referencias)<br>"
      ],
      "metadata": {
        "papermill": {
          "duration": 0.016343,
          "end_time": "2022-12-25T18:21:13.064692",
          "exception": false,
          "start_time": "2022-12-25T18:21:13.048349",
          "status": "completed"
        },
        "tags": [],
        "id": "AdDZbnsz5RJQ"
      }
    },
    {
      "cell_type": "markdown",
      "source": [
        "<a id='imports_notebook'></a>\n",
        "### Imports del notebook\n",
        "[Volver al índice](#index)\n",
        "\n",
        "En este apartado hacemos los principales imports del notebook.<br>\n",
        "Sobre todo vamos a trabajar con **numpy**, **pandas**, **statsmodels** y **XGBoost**."
      ],
      "metadata": {
        "papermill": {
          "duration": 0.016159,
          "end_time": "2022-12-25T18:21:13.097766",
          "exception": false,
          "start_time": "2022-12-25T18:21:13.081607",
          "status": "completed"
        },
        "tags": [],
        "id": "udYyjOWA5RJR"
      }
    },
    {
      "cell_type": "code",
      "source": [
        "import pickle\n",
        "import os\n",
        "\n",
        "from datetime import datetime\n",
        "import pandas as pd\n",
        "import numpy as np\n",
        "\n",
        "import matplotlib.pyplot as plt\n",
        "%matplotlib inline\n",
        "\n",
        "from sklearn.metrics import mean_squared_error\n",
        "from sklearn.preprocessing import OrdinalEncoder\n",
        "\n",
        "import xgboost as xgb\n",
        "\n",
        "from statsmodels.graphics.tsaplots import plot_acf, plot_pacf"
      ],
      "metadata": {
        "papermill": {
          "duration": 1.216477,
          "end_time": "2022-12-25T18:21:14.33074",
          "exception": false,
          "start_time": "2022-12-25T18:21:13.114263",
          "status": "completed"
        },
        "tags": [],
        "execution": {
          "iopub.status.busy": "2023-04-18T19:34:08.987306Z",
          "iopub.execute_input": "2023-04-18T19:34:08.988418Z",
          "iopub.status.idle": "2023-04-18T19:34:08.997072Z",
          "shell.execute_reply.started": "2023-04-18T19:34:08.988379Z",
          "shell.execute_reply": "2023-04-18T19:34:08.996032Z"
        },
        "trusted": true,
        "id": "_bF-6L4m5RJS"
      },
      "execution_count": 195,
      "outputs": []
    },
    {
      "cell_type": "code",
      "source": [
        "from google.colab import drive\n",
        "drive.mount('/content/drive')"
      ],
      "metadata": {
        "execution": {
          "iopub.status.busy": "2023-04-18T19:34:09.003479Z",
          "iopub.execute_input": "2023-04-18T19:34:09.003891Z",
          "iopub.status.idle": "2023-04-18T19:34:09.008710Z",
          "shell.execute_reply.started": "2023-04-18T19:34:09.003859Z",
          "shell.execute_reply": "2023-04-18T19:34:09.007562Z"
        },
        "trusted": true,
        "colab": {
          "base_uri": "https://localhost:8080/"
        },
        "id": "-AGO6Rdx5RJU",
        "outputId": "3d3a44e2-8891-43d0-ef9f-4ea1dfb4a4c9"
      },
      "execution_count": 196,
      "outputs": [
        {
          "output_type": "stream",
          "name": "stdout",
          "text": [
            "Drive already mounted at /content/drive; to attempt to forcibly remount, call drive.mount(\"/content/drive\", force_remount=True).\n"
          ]
        }
      ]
    },
    {
      "cell_type": "code",
      "source": [
        "print(\"Working with these versions of libraries\\n\")\n",
        "print(f\"Numpy version {np.__version__}\")\n",
        "print(f\"Pandas version {pd.__version__}\")\n",
        "print(f\"XGBoost version {xgb.__version__}\")"
      ],
      "metadata": {
        "papermill": {
          "duration": 0.026616,
          "end_time": "2022-12-25T18:21:14.377081",
          "exception": false,
          "start_time": "2022-12-25T18:21:14.350465",
          "status": "completed"
        },
        "tags": [],
        "execution": {
          "iopub.status.busy": "2023-04-18T19:34:09.010901Z",
          "iopub.execute_input": "2023-04-18T19:34:09.011281Z",
          "iopub.status.idle": "2023-04-18T19:34:09.019676Z",
          "shell.execute_reply.started": "2023-04-18T19:34:09.011217Z",
          "shell.execute_reply": "2023-04-18T19:34:09.018383Z"
        },
        "trusted": true,
        "colab": {
          "base_uri": "https://localhost:8080/"
        },
        "id": "n7ud9uDn5RJU",
        "outputId": "037c8f13-e548-4876-c330-7076154f17a3"
      },
      "execution_count": 197,
      "outputs": [
        {
          "output_type": "stream",
          "name": "stdout",
          "text": [
            "Working with these versions of libraries\n",
            "\n",
            "Numpy version 1.22.4\n",
            "Pandas version 1.5.3\n",
            "XGBoost version 1.7.5\n"
          ]
        }
      ]
    },
    {
      "cell_type": "code",
      "source": [
        "CWD = os.getcwd()\n",
        "DATA_PATH = os.path.join(CWD)\n",
        "TRAIN_CSV_PATH = os.path.join(DATA_PATH, \"ts_sales_train_merged.csv\")\n",
        "\n",
        "ORDER_COLUMNS = [\n",
        "    'DATE',\n",
        "    'UNIQUE_ID',\n",
        "    'CITY_NAME',\n",
        "    'CITY_ID',\n",
        "    'SHOP_NAME',\n",
        "    'SHOP_ID',\n",
        "    'ITEM_CATEGORY_NAME',\n",
        "    'ITEM_CATEGORY_ID',\n",
        "    'ITEM_NAME',\n",
        "    'ITEM_ID',\n",
        "    'ITEM_PRICE',\n",
        "    'SALES'\n",
        "]"
      ],
      "metadata": {
        "papermill": {
          "duration": 0.026513,
          "end_time": "2022-12-25T18:21:14.420213",
          "exception": false,
          "start_time": "2022-12-25T18:21:14.3937",
          "status": "completed"
        },
        "tags": [],
        "execution": {
          "iopub.status.busy": "2023-04-18T19:34:09.021562Z",
          "iopub.execute_input": "2023-04-18T19:34:09.022560Z",
          "iopub.status.idle": "2023-04-18T19:34:09.034736Z",
          "shell.execute_reply.started": "2023-04-18T19:34:09.022515Z",
          "shell.execute_reply": "2023-04-18T19:34:09.033626Z"
        },
        "trusted": true,
        "id": "BJfrJDkW5RJW"
      },
      "execution_count": 198,
      "outputs": []
    },
    {
      "cell_type": "markdown",
      "source": [
        "<a id='helpers'></a>\n",
        "### Helpers Time Series\n",
        "[Volver al índice](#index)\n",
        "\n",
        "En este apartado definimos varias funciones auxiliares que utilizaremos a lo largo del notebook."
      ],
      "metadata": {
        "papermill": {
          "duration": 0.016171,
          "end_time": "2022-12-25T18:21:14.453025",
          "exception": false,
          "start_time": "2022-12-25T18:21:14.436854",
          "status": "completed"
        },
        "tags": [],
        "id": "PLRduXF15RJX"
      }
    },
    {
      "cell_type": "code",
      "source": [
        "def load_data(path_data_file):\n",
        "    '''\n",
        "    Loads the csv file for training.\n",
        "    '''\n",
        "    df = pd.read_csv(path_data_file, index_col = 0)\n",
        "    \n",
        "    df = preprocess_df(df)\n",
        "    \n",
        "    return df"
      ],
      "metadata": {
        "papermill": {
          "duration": 0.025396,
          "end_time": "2022-12-25T18:21:14.49493",
          "exception": false,
          "start_time": "2022-12-25T18:21:14.469534",
          "status": "completed"
        },
        "tags": [],
        "execution": {
          "iopub.status.busy": "2023-04-18T19:34:09.037052Z",
          "iopub.execute_input": "2023-04-18T19:34:09.037862Z",
          "iopub.status.idle": "2023-04-18T19:34:09.044896Z",
          "shell.execute_reply.started": "2023-04-18T19:34:09.037815Z",
          "shell.execute_reply": "2023-04-18T19:34:09.043928Z"
        },
        "trusted": true,
        "id": "JNnmqbWf5RJX"
      },
      "execution_count": 199,
      "outputs": []
    },
    {
      "cell_type": "code",
      "source": [
        "def preprocess_df(df):\n",
        "    '''\n",
        "    Preprocess df: upper columns, str date to datetime etc.\n",
        "    '''\n",
        "    df.columns = map(str.upper, df.columns)\n",
        "    df[\"DATE\"] = pd.to_datetime(df[\"DATE\"], format = \"%Y-%m-%d\")\n",
        "    \n",
        "    df[\"CITY_ID\"] = OrdinalEncoder().fit_transform(df[[\"CITY\"]])\n",
        "    \n",
        "    df.rename(columns = {\"CITY\":\"CITY_NAME\", \"ITEM_CNT_DAY\":\"SALES\"}, inplace = True)\n",
        "    df = df[ORDER_COLUMNS]\n",
        "    \n",
        "    return df"
      ],
      "metadata": {
        "papermill": {
          "duration": 0.026811,
          "end_time": "2022-12-25T18:21:14.538379",
          "exception": false,
          "start_time": "2022-12-25T18:21:14.511568",
          "status": "completed"
        },
        "tags": [],
        "execution": {
          "iopub.status.busy": "2023-04-18T19:34:09.046320Z",
          "iopub.execute_input": "2023-04-18T19:34:09.046817Z",
          "iopub.status.idle": "2023-04-18T19:34:09.056743Z",
          "shell.execute_reply.started": "2023-04-18T19:34:09.046775Z",
          "shell.execute_reply": "2023-04-18T19:34:09.055559Z"
        },
        "trusted": true,
        "id": "Dqiwf0zP5RJY"
      },
      "execution_count": 200,
      "outputs": []
    },
    {
      "cell_type": "markdown",
      "source": [
        "<a id='data_load'></a>\n",
        "### Data Loading\n",
        "[Volver al índice](#index)\n",
        "\n",
        "Vamos a cargar nuestro dataset para comenzar con el EDA."
      ],
      "metadata": {
        "papermill": {
          "duration": 0.016465,
          "end_time": "2022-12-25T18:21:14.571678",
          "exception": false,
          "start_time": "2022-12-25T18:21:14.555213",
          "status": "completed"
        },
        "tags": [],
        "id": "wSH_TM_55RJZ"
      }
    },
    {
      "cell_type": "code",
      "source": [
        "df = load_data(path_data_file = TRAIN_CSV_PATH)\n",
        "df.sample(5)"
      ],
      "metadata": {
        "papermill": {
          "duration": 0.524399,
          "end_time": "2022-12-25T18:21:15.112681",
          "exception": false,
          "start_time": "2022-12-25T18:21:14.588282",
          "status": "completed"
        },
        "tags": [],
        "execution": {
          "iopub.status.busy": "2023-04-18T19:34:09.058935Z",
          "iopub.execute_input": "2023-04-18T19:34:09.059581Z",
          "iopub.status.idle": "2023-04-18T19:34:09.347833Z",
          "shell.execute_reply.started": "2023-04-18T19:34:09.059544Z",
          "shell.execute_reply": "2023-04-18T19:34:09.347039Z"
        },
        "trusted": true,
        "colab": {
          "base_uri": "https://localhost:8080/",
          "height": 407
        },
        "id": "ai-YESGZ5RJZ",
        "outputId": "fa5bd46f-a799-4077-8584-fdb1ae2aad33"
      },
      "execution_count": 201,
      "outputs": [
        {
          "output_type": "execute_result",
          "data": {
            "text/plain": [
              "            DATE UNIQUE_ID      CITY_NAME  CITY_ID  \\\n",
              "23933 2013-12-14  16-20949        Kolomna      4.0   \n",
              "85714 2015-09-19  47-20949         Surgut     15.0   \n",
              "84950 2015-08-02   28-7893          Moscú      7.0   \n",
              "28636 2014-01-15  12-11373  Tienda Online     16.0   \n",
              "81648 2015-07-14   55-7967  Tienda Online     16.0   \n",
              "\n",
              "                                            SHOP_NAME  SHOP_ID  \\\n",
              "23933                  centro comercial kolomna \"Río\"       16   \n",
              "85714                          Surgut SEC \"City Mall\"       47   \n",
              "84950  centro comercial de Moscú \"MEGA Teply Stan\" II       28   \n",
              "28636                  La tienda en línea Emergencias       12   \n",
              "81648               El almacenamiento digital 1C-line       55   \n",
              "\n",
              "                              ITEM_CATEGORY_NAME  ITEM_CATEGORY_ID  \\\n",
              "23933  Regalos - Bolsas, álbumes, Mats d / ratón                71   \n",
              "85714  Regalos - Bolsas, álbumes, Mats d / ratón                71   \n",
              "84950                      Accesorios - XBOX 360                 6   \n",
              "28636                          Entrega de bienes                 9   \n",
              "81648   Las tarjetas de pago - en vivo! (Número)                34   \n",
              "\n",
              "                                               ITEM_NAME  ITEM_ID  ITEM_PRICE  \\\n",
              "23933  Paquete corporativo Mike 1C Interés blanco (34...    20949         5.0   \n",
              "85714  Paquete corporativo Mike 1C Interés blanco (34...    20949         5.0   \n",
              "84950  X360: GamePad Wireless Black - Controlador ina...     7893      2490.0   \n",
              "28636                       Entrega a emisión (Boxberry)    11373       342.0   \n",
              "81648  Xbox LIVE: Mapa de suscripción de oro 3 meses ...     7967       999.0   \n",
              "\n",
              "       SALES  \n",
              "23933   20.0  \n",
              "85714   15.0  \n",
              "84950    1.0  \n",
              "28636    2.0  \n",
              "81648    4.0  "
            ],
            "text/html": [
              "\n",
              "  <div id=\"df-ddd24a73-54e4-4b75-b2df-fa4d58ca32d1\">\n",
              "    <div class=\"colab-df-container\">\n",
              "      <div>\n",
              "<style scoped>\n",
              "    .dataframe tbody tr th:only-of-type {\n",
              "        vertical-align: middle;\n",
              "    }\n",
              "\n",
              "    .dataframe tbody tr th {\n",
              "        vertical-align: top;\n",
              "    }\n",
              "\n",
              "    .dataframe thead th {\n",
              "        text-align: right;\n",
              "    }\n",
              "</style>\n",
              "<table border=\"1\" class=\"dataframe\">\n",
              "  <thead>\n",
              "    <tr style=\"text-align: right;\">\n",
              "      <th></th>\n",
              "      <th>DATE</th>\n",
              "      <th>UNIQUE_ID</th>\n",
              "      <th>CITY_NAME</th>\n",
              "      <th>CITY_ID</th>\n",
              "      <th>SHOP_NAME</th>\n",
              "      <th>SHOP_ID</th>\n",
              "      <th>ITEM_CATEGORY_NAME</th>\n",
              "      <th>ITEM_CATEGORY_ID</th>\n",
              "      <th>ITEM_NAME</th>\n",
              "      <th>ITEM_ID</th>\n",
              "      <th>ITEM_PRICE</th>\n",
              "      <th>SALES</th>\n",
              "    </tr>\n",
              "  </thead>\n",
              "  <tbody>\n",
              "    <tr>\n",
              "      <th>23933</th>\n",
              "      <td>2013-12-14</td>\n",
              "      <td>16-20949</td>\n",
              "      <td>Kolomna</td>\n",
              "      <td>4.0</td>\n",
              "      <td>centro comercial kolomna \"Río\"</td>\n",
              "      <td>16</td>\n",
              "      <td>Regalos - Bolsas, álbumes, Mats d / ratón</td>\n",
              "      <td>71</td>\n",
              "      <td>Paquete corporativo Mike 1C Interés blanco (34...</td>\n",
              "      <td>20949</td>\n",
              "      <td>5.0</td>\n",
              "      <td>20.0</td>\n",
              "    </tr>\n",
              "    <tr>\n",
              "      <th>85714</th>\n",
              "      <td>2015-09-19</td>\n",
              "      <td>47-20949</td>\n",
              "      <td>Surgut</td>\n",
              "      <td>15.0</td>\n",
              "      <td>Surgut SEC \"City Mall\"</td>\n",
              "      <td>47</td>\n",
              "      <td>Regalos - Bolsas, álbumes, Mats d / ratón</td>\n",
              "      <td>71</td>\n",
              "      <td>Paquete corporativo Mike 1C Interés blanco (34...</td>\n",
              "      <td>20949</td>\n",
              "      <td>5.0</td>\n",
              "      <td>15.0</td>\n",
              "    </tr>\n",
              "    <tr>\n",
              "      <th>84950</th>\n",
              "      <td>2015-08-02</td>\n",
              "      <td>28-7893</td>\n",
              "      <td>Moscú</td>\n",
              "      <td>7.0</td>\n",
              "      <td>centro comercial de Moscú \"MEGA Teply Stan\" II</td>\n",
              "      <td>28</td>\n",
              "      <td>Accesorios - XBOX 360</td>\n",
              "      <td>6</td>\n",
              "      <td>X360: GamePad Wireless Black - Controlador ina...</td>\n",
              "      <td>7893</td>\n",
              "      <td>2490.0</td>\n",
              "      <td>1.0</td>\n",
              "    </tr>\n",
              "    <tr>\n",
              "      <th>28636</th>\n",
              "      <td>2014-01-15</td>\n",
              "      <td>12-11373</td>\n",
              "      <td>Tienda Online</td>\n",
              "      <td>16.0</td>\n",
              "      <td>La tienda en línea Emergencias</td>\n",
              "      <td>12</td>\n",
              "      <td>Entrega de bienes</td>\n",
              "      <td>9</td>\n",
              "      <td>Entrega a emisión (Boxberry)</td>\n",
              "      <td>11373</td>\n",
              "      <td>342.0</td>\n",
              "      <td>2.0</td>\n",
              "    </tr>\n",
              "    <tr>\n",
              "      <th>81648</th>\n",
              "      <td>2015-07-14</td>\n",
              "      <td>55-7967</td>\n",
              "      <td>Tienda Online</td>\n",
              "      <td>16.0</td>\n",
              "      <td>El almacenamiento digital 1C-line</td>\n",
              "      <td>55</td>\n",
              "      <td>Las tarjetas de pago - en vivo! (Número)</td>\n",
              "      <td>34</td>\n",
              "      <td>Xbox LIVE: Mapa de suscripción de oro 3 meses ...</td>\n",
              "      <td>7967</td>\n",
              "      <td>999.0</td>\n",
              "      <td>4.0</td>\n",
              "    </tr>\n",
              "  </tbody>\n",
              "</table>\n",
              "</div>\n",
              "      <button class=\"colab-df-convert\" onclick=\"convertToInteractive('df-ddd24a73-54e4-4b75-b2df-fa4d58ca32d1')\"\n",
              "              title=\"Convert this dataframe to an interactive table.\"\n",
              "              style=\"display:none;\">\n",
              "        \n",
              "  <svg xmlns=\"http://www.w3.org/2000/svg\" height=\"24px\"viewBox=\"0 0 24 24\"\n",
              "       width=\"24px\">\n",
              "    <path d=\"M0 0h24v24H0V0z\" fill=\"none\"/>\n",
              "    <path d=\"M18.56 5.44l.94 2.06.94-2.06 2.06-.94-2.06-.94-.94-2.06-.94 2.06-2.06.94zm-11 1L8.5 8.5l.94-2.06 2.06-.94-2.06-.94L8.5 2.5l-.94 2.06-2.06.94zm10 10l.94 2.06.94-2.06 2.06-.94-2.06-.94-.94-2.06-.94 2.06-2.06.94z\"/><path d=\"M17.41 7.96l-1.37-1.37c-.4-.4-.92-.59-1.43-.59-.52 0-1.04.2-1.43.59L10.3 9.45l-7.72 7.72c-.78.78-.78 2.05 0 2.83L4 21.41c.39.39.9.59 1.41.59.51 0 1.02-.2 1.41-.59l7.78-7.78 2.81-2.81c.8-.78.8-2.07 0-2.86zM5.41 20L4 18.59l7.72-7.72 1.47 1.35L5.41 20z\"/>\n",
              "  </svg>\n",
              "      </button>\n",
              "      \n",
              "  <style>\n",
              "    .colab-df-container {\n",
              "      display:flex;\n",
              "      flex-wrap:wrap;\n",
              "      gap: 12px;\n",
              "    }\n",
              "\n",
              "    .colab-df-convert {\n",
              "      background-color: #E8F0FE;\n",
              "      border: none;\n",
              "      border-radius: 50%;\n",
              "      cursor: pointer;\n",
              "      display: none;\n",
              "      fill: #1967D2;\n",
              "      height: 32px;\n",
              "      padding: 0 0 0 0;\n",
              "      width: 32px;\n",
              "    }\n",
              "\n",
              "    .colab-df-convert:hover {\n",
              "      background-color: #E2EBFA;\n",
              "      box-shadow: 0px 1px 2px rgba(60, 64, 67, 0.3), 0px 1px 3px 1px rgba(60, 64, 67, 0.15);\n",
              "      fill: #174EA6;\n",
              "    }\n",
              "\n",
              "    [theme=dark] .colab-df-convert {\n",
              "      background-color: #3B4455;\n",
              "      fill: #D2E3FC;\n",
              "    }\n",
              "\n",
              "    [theme=dark] .colab-df-convert:hover {\n",
              "      background-color: #434B5C;\n",
              "      box-shadow: 0px 1px 3px 1px rgba(0, 0, 0, 0.15);\n",
              "      filter: drop-shadow(0px 1px 2px rgba(0, 0, 0, 0.3));\n",
              "      fill: #FFFFFF;\n",
              "    }\n",
              "  </style>\n",
              "\n",
              "      <script>\n",
              "        const buttonEl =\n",
              "          document.querySelector('#df-ddd24a73-54e4-4b75-b2df-fa4d58ca32d1 button.colab-df-convert');\n",
              "        buttonEl.style.display =\n",
              "          google.colab.kernel.accessAllowed ? 'block' : 'none';\n",
              "\n",
              "        async function convertToInteractive(key) {\n",
              "          const element = document.querySelector('#df-ddd24a73-54e4-4b75-b2df-fa4d58ca32d1');\n",
              "          const dataTable =\n",
              "            await google.colab.kernel.invokeFunction('convertToInteractive',\n",
              "                                                     [key], {});\n",
              "          if (!dataTable) return;\n",
              "\n",
              "          const docLinkHtml = 'Like what you see? Visit the ' +\n",
              "            '<a target=\"_blank\" href=https://colab.research.google.com/notebooks/data_table.ipynb>data table notebook</a>'\n",
              "            + ' to learn more about interactive tables.';\n",
              "          element.innerHTML = '';\n",
              "          dataTable['output_type'] = 'display_data';\n",
              "          await google.colab.output.renderOutput(dataTable, element);\n",
              "          const docLink = document.createElement('div');\n",
              "          docLink.innerHTML = docLinkHtml;\n",
              "          element.appendChild(docLink);\n",
              "        }\n",
              "      </script>\n",
              "    </div>\n",
              "  </div>\n",
              "  "
            ]
          },
          "metadata": {},
          "execution_count": 201
        }
      ]
    },
    {
      "cell_type": "markdown",
      "source": [
        "Vamos a ver que tipo de datos tenemos en nuestro dataset."
      ],
      "metadata": {
        "papermill": {
          "duration": 0.016484,
          "end_time": "2022-12-25T18:21:15.146194",
          "exception": false,
          "start_time": "2022-12-25T18:21:15.12971",
          "status": "completed"
        },
        "tags": [],
        "id": "wSAdAveY5RJb"
      }
    },
    {
      "cell_type": "code",
      "source": [
        "df.info()"
      ],
      "metadata": {
        "papermill": {
          "duration": 0.057916,
          "end_time": "2022-12-25T18:21:15.221101",
          "exception": false,
          "start_time": "2022-12-25T18:21:15.163185",
          "status": "completed"
        },
        "tags": [],
        "execution": {
          "iopub.status.busy": "2023-04-18T19:34:09.349360Z",
          "iopub.execute_input": "2023-04-18T19:34:09.349869Z",
          "iopub.status.idle": "2023-04-18T19:34:09.383721Z",
          "shell.execute_reply.started": "2023-04-18T19:34:09.349840Z",
          "shell.execute_reply": "2023-04-18T19:34:09.382501Z"
        },
        "trusted": true,
        "colab": {
          "base_uri": "https://localhost:8080/"
        },
        "id": "uzDY1LUu5RJc",
        "outputId": "91d02d8e-e98a-43d9-dda4-dd928deb385c"
      },
      "execution_count": 202,
      "outputs": [
        {
          "output_type": "stream",
          "name": "stdout",
          "text": [
            "<class 'pandas.core.frame.DataFrame'>\n",
            "Int64Index: 87963 entries, 0 to 87962\n",
            "Data columns (total 12 columns):\n",
            " #   Column              Non-Null Count  Dtype         \n",
            "---  ------              --------------  -----         \n",
            " 0   DATE                87963 non-null  datetime64[ns]\n",
            " 1   UNIQUE_ID           87963 non-null  object        \n",
            " 2   CITY_NAME           87963 non-null  object        \n",
            " 3   CITY_ID             87963 non-null  float64       \n",
            " 4   SHOP_NAME           87963 non-null  object        \n",
            " 5   SHOP_ID             87963 non-null  int64         \n",
            " 6   ITEM_CATEGORY_NAME  87963 non-null  object        \n",
            " 7   ITEM_CATEGORY_ID    87963 non-null  int64         \n",
            " 8   ITEM_NAME           87963 non-null  object        \n",
            " 9   ITEM_ID             87963 non-null  int64         \n",
            " 10  ITEM_PRICE          87963 non-null  float64       \n",
            " 11  SALES               87963 non-null  float64       \n",
            "dtypes: datetime64[ns](1), float64(3), int64(3), object(5)\n",
            "memory usage: 8.7+ MB\n"
          ]
        }
      ]
    },
    {
      "cell_type": "markdown",
      "source": [
        "<a id='benchmark'></a>\n",
        "### La idea del modelo (CORE IDEA)\n",
        "[Volver al índice](#index)"
      ],
      "metadata": {
        "papermill": {
          "duration": 0.016638,
          "end_time": "2022-12-25T18:21:15.254702",
          "exception": false,
          "start_time": "2022-12-25T18:21:15.238064",
          "status": "completed"
        },
        "tags": [],
        "id": "gex2UBwH5RJc"
      }
    },
    {
      "cell_type": "markdown",
      "source": [
        "A **grosso modo** vamos a hacer las siguientes cosas:\n",
        "\n",
        "1. Ver cuantas Series Temporales tenemos en el dataset.\n",
        "2. Hacer un check de si tenemos todas las fechas históricas en el dataset.\n",
        "3. Generar las fechas que puedan estar missing.\n",
        "4. Tratar los nulos.\n",
        "5. Crear algunas variables rápidas para el entrenamiento.\n",
        "6. Entrenar el algoritmo.\n",
        "7. Evaluar el modelo.\n",
        "8. Hacer el submit.\n",
        "\n",
        "Empecemos:"
      ],
      "metadata": {
        "papermill": {
          "duration": 0.016615,
          "end_time": "2022-12-25T18:21:15.288404",
          "exception": false,
          "start_time": "2022-12-25T18:21:15.271789",
          "status": "completed"
        },
        "tags": [],
        "id": "dv_2kZrE5RJd"
      }
    },
    {
      "cell_type": "markdown",
      "source": [
        "Tenemos un total de 299 Series Temporales en el dataset:"
      ],
      "metadata": {
        "execution": {
          "iopub.execute_input": "2022-12-22T22:32:00.326712Z",
          "iopub.status.busy": "2022-12-22T22:32:00.326289Z",
          "iopub.status.idle": "2022-12-22T22:32:00.341842Z",
          "shell.execute_reply": "2022-12-22T22:32:00.340543Z",
          "shell.execute_reply.started": "2022-12-22T22:32:00.326673Z"
        },
        "papermill": {
          "duration": 0.016523,
          "end_time": "2022-12-25T18:21:15.321776",
          "exception": false,
          "start_time": "2022-12-25T18:21:15.305253",
          "status": "completed"
        },
        "tags": [],
        "id": "HxsiUaj35RJd"
      }
    },
    {
      "cell_type": "code",
      "source": [
        "df[\"UNIQUE_ID\"].nunique()"
      ],
      "metadata": {
        "papermill": {
          "duration": 0.033397,
          "end_time": "2022-12-25T18:21:15.372007",
          "exception": false,
          "start_time": "2022-12-25T18:21:15.33861",
          "status": "completed"
        },
        "tags": [],
        "execution": {
          "iopub.status.busy": "2023-04-18T19:34:09.385164Z",
          "iopub.execute_input": "2023-04-18T19:34:09.385688Z",
          "iopub.status.idle": "2023-04-18T19:34:09.398733Z",
          "shell.execute_reply.started": "2023-04-18T19:34:09.385657Z",
          "shell.execute_reply": "2023-04-18T19:34:09.397394Z"
        },
        "trusted": true,
        "colab": {
          "base_uri": "https://localhost:8080/"
        },
        "id": "oVOVtpjJ5RJd",
        "outputId": "6cac5961-99c0-41c2-f349-b1c4997d2432"
      },
      "execution_count": 203,
      "outputs": [
        {
          "output_type": "execute_result",
          "data": {
            "text/plain": [
              "299"
            ]
          },
          "metadata": {},
          "execution_count": 203
        }
      ]
    },
    {
      "cell_type": "markdown",
      "source": [
        "Veamos cuales son las fechas min y max de nuestro dataset:"
      ],
      "metadata": {
        "papermill": {
          "duration": 0.016732,
          "end_time": "2022-12-25T18:21:15.405908",
          "exception": false,
          "start_time": "2022-12-25T18:21:15.389176",
          "status": "completed"
        },
        "tags": [],
        "id": "J8QZD9NK5RJe"
      }
    },
    {
      "cell_type": "code",
      "source": [
        "MIN_DATE = df[\"DATE\"].min()\n",
        "MAX_DATE = df[\"DATE\"].max()"
      ],
      "metadata": {
        "papermill": {
          "duration": 0.029077,
          "end_time": "2022-12-25T18:21:15.454358",
          "exception": false,
          "start_time": "2022-12-25T18:21:15.425281",
          "status": "completed"
        },
        "tags": [],
        "execution": {
          "iopub.status.busy": "2023-04-18T19:34:09.401620Z",
          "iopub.execute_input": "2023-04-18T19:34:09.401943Z",
          "iopub.status.idle": "2023-04-18T19:34:09.407810Z",
          "shell.execute_reply.started": "2023-04-18T19:34:09.401914Z",
          "shell.execute_reply": "2023-04-18T19:34:09.406746Z"
        },
        "trusted": true,
        "id": "w1hfeZj15RJe"
      },
      "execution_count": 204,
      "outputs": []
    },
    {
      "cell_type": "code",
      "source": [
        "print(f\"Min date is {MIN_DATE}\\nMax date is {MAX_DATE}\")"
      ],
      "metadata": {
        "papermill": {
          "duration": 0.03653,
          "end_time": "2022-12-25T18:21:15.513883",
          "exception": false,
          "start_time": "2022-12-25T18:21:15.477353",
          "status": "completed"
        },
        "tags": [],
        "execution": {
          "iopub.status.busy": "2023-04-18T19:34:09.411124Z",
          "iopub.execute_input": "2023-04-18T19:34:09.411443Z",
          "iopub.status.idle": "2023-04-18T19:34:09.420346Z",
          "shell.execute_reply.started": "2023-04-18T19:34:09.411415Z",
          "shell.execute_reply": "2023-04-18T19:34:09.419283Z"
        },
        "trusted": true,
        "colab": {
          "base_uri": "https://localhost:8080/"
        },
        "id": "ZilBmU_T5RJf",
        "outputId": "3137716f-eeac-4646-ef88-39c1929bb51d"
      },
      "execution_count": 205,
      "outputs": [
        {
          "output_type": "stream",
          "name": "stdout",
          "text": [
            "Min date is 2013-01-01 00:00:00\n",
            "Max date is 2015-09-30 00:00:00\n"
          ]
        }
      ]
    },
    {
      "cell_type": "markdown",
      "source": [
        "<a id='monthly_agg'></a>\n",
        "### Agrupación de las ventas por mes\n",
        "[Volver al índice](#index)"
      ],
      "metadata": {
        "papermill": {
          "duration": 0.02061,
          "end_time": "2022-12-25T18:21:15.552717",
          "exception": false,
          "start_time": "2022-12-25T18:21:15.532107",
          "status": "completed"
        },
        "tags": [],
        "id": "9xH6L7FO5RJf"
      }
    },
    {
      "cell_type": "markdown",
      "source": [
        "Nos piden que hagamos el predict de las ventas totales del mes de Octubre'2015 para cada ITEM_ID y SHOP_ID.\n",
        "\n",
        "No obstante, si miramos el dataset con detenimiento, veremos que las ventas reportadas vienen por día. Ahora mismo tenemos 2 opciones: \n",
        "\n",
        "1. Podemos entrenar un modelo con las ventas diarias, predecir 30 días y luego sumar las 30 predicciones y obtener el valor para Octubre'2015.\n",
        "2. Agrupar las ventas por mes, entrenar un modelo con las ventas mensuales y hacer 1 predict (mes de Octubre'2015).\n",
        "\n",
        "Claramente la segunda opción es mucho más sencilla, por este motivo vamos a seguir este enfoque.\n",
        "\n",
        "Nota: Si observamos bien, UNIQUE_ID = SHOP_ID + ITEM_ID."
      ],
      "metadata": {
        "papermill": {
          "duration": 0.017731,
          "end_time": "2022-12-25T18:21:15.589032",
          "exception": false,
          "start_time": "2022-12-25T18:21:15.571301",
          "status": "completed"
        },
        "tags": [],
        "id": "TIGRc-dx5RJg"
      }
    },
    {
      "cell_type": "code",
      "source": [
        "df.sample(3)"
      ],
      "metadata": {
        "papermill": {
          "duration": 0.042742,
          "end_time": "2022-12-25T18:21:15.64913",
          "exception": false,
          "start_time": "2022-12-25T18:21:15.606388",
          "status": "completed"
        },
        "tags": [],
        "execution": {
          "iopub.status.busy": "2023-04-18T19:34:09.421966Z",
          "iopub.execute_input": "2023-04-18T19:34:09.422325Z",
          "iopub.status.idle": "2023-04-18T19:34:09.447662Z",
          "shell.execute_reply.started": "2023-04-18T19:34:09.422295Z",
          "shell.execute_reply": "2023-04-18T19:34:09.446544Z"
        },
        "trusted": true,
        "colab": {
          "base_uri": "https://localhost:8080/",
          "height": 274
        },
        "id": "aIkL9RKF5RJg",
        "outputId": "af4b54aa-48f5-4781-c93f-dfa9a8f67473"
      },
      "execution_count": 206,
      "outputs": [
        {
          "output_type": "execute_result",
          "data": {
            "text/plain": [
              "            DATE UNIQUE_ID      CITY_NAME  CITY_ID  \\\n",
              "63217 2014-12-06  55-22166  Tienda Online     16.0   \n",
              "33592 2014-03-28  25-13881          Moscú      7.0   \n",
              "24352 2013-12-13  19-20949          Kursk      6.0   \n",
              "\n",
              "                               SHOP_NAME  SHOP_ID  \\\n",
              "63217  El almacenamiento digital 1C-line       55   \n",
              "33592                 Moscú SEC \"Atrium\"       25   \n",
              "24352                 Kursk TC \"Pushkin\"       19   \n",
              "\n",
              "                              ITEM_CATEGORY_NAME  ITEM_CATEGORY_ID  \\\n",
              "63217                           Libros - Digital                54   \n",
              "33592         Música - CD de la producción local                55   \n",
              "24352  Regalos - Bolsas, álbumes, Mats d / ratón                71   \n",
              "\n",
              "                                               ITEM_NAME  ITEM_ID  ITEM_PRICE  \\\n",
              "63217  Idioma de consulta 1c: Empresas [Versión digital]    22166       150.0   \n",
              "33592               Leps GRIGORY LA MEJOR 3 CD (firmas.)    13881       599.0   \n",
              "24352  Paquete corporativo Mike 1C Interés blanco (34...    20949         5.0   \n",
              "\n",
              "       SALES  \n",
              "63217    2.0  \n",
              "33592    1.0  \n",
              "24352    5.0  "
            ],
            "text/html": [
              "\n",
              "  <div id=\"df-86bcf203-07e5-4322-a7ae-96ff08a870dc\">\n",
              "    <div class=\"colab-df-container\">\n",
              "      <div>\n",
              "<style scoped>\n",
              "    .dataframe tbody tr th:only-of-type {\n",
              "        vertical-align: middle;\n",
              "    }\n",
              "\n",
              "    .dataframe tbody tr th {\n",
              "        vertical-align: top;\n",
              "    }\n",
              "\n",
              "    .dataframe thead th {\n",
              "        text-align: right;\n",
              "    }\n",
              "</style>\n",
              "<table border=\"1\" class=\"dataframe\">\n",
              "  <thead>\n",
              "    <tr style=\"text-align: right;\">\n",
              "      <th></th>\n",
              "      <th>DATE</th>\n",
              "      <th>UNIQUE_ID</th>\n",
              "      <th>CITY_NAME</th>\n",
              "      <th>CITY_ID</th>\n",
              "      <th>SHOP_NAME</th>\n",
              "      <th>SHOP_ID</th>\n",
              "      <th>ITEM_CATEGORY_NAME</th>\n",
              "      <th>ITEM_CATEGORY_ID</th>\n",
              "      <th>ITEM_NAME</th>\n",
              "      <th>ITEM_ID</th>\n",
              "      <th>ITEM_PRICE</th>\n",
              "      <th>SALES</th>\n",
              "    </tr>\n",
              "  </thead>\n",
              "  <tbody>\n",
              "    <tr>\n",
              "      <th>63217</th>\n",
              "      <td>2014-12-06</td>\n",
              "      <td>55-22166</td>\n",
              "      <td>Tienda Online</td>\n",
              "      <td>16.0</td>\n",
              "      <td>El almacenamiento digital 1C-line</td>\n",
              "      <td>55</td>\n",
              "      <td>Libros - Digital</td>\n",
              "      <td>54</td>\n",
              "      <td>Idioma de consulta 1c: Empresas [Versión digital]</td>\n",
              "      <td>22166</td>\n",
              "      <td>150.0</td>\n",
              "      <td>2.0</td>\n",
              "    </tr>\n",
              "    <tr>\n",
              "      <th>33592</th>\n",
              "      <td>2014-03-28</td>\n",
              "      <td>25-13881</td>\n",
              "      <td>Moscú</td>\n",
              "      <td>7.0</td>\n",
              "      <td>Moscú SEC \"Atrium\"</td>\n",
              "      <td>25</td>\n",
              "      <td>Música - CD de la producción local</td>\n",
              "      <td>55</td>\n",
              "      <td>Leps GRIGORY LA MEJOR 3 CD (firmas.)</td>\n",
              "      <td>13881</td>\n",
              "      <td>599.0</td>\n",
              "      <td>1.0</td>\n",
              "    </tr>\n",
              "    <tr>\n",
              "      <th>24352</th>\n",
              "      <td>2013-12-13</td>\n",
              "      <td>19-20949</td>\n",
              "      <td>Kursk</td>\n",
              "      <td>6.0</td>\n",
              "      <td>Kursk TC \"Pushkin\"</td>\n",
              "      <td>19</td>\n",
              "      <td>Regalos - Bolsas, álbumes, Mats d / ratón</td>\n",
              "      <td>71</td>\n",
              "      <td>Paquete corporativo Mike 1C Interés blanco (34...</td>\n",
              "      <td>20949</td>\n",
              "      <td>5.0</td>\n",
              "      <td>5.0</td>\n",
              "    </tr>\n",
              "  </tbody>\n",
              "</table>\n",
              "</div>\n",
              "      <button class=\"colab-df-convert\" onclick=\"convertToInteractive('df-86bcf203-07e5-4322-a7ae-96ff08a870dc')\"\n",
              "              title=\"Convert this dataframe to an interactive table.\"\n",
              "              style=\"display:none;\">\n",
              "        \n",
              "  <svg xmlns=\"http://www.w3.org/2000/svg\" height=\"24px\"viewBox=\"0 0 24 24\"\n",
              "       width=\"24px\">\n",
              "    <path d=\"M0 0h24v24H0V0z\" fill=\"none\"/>\n",
              "    <path d=\"M18.56 5.44l.94 2.06.94-2.06 2.06-.94-2.06-.94-.94-2.06-.94 2.06-2.06.94zm-11 1L8.5 8.5l.94-2.06 2.06-.94-2.06-.94L8.5 2.5l-.94 2.06-2.06.94zm10 10l.94 2.06.94-2.06 2.06-.94-2.06-.94-.94-2.06-.94 2.06-2.06.94z\"/><path d=\"M17.41 7.96l-1.37-1.37c-.4-.4-.92-.59-1.43-.59-.52 0-1.04.2-1.43.59L10.3 9.45l-7.72 7.72c-.78.78-.78 2.05 0 2.83L4 21.41c.39.39.9.59 1.41.59.51 0 1.02-.2 1.41-.59l7.78-7.78 2.81-2.81c.8-.78.8-2.07 0-2.86zM5.41 20L4 18.59l7.72-7.72 1.47 1.35L5.41 20z\"/>\n",
              "  </svg>\n",
              "      </button>\n",
              "      \n",
              "  <style>\n",
              "    .colab-df-container {\n",
              "      display:flex;\n",
              "      flex-wrap:wrap;\n",
              "      gap: 12px;\n",
              "    }\n",
              "\n",
              "    .colab-df-convert {\n",
              "      background-color: #E8F0FE;\n",
              "      border: none;\n",
              "      border-radius: 50%;\n",
              "      cursor: pointer;\n",
              "      display: none;\n",
              "      fill: #1967D2;\n",
              "      height: 32px;\n",
              "      padding: 0 0 0 0;\n",
              "      width: 32px;\n",
              "    }\n",
              "\n",
              "    .colab-df-convert:hover {\n",
              "      background-color: #E2EBFA;\n",
              "      box-shadow: 0px 1px 2px rgba(60, 64, 67, 0.3), 0px 1px 3px 1px rgba(60, 64, 67, 0.15);\n",
              "      fill: #174EA6;\n",
              "    }\n",
              "\n",
              "    [theme=dark] .colab-df-convert {\n",
              "      background-color: #3B4455;\n",
              "      fill: #D2E3FC;\n",
              "    }\n",
              "\n",
              "    [theme=dark] .colab-df-convert:hover {\n",
              "      background-color: #434B5C;\n",
              "      box-shadow: 0px 1px 3px 1px rgba(0, 0, 0, 0.15);\n",
              "      filter: drop-shadow(0px 1px 2px rgba(0, 0, 0, 0.3));\n",
              "      fill: #FFFFFF;\n",
              "    }\n",
              "  </style>\n",
              "\n",
              "      <script>\n",
              "        const buttonEl =\n",
              "          document.querySelector('#df-86bcf203-07e5-4322-a7ae-96ff08a870dc button.colab-df-convert');\n",
              "        buttonEl.style.display =\n",
              "          google.colab.kernel.accessAllowed ? 'block' : 'none';\n",
              "\n",
              "        async function convertToInteractive(key) {\n",
              "          const element = document.querySelector('#df-86bcf203-07e5-4322-a7ae-96ff08a870dc');\n",
              "          const dataTable =\n",
              "            await google.colab.kernel.invokeFunction('convertToInteractive',\n",
              "                                                     [key], {});\n",
              "          if (!dataTable) return;\n",
              "\n",
              "          const docLinkHtml = 'Like what you see? Visit the ' +\n",
              "            '<a target=\"_blank\" href=https://colab.research.google.com/notebooks/data_table.ipynb>data table notebook</a>'\n",
              "            + ' to learn more about interactive tables.';\n",
              "          element.innerHTML = '';\n",
              "          dataTable['output_type'] = 'display_data';\n",
              "          await google.colab.output.renderOutput(dataTable, element);\n",
              "          const docLink = document.createElement('div');\n",
              "          docLink.innerHTML = docLinkHtml;\n",
              "          element.appendChild(docLink);\n",
              "        }\n",
              "      </script>\n",
              "    </div>\n",
              "  </div>\n",
              "  "
            ]
          },
          "metadata": {},
          "execution_count": 206
        }
      ]
    },
    {
      "cell_type": "code",
      "source": [
        "df[[\"UNIQUE_ID\", \"SHOP_ID\", \"ITEM_ID\"]]"
      ],
      "metadata": {
        "execution": {
          "iopub.status.busy": "2023-04-18T19:34:09.449235Z",
          "iopub.execute_input": "2023-04-18T19:34:09.449638Z",
          "iopub.status.idle": "2023-04-18T19:34:09.467774Z",
          "shell.execute_reply.started": "2023-04-18T19:34:09.449605Z",
          "shell.execute_reply": "2023-04-18T19:34:09.466644Z"
        },
        "trusted": true,
        "colab": {
          "base_uri": "https://localhost:8080/",
          "height": 424
        },
        "id": "CCRY7tz85RJh",
        "outputId": "525a7418-f371-4e22-dc03-c013ae408822"
      },
      "execution_count": 207,
      "outputs": [
        {
          "output_type": "execute_result",
          "data": {
            "text/plain": [
              "      UNIQUE_ID  SHOP_ID  ITEM_ID\n",
              "0       25-2574       25     2574\n",
              "1       25-2574       25     2574\n",
              "2       25-2574       25     2574\n",
              "3       25-2574       25     2574\n",
              "4       25-2574       25     2574\n",
              "...         ...      ...      ...\n",
              "87958  25-20949       25    20949\n",
              "87959  25-20949       25    20949\n",
              "87960  25-20949       25    20949\n",
              "87961  25-20949       25    20949\n",
              "87962  25-20949       25    20949\n",
              "\n",
              "[87963 rows x 3 columns]"
            ],
            "text/html": [
              "\n",
              "  <div id=\"df-b6302565-c4f7-4b43-b684-fbf63a15de27\">\n",
              "    <div class=\"colab-df-container\">\n",
              "      <div>\n",
              "<style scoped>\n",
              "    .dataframe tbody tr th:only-of-type {\n",
              "        vertical-align: middle;\n",
              "    }\n",
              "\n",
              "    .dataframe tbody tr th {\n",
              "        vertical-align: top;\n",
              "    }\n",
              "\n",
              "    .dataframe thead th {\n",
              "        text-align: right;\n",
              "    }\n",
              "</style>\n",
              "<table border=\"1\" class=\"dataframe\">\n",
              "  <thead>\n",
              "    <tr style=\"text-align: right;\">\n",
              "      <th></th>\n",
              "      <th>UNIQUE_ID</th>\n",
              "      <th>SHOP_ID</th>\n",
              "      <th>ITEM_ID</th>\n",
              "    </tr>\n",
              "  </thead>\n",
              "  <tbody>\n",
              "    <tr>\n",
              "      <th>0</th>\n",
              "      <td>25-2574</td>\n",
              "      <td>25</td>\n",
              "      <td>2574</td>\n",
              "    </tr>\n",
              "    <tr>\n",
              "      <th>1</th>\n",
              "      <td>25-2574</td>\n",
              "      <td>25</td>\n",
              "      <td>2574</td>\n",
              "    </tr>\n",
              "    <tr>\n",
              "      <th>2</th>\n",
              "      <td>25-2574</td>\n",
              "      <td>25</td>\n",
              "      <td>2574</td>\n",
              "    </tr>\n",
              "    <tr>\n",
              "      <th>3</th>\n",
              "      <td>25-2574</td>\n",
              "      <td>25</td>\n",
              "      <td>2574</td>\n",
              "    </tr>\n",
              "    <tr>\n",
              "      <th>4</th>\n",
              "      <td>25-2574</td>\n",
              "      <td>25</td>\n",
              "      <td>2574</td>\n",
              "    </tr>\n",
              "    <tr>\n",
              "      <th>...</th>\n",
              "      <td>...</td>\n",
              "      <td>...</td>\n",
              "      <td>...</td>\n",
              "    </tr>\n",
              "    <tr>\n",
              "      <th>87958</th>\n",
              "      <td>25-20949</td>\n",
              "      <td>25</td>\n",
              "      <td>20949</td>\n",
              "    </tr>\n",
              "    <tr>\n",
              "      <th>87959</th>\n",
              "      <td>25-20949</td>\n",
              "      <td>25</td>\n",
              "      <td>20949</td>\n",
              "    </tr>\n",
              "    <tr>\n",
              "      <th>87960</th>\n",
              "      <td>25-20949</td>\n",
              "      <td>25</td>\n",
              "      <td>20949</td>\n",
              "    </tr>\n",
              "    <tr>\n",
              "      <th>87961</th>\n",
              "      <td>25-20949</td>\n",
              "      <td>25</td>\n",
              "      <td>20949</td>\n",
              "    </tr>\n",
              "    <tr>\n",
              "      <th>87962</th>\n",
              "      <td>25-20949</td>\n",
              "      <td>25</td>\n",
              "      <td>20949</td>\n",
              "    </tr>\n",
              "  </tbody>\n",
              "</table>\n",
              "<p>87963 rows × 3 columns</p>\n",
              "</div>\n",
              "      <button class=\"colab-df-convert\" onclick=\"convertToInteractive('df-b6302565-c4f7-4b43-b684-fbf63a15de27')\"\n",
              "              title=\"Convert this dataframe to an interactive table.\"\n",
              "              style=\"display:none;\">\n",
              "        \n",
              "  <svg xmlns=\"http://www.w3.org/2000/svg\" height=\"24px\"viewBox=\"0 0 24 24\"\n",
              "       width=\"24px\">\n",
              "    <path d=\"M0 0h24v24H0V0z\" fill=\"none\"/>\n",
              "    <path d=\"M18.56 5.44l.94 2.06.94-2.06 2.06-.94-2.06-.94-.94-2.06-.94 2.06-2.06.94zm-11 1L8.5 8.5l.94-2.06 2.06-.94-2.06-.94L8.5 2.5l-.94 2.06-2.06.94zm10 10l.94 2.06.94-2.06 2.06-.94-2.06-.94-.94-2.06-.94 2.06-2.06.94z\"/><path d=\"M17.41 7.96l-1.37-1.37c-.4-.4-.92-.59-1.43-.59-.52 0-1.04.2-1.43.59L10.3 9.45l-7.72 7.72c-.78.78-.78 2.05 0 2.83L4 21.41c.39.39.9.59 1.41.59.51 0 1.02-.2 1.41-.59l7.78-7.78 2.81-2.81c.8-.78.8-2.07 0-2.86zM5.41 20L4 18.59l7.72-7.72 1.47 1.35L5.41 20z\"/>\n",
              "  </svg>\n",
              "      </button>\n",
              "      \n",
              "  <style>\n",
              "    .colab-df-container {\n",
              "      display:flex;\n",
              "      flex-wrap:wrap;\n",
              "      gap: 12px;\n",
              "    }\n",
              "\n",
              "    .colab-df-convert {\n",
              "      background-color: #E8F0FE;\n",
              "      border: none;\n",
              "      border-radius: 50%;\n",
              "      cursor: pointer;\n",
              "      display: none;\n",
              "      fill: #1967D2;\n",
              "      height: 32px;\n",
              "      padding: 0 0 0 0;\n",
              "      width: 32px;\n",
              "    }\n",
              "\n",
              "    .colab-df-convert:hover {\n",
              "      background-color: #E2EBFA;\n",
              "      box-shadow: 0px 1px 2px rgba(60, 64, 67, 0.3), 0px 1px 3px 1px rgba(60, 64, 67, 0.15);\n",
              "      fill: #174EA6;\n",
              "    }\n",
              "\n",
              "    [theme=dark] .colab-df-convert {\n",
              "      background-color: #3B4455;\n",
              "      fill: #D2E3FC;\n",
              "    }\n",
              "\n",
              "    [theme=dark] .colab-df-convert:hover {\n",
              "      background-color: #434B5C;\n",
              "      box-shadow: 0px 1px 3px 1px rgba(0, 0, 0, 0.15);\n",
              "      filter: drop-shadow(0px 1px 2px rgba(0, 0, 0, 0.3));\n",
              "      fill: #FFFFFF;\n",
              "    }\n",
              "  </style>\n",
              "\n",
              "      <script>\n",
              "        const buttonEl =\n",
              "          document.querySelector('#df-b6302565-c4f7-4b43-b684-fbf63a15de27 button.colab-df-convert');\n",
              "        buttonEl.style.display =\n",
              "          google.colab.kernel.accessAllowed ? 'block' : 'none';\n",
              "\n",
              "        async function convertToInteractive(key) {\n",
              "          const element = document.querySelector('#df-b6302565-c4f7-4b43-b684-fbf63a15de27');\n",
              "          const dataTable =\n",
              "            await google.colab.kernel.invokeFunction('convertToInteractive',\n",
              "                                                     [key], {});\n",
              "          if (!dataTable) return;\n",
              "\n",
              "          const docLinkHtml = 'Like what you see? Visit the ' +\n",
              "            '<a target=\"_blank\" href=https://colab.research.google.com/notebooks/data_table.ipynb>data table notebook</a>'\n",
              "            + ' to learn more about interactive tables.';\n",
              "          element.innerHTML = '';\n",
              "          dataTable['output_type'] = 'display_data';\n",
              "          await google.colab.output.renderOutput(dataTable, element);\n",
              "          const docLink = document.createElement('div');\n",
              "          docLink.innerHTML = docLinkHtml;\n",
              "          element.appendChild(docLink);\n",
              "        }\n",
              "      </script>\n",
              "    </div>\n",
              "  </div>\n",
              "  "
            ]
          },
          "metadata": {},
          "execution_count": 207
        }
      ]
    },
    {
      "cell_type": "code",
      "source": [
        "df[\"UNIQUE_ID\"].nunique()"
      ],
      "metadata": {
        "execution": {
          "iopub.status.busy": "2023-04-18T19:34:09.469216Z",
          "iopub.execute_input": "2023-04-18T19:34:09.469623Z",
          "iopub.status.idle": "2023-04-18T19:34:09.487720Z",
          "shell.execute_reply.started": "2023-04-18T19:34:09.469591Z",
          "shell.execute_reply": "2023-04-18T19:34:09.486552Z"
        },
        "trusted": true,
        "colab": {
          "base_uri": "https://localhost:8080/"
        },
        "id": "dBn8zxlu5RJh",
        "outputId": "dc3918b2-8421-49a4-8073-c58d2040c562"
      },
      "execution_count": 208,
      "outputs": [
        {
          "output_type": "execute_result",
          "data": {
            "text/plain": [
              "299"
            ]
          },
          "metadata": {},
          "execution_count": 208
        }
      ]
    },
    {
      "cell_type": "markdown",
      "source": [
        "A continuación vamos a agrupar las ventas diarias por mes, en función de cada shop_id e item_id (groupby).\n",
        "\n",
        "Dado que vamos a entrenar nuestro modelo con variables mensuales, aprovechamos la operación para constuir un total de 5 variables: \n",
        "\n",
        "1. Ventas totales\n",
        "2. Ingresos totales (precio x cantidad)\n",
        "3. Días únicos que tuvieron ventas\n",
        "4. Total transacciones del mes \n",
        "5. Precio medio del mes"
      ],
      "metadata": {
        "papermill": {
          "duration": 0.01737,
          "end_time": "2022-12-25T18:21:15.684221",
          "exception": false,
          "start_time": "2022-12-25T18:21:15.666851",
          "status": "completed"
        },
        "tags": [],
        "id": "bLrmeBxE5RJi"
      }
    },
    {
      "cell_type": "code",
      "source": [
        "df[\"REVENUE\"] = df[\"ITEM_PRICE\"] * df[\"SALES\"]\n",
        "df[\"UNIQUE_DAYS_WITH_SALES\"] = df[\"DATE\"]\n",
        "df[\"TOTAL_TRANSACTIONS\"] = df[\"SALES\"]"
      ],
      "metadata": {
        "papermill": {
          "duration": 0.028708,
          "end_time": "2022-12-25T18:21:15.731134",
          "exception": false,
          "start_time": "2022-12-25T18:21:15.702426",
          "status": "completed"
        },
        "tags": [],
        "execution": {
          "iopub.status.busy": "2023-04-18T19:34:09.490623Z",
          "iopub.execute_input": "2023-04-18T19:34:09.491653Z",
          "iopub.status.idle": "2023-04-18T19:34:09.500827Z",
          "shell.execute_reply.started": "2023-04-18T19:34:09.491610Z",
          "shell.execute_reply": "2023-04-18T19:34:09.498979Z"
        },
        "trusted": true,
        "id": "d1UFfOiJ5RJi"
      },
      "execution_count": 209,
      "outputs": []
    },
    {
      "cell_type": "markdown",
      "source": [
        "Cuando trabajamos con Series Temporales y necesitamos agrupar las Series Temporales por día, semana, mes o año, podemos utilizar el groupby pero es mejor utilizar el [pandas resample](https://pandas.pydata.org/pandas-docs/stable/reference/api/pandas.DataFrame.resample.html).\n",
        "\n",
        "La síntaxis del pandas resample es muy sencilla, vamos a ver un ejemplo de como podríamos agrupar las ventas por semana."
      ],
      "metadata": {
        "papermill": {
          "duration": 0.018002,
          "end_time": "2022-12-25T18:21:15.767457",
          "exception": false,
          "start_time": "2022-12-25T18:21:15.749455",
          "status": "completed"
        },
        "tags": [],
        "id": "aVFXS6NX5RJj"
      }
    },
    {
      "cell_type": "code",
      "source": [
        "# Para utilizar el resample\n",
        "# 1. La fecha debe estar en el índice\n",
        "# 2. Debemos llamar el método resample y pasarle un regla:\n",
        "#    D -> Daily\n",
        "#    W -> Weekly\n",
        "#    M -> Monthly\n",
        "#    Y -> Yearly\n",
        "\n",
        "df.set_index(\"DATE\").resample(\"W\")[\"SALES\"].sum().plot(figsize = (12, 5), title = \"Weekly Sales\");"
      ],
      "metadata": {
        "papermill": {
          "duration": 0.496023,
          "end_time": "2022-12-25T18:21:16.281169",
          "exception": false,
          "start_time": "2022-12-25T18:21:15.785146",
          "status": "completed"
        },
        "tags": [],
        "execution": {
          "iopub.status.busy": "2023-04-18T19:34:09.506230Z",
          "iopub.execute_input": "2023-04-18T19:34:09.506891Z",
          "iopub.status.idle": "2023-04-18T19:34:09.923547Z",
          "shell.execute_reply.started": "2023-04-18T19:34:09.506848Z",
          "shell.execute_reply": "2023-04-18T19:34:09.922396Z"
        },
        "trusted": true,
        "colab": {
          "base_uri": "https://localhost:8080/",
          "height": 503
        },
        "id": "lDVL6U3u5RJk",
        "outputId": "096c0bb4-d07e-406c-ea4c-a8d00a83be81"
      },
      "execution_count": 210,
      "outputs": [
        {
          "output_type": "display_data",
          "data": {
            "text/plain": [
              "<Figure size 1200x500 with 1 Axes>"
            ],
            "image/png": "[encoded data removed]"
          },
          "metadata": {}
        }
      ]
    },
    {
      "cell_type": "markdown",
      "source": [
        "En el código anterior, hemos hecho el resample de todas las ventas.\n",
        "\n",
        "Pero nosotros debemos tener en cuenta el item_id y el shop_id antes de hacer el resample.\n",
        "\n",
        "Veamos como podemos combinar el groupby con resample."
      ],
      "metadata": {
        "papermill": {
          "duration": 0.017908,
          "end_time": "2022-12-25T18:21:16.317471",
          "exception": false,
          "start_time": "2022-12-25T18:21:16.299563",
          "status": "completed"
        },
        "tags": [],
        "id": "1f2Wxb1h5RJk"
      }
    },
    {
      "cell_type": "code",
      "source": [
        "# Implement in class\n",
        "\n",
        "df_monthly_agg = df.set_index(\"DATE\").groupby([\"UNIQUE_ID\"]).resample(\"M\").agg(\n",
        "    {\n",
        "        \"SALES\":np.sum,\n",
        "        \"REVENUE\":np.sum,\n",
        "        \"UNIQUE_DAYS_WITH_SALES\":lambda dates: len(set(dates)),\n",
        "        \"TOTAL_TRANSACTIONS\":len,\n",
        "        \"ITEM_PRICE\":np.mean\n",
        "    }\n",
        ").rename(\n",
        "    columns = {\n",
        "        \"SALES\":\"MONTHLY_SALES\",\n",
        "        \"REVENUE\":\"MONTHLY_REVENUE\",\n",
        "        \"ITEM_PRICE\":\"MONTHLY_MEAN_PRICE\"\n",
        "    }\n",
        ").reset_index()"
      ],
      "metadata": {
        "papermill": {
          "duration": 4.55125,
          "end_time": "2022-12-25T18:21:20.887573",
          "exception": false,
          "start_time": "2022-12-25T18:21:16.336323",
          "status": "completed"
        },
        "tags": [],
        "execution": {
          "iopub.status.busy": "2023-04-18T19:34:09.925348Z",
          "iopub.execute_input": "2023-04-18T19:34:09.925986Z",
          "iopub.status.idle": "2023-04-18T19:34:14.390729Z",
          "shell.execute_reply.started": "2023-04-18T19:34:09.925952Z",
          "shell.execute_reply": "2023-04-18T19:34:14.389816Z"
        },
        "trusted": true,
        "id": "pa3YWaqr5RJl"
      },
      "execution_count": 211,
      "outputs": []
    },
    {
      "cell_type": "code",
      "source": [
        "df_monthly_agg[\"CHECK\"] = df_monthly_agg[\"UNIQUE_DAYS_WITH_SALES\"] == df_monthly_agg[\"TOTAL_TRANSACTIONS\"]"
      ],
      "metadata": {
        "papermill": {
          "duration": 0.030662,
          "end_time": "2022-12-25T18:21:20.943511",
          "exception": false,
          "start_time": "2022-12-25T18:21:20.912849",
          "status": "completed"
        },
        "tags": [],
        "execution": {
          "iopub.status.busy": "2023-04-18T19:34:14.392418Z",
          "iopub.execute_input": "2023-04-18T19:34:14.392885Z",
          "iopub.status.idle": "2023-04-18T19:34:14.399421Z",
          "shell.execute_reply.started": "2023-04-18T19:34:14.392844Z",
          "shell.execute_reply": "2023-04-18T19:34:14.398224Z"
        },
        "trusted": true,
        "id": "OKs4MKqR5RJm"
      },
      "execution_count": 212,
      "outputs": []
    },
    {
      "cell_type": "code",
      "source": [
        "df_monthly_agg[df_monthly_agg[\"CHECK\"] == False].sample(5)"
      ],
      "metadata": {
        "papermill": {
          "duration": 0.044618,
          "end_time": "2022-12-25T18:21:21.007675",
          "exception": false,
          "start_time": "2022-12-25T18:21:20.963057",
          "status": "completed"
        },
        "tags": [],
        "execution": {
          "iopub.status.busy": "2023-04-18T19:34:14.400865Z",
          "iopub.execute_input": "2023-04-18T19:34:14.401173Z",
          "iopub.status.idle": "2023-04-18T19:34:14.421923Z",
          "shell.execute_reply.started": "2023-04-18T19:34:14.401146Z",
          "shell.execute_reply": "2023-04-18T19:34:14.420768Z"
        },
        "trusted": true,
        "colab": {
          "base_uri": "https://localhost:8080/",
          "height": 206
        },
        "id": "f0GeHUI35RJm",
        "outputId": "02d07e57-1d07-43b5-974b-61b5c31d4e92"
      },
      "execution_count": 213,
      "outputs": [
        {
          "output_type": "execute_result",
          "data": {
            "text/plain": [
              "     UNIQUE_ID       DATE  MONTHLY_SALES  MONTHLY_REVENUE  \\\n",
              "1511   24-2308 2013-01-31           36.0          28643.5   \n",
              "1728   24-5822 2013-03-31           15.0          15735.0   \n",
              "1546   24-2445 2013-04-30           32.0          19167.5   \n",
              "1545   24-2445 2013-03-31           59.0          70559.0   \n",
              "1513   24-2308 2013-03-31           14.0          11886.0   \n",
              "\n",
              "      UNIQUE_DAYS_WITH_SALES  TOTAL_TRANSACTIONS  MONTHLY_MEAN_PRICE  CHECK  \n",
              "1511                      20                  25          796.593333  False  \n",
              "1728                      10                  13         1049.000000  False  \n",
              "1546                      13                  18          598.990741  False  \n",
              "1545                      24                  34         1196.325490  False  \n",
              "1513                      12                  14          849.000000  False  "
            ],
            "text/html": [
              "\n",
              "  <div id=\"df-2409c2ea-aa28-4dac-af67-6e875c143e38\">\n",
              "    <div class=\"colab-df-container\">\n",
              "      <div>\n",
              "<style scoped>\n",
              "    .dataframe tbody tr th:only-of-type {\n",
              "        vertical-align: middle;\n",
              "    }\n",
              "\n",
              "    .dataframe tbody tr th {\n",
              "        vertical-align: top;\n",
              "    }\n",
              "\n",
              "    .dataframe thead th {\n",
              "        text-align: right;\n",
              "    }\n",
              "</style>\n",
              "<table border=\"1\" class=\"dataframe\">\n",
              "  <thead>\n",
              "    <tr style=\"text-align: right;\">\n",
              "      <th></th>\n",
              "      <th>UNIQUE_ID</th>\n",
              "      <th>DATE</th>\n",
              "      <th>MONTHLY_SALES</th>\n",
              "      <th>MONTHLY_REVENUE</th>\n",
              "      <th>UNIQUE_DAYS_WITH_SALES</th>\n",
              "      <th>TOTAL_TRANSACTIONS</th>\n",
              "      <th>MONTHLY_MEAN_PRICE</th>\n",
              "      <th>CHECK</th>\n",
              "    </tr>\n",
              "  </thead>\n",
              "  <tbody>\n",
              "    <tr>\n",
              "      <th>1511</th>\n",
              "      <td>24-2308</td>\n",
              "      <td>2013-01-31</td>\n",
              "      <td>36.0</td>\n",
              "      <td>28643.5</td>\n",
              "      <td>20</td>\n",
              "      <td>25</td>\n",
              "      <td>796.593333</td>\n",
              "      <td>False</td>\n",
              "    </tr>\n",
              "    <tr>\n",
              "      <th>1728</th>\n",
              "      <td>24-5822</td>\n",
              "      <td>2013-03-31</td>\n",
              "      <td>15.0</td>\n",
              "      <td>15735.0</td>\n",
              "      <td>10</td>\n",
              "      <td>13</td>\n",
              "      <td>1049.000000</td>\n",
              "      <td>False</td>\n",
              "    </tr>\n",
              "    <tr>\n",
              "      <th>1546</th>\n",
              "      <td>24-2445</td>\n",
              "      <td>2013-04-30</td>\n",
              "      <td>32.0</td>\n",
              "      <td>19167.5</td>\n",
              "      <td>13</td>\n",
              "      <td>18</td>\n",
              "      <td>598.990741</td>\n",
              "      <td>False</td>\n",
              "    </tr>\n",
              "    <tr>\n",
              "      <th>1545</th>\n",
              "      <td>24-2445</td>\n",
              "      <td>2013-03-31</td>\n",
              "      <td>59.0</td>\n",
              "      <td>70559.0</td>\n",
              "      <td>24</td>\n",
              "      <td>34</td>\n",
              "      <td>1196.325490</td>\n",
              "      <td>False</td>\n",
              "    </tr>\n",
              "    <tr>\n",
              "      <th>1513</th>\n",
              "      <td>24-2308</td>\n",
              "      <td>2013-03-31</td>\n",
              "      <td>14.0</td>\n",
              "      <td>11886.0</td>\n",
              "      <td>12</td>\n",
              "      <td>14</td>\n",
              "      <td>849.000000</td>\n",
              "      <td>False</td>\n",
              "    </tr>\n",
              "  </tbody>\n",
              "</table>\n",
              "</div>\n",
              "      <button class=\"colab-df-convert\" onclick=\"convertToInteractive('df-2409c2ea-aa28-4dac-af67-6e875c143e38')\"\n",
              "              title=\"Convert this dataframe to an interactive table.\"\n",
              "              style=\"display:none;\">\n",
              "        \n",
              "  <svg xmlns=\"http://www.w3.org/2000/svg\" height=\"24px\"viewBox=\"0 0 24 24\"\n",
              "       width=\"24px\">\n",
              "    <path d=\"M0 0h24v24H0V0z\" fill=\"none\"/>\n",
              "    <path d=\"M18.56 5.44l.94 2.06.94-2.06 2.06-.94-2.06-.94-.94-2.06-.94 2.06-2.06.94zm-11 1L8.5 8.5l.94-2.06 2.06-.94-2.06-.94L8.5 2.5l-.94 2.06-2.06.94zm10 10l.94 2.06.94-2.06 2.06-.94-2.06-.94-.94-2.06-.94 2.06-2.06.94z\"/><path d=\"M17.41 7.96l-1.37-1.37c-.4-.4-.92-.59-1.43-.59-.52 0-1.04.2-1.43.59L10.3 9.45l-7.72 7.72c-.78.78-.78 2.05 0 2.83L4 21.41c.39.39.9.59 1.41.59.51 0 1.02-.2 1.41-.59l7.78-7.78 2.81-2.81c.8-.78.8-2.07 0-2.86zM5.41 20L4 18.59l7.72-7.72 1.47 1.35L5.41 20z\"/>\n",
              "  </svg>\n",
              "      </button>\n",
              "      \n",
              "  <style>\n",
              "    .colab-df-container {\n",
              "      display:flex;\n",
              "      flex-wrap:wrap;\n",
              "      gap: 12px;\n",
              "    }\n",
              "\n",
              "    .colab-df-convert {\n",
              "      background-color: #E8F0FE;\n",
              "      border: none;\n",
              "      border-radius: 50%;\n",
              "      cursor: pointer;\n",
              "      display: none;\n",
              "      fill: #1967D2;\n",
              "      height: 32px;\n",
              "      padding: 0 0 0 0;\n",
              "      width: 32px;\n",
              "    }\n",
              "\n",
              "    .colab-df-convert:hover {\n",
              "      background-color: #E2EBFA;\n",
              "      box-shadow: 0px 1px 2px rgba(60, 64, 67, 0.3), 0px 1px 3px 1px rgba(60, 64, 67, 0.15);\n",
              "      fill: #174EA6;\n",
              "    }\n",
              "\n",
              "    [theme=dark] .colab-df-convert {\n",
              "      background-color: #3B4455;\n",
              "      fill: #D2E3FC;\n",
              "    }\n",
              "\n",
              "    [theme=dark] .colab-df-convert:hover {\n",
              "      background-color: #434B5C;\n",
              "      box-shadow: 0px 1px 3px 1px rgba(0, 0, 0, 0.15);\n",
              "      filter: drop-shadow(0px 1px 2px rgba(0, 0, 0, 0.3));\n",
              "      fill: #FFFFFF;\n",
              "    }\n",
              "  </style>\n",
              "\n",
              "      <script>\n",
              "        const buttonEl =\n",
              "          document.querySelector('#df-2409c2ea-aa28-4dac-af67-6e875c143e38 button.colab-df-convert');\n",
              "        buttonEl.style.display =\n",
              "          google.colab.kernel.accessAllowed ? 'block' : 'none';\n",
              "\n",
              "        async function convertToInteractive(key) {\n",
              "          const element = document.querySelector('#df-2409c2ea-aa28-4dac-af67-6e875c143e38');\n",
              "          const dataTable =\n",
              "            await google.colab.kernel.invokeFunction('convertToInteractive',\n",
              "                                                     [key], {});\n",
              "          if (!dataTable) return;\n",
              "\n",
              "          const docLinkHtml = 'Like what you see? Visit the ' +\n",
              "            '<a target=\"_blank\" href=https://colab.research.google.com/notebooks/data_table.ipynb>data table notebook</a>'\n",
              "            + ' to learn more about interactive tables.';\n",
              "          element.innerHTML = '';\n",
              "          dataTable['output_type'] = 'display_data';\n",
              "          await google.colab.output.renderOutput(dataTable, element);\n",
              "          const docLink = document.createElement('div');\n",
              "          docLink.innerHTML = docLinkHtml;\n",
              "          element.appendChild(docLink);\n",
              "        }\n",
              "      </script>\n",
              "    </div>\n",
              "  </div>\n",
              "  "
            ]
          },
          "metadata": {},
          "execution_count": 213
        }
      ]
    },
    {
      "cell_type": "markdown",
      "source": [
        "A continuación vamos a tener que comprobar si tenemos todas las fechas en nuestro dataset o no.\n",
        "\n",
        "Dado que nuestro dataset va desde Enero'13 - Septiembre'15, son un total de 33 meses."
      ],
      "metadata": {
        "papermill": {
          "duration": 0.019248,
          "end_time": "2022-12-25T18:21:21.046117",
          "exception": false,
          "start_time": "2022-12-25T18:21:21.026869",
          "status": "completed"
        },
        "tags": [],
        "id": "LX6bD-Da5RJn"
      }
    },
    {
      "cell_type": "code",
      "source": [
        "check_months = df_monthly_agg.groupby(\"UNIQUE_ID\").size()\n",
        "check_months.sample(3)"
      ],
      "metadata": {
        "papermill": {
          "duration": 0.036543,
          "end_time": "2022-12-25T18:21:21.102201",
          "exception": false,
          "start_time": "2022-12-25T18:21:21.065658",
          "status": "completed"
        },
        "tags": [],
        "execution": {
          "iopub.status.busy": "2023-04-18T19:34:14.423456Z",
          "iopub.execute_input": "2023-04-18T19:34:14.423910Z",
          "iopub.status.idle": "2023-04-18T19:34:14.437453Z",
          "shell.execute_reply.started": "2023-04-18T19:34:14.423877Z",
          "shell.execute_reply": "2023-04-18T19:34:14.436370Z"
        },
        "trusted": true,
        "colab": {
          "base_uri": "https://localhost:8080/"
        },
        "id": "t9ACxDV05RJo",
        "outputId": "544b078c-b1b5-45b0-c4d6-7917d47f6d69"
      },
      "execution_count": 214,
      "outputs": [
        {
          "output_type": "execute_result",
          "data": {
            "text/plain": [
              "UNIQUE_ID\n",
              "22-13370    33\n",
              "38-17717    33\n",
              "22-4178     26\n",
              "dtype: int64"
            ]
          },
          "metadata": {},
          "execution_count": 214
        }
      ]
    },
    {
      "cell_type": "code",
      "source": [
        "check_months[check_months != 33].shape"
      ],
      "metadata": {
        "papermill": {
          "duration": 0.032016,
          "end_time": "2022-12-25T18:21:21.154019",
          "exception": false,
          "start_time": "2022-12-25T18:21:21.122003",
          "status": "completed"
        },
        "tags": [],
        "execution": {
          "iopub.status.busy": "2023-04-18T19:34:14.439161Z",
          "iopub.execute_input": "2023-04-18T19:34:14.439959Z",
          "iopub.status.idle": "2023-04-18T19:34:14.447999Z",
          "shell.execute_reply.started": "2023-04-18T19:34:14.439924Z",
          "shell.execute_reply": "2023-04-18T19:34:14.446959Z"
        },
        "trusted": true,
        "colab": {
          "base_uri": "https://localhost:8080/"
        },
        "id": "XfYSv9pp5RJp",
        "outputId": "5dd1cd89-926d-40ae-c260-0c58fc2ba985"
      },
      "execution_count": 215,
      "outputs": [
        {
          "output_type": "execute_result",
          "data": {
            "text/plain": [
              "(173,)"
            ]
          },
          "metadata": {},
          "execution_count": 215
        }
      ]
    },
    {
      "cell_type": "markdown",
      "source": [
        "Tenemos un total de 173 Series Temporales incompletas (es decir, les falta por lo menos 1 mes de registros).\n",
        "\n",
        "El motivo de estos, es que sólo tenemos las ventas reportadas. Si un día o en un mes no se producen ventas, no tenemos estos registros en nuestro df original.\n",
        "\n",
        "A continuación vamos a generar un dataframe con todos los registros históricos y también con el mes de Octubre'2015 (mes de predict)."
      ],
      "metadata": {
        "execution": {
          "iopub.execute_input": "2022-12-25T12:39:50.438445Z",
          "iopub.status.busy": "2022-12-25T12:39:50.438087Z",
          "iopub.status.idle": "2022-12-25T12:39:50.445116Z",
          "shell.execute_reply": "2022-12-25T12:39:50.44424Z",
          "shell.execute_reply.started": "2022-12-25T12:39:50.438417Z"
        },
        "papermill": {
          "duration": 0.019068,
          "end_time": "2022-12-25T18:21:21.192537",
          "exception": false,
          "start_time": "2022-12-25T18:21:21.173469",
          "status": "completed"
        },
        "tags": [],
        "id": "wLzCZcH_5RJp"
      }
    },
    {
      "cell_type": "code",
      "source": [
        "# generamos un rango con todas las fechas incluídas en el predict (Octubre'2015)\n",
        "DATE_PREDICTION = np.datetime64(\"2015-10-31\")\n",
        "date_range = pd.date_range(MIN_DATE, DATE_PREDICTION, freq = \"M\")\n",
        "date_range"
      ],
      "metadata": {
        "papermill": {
          "duration": 0.032982,
          "end_time": "2022-12-25T18:21:21.244833",
          "exception": false,
          "start_time": "2022-12-25T18:21:21.211851",
          "status": "completed"
        },
        "tags": [],
        "execution": {
          "iopub.status.busy": "2023-04-18T19:34:14.449659Z",
          "iopub.execute_input": "2023-04-18T19:34:14.450387Z",
          "iopub.status.idle": "2023-04-18T19:34:14.460917Z",
          "shell.execute_reply.started": "2023-04-18T19:34:14.450343Z",
          "shell.execute_reply": "2023-04-18T19:34:14.459790Z"
        },
        "trusted": true,
        "colab": {
          "base_uri": "https://localhost:8080/"
        },
        "id": "9OJWxBdj5RJq",
        "outputId": "66719321-4bc6-413e-9da1-d69c154b68ca"
      },
      "execution_count": 216,
      "outputs": [
        {
          "output_type": "execute_result",
          "data": {
            "text/plain": [
              "DatetimeIndex(['2013-01-31', '2013-02-28', '2013-03-31', '2013-04-30',\n",
              "               '2013-05-31', '2013-06-30', '2013-07-31', '2013-08-31',\n",
              "               '2013-09-30', '2013-10-31', '2013-11-30', '2013-12-31',\n",
              "               '2014-01-31', '2014-02-28', '2014-03-31', '2014-04-30',\n",
              "               '2014-05-31', '2014-06-30', '2014-07-31', '2014-08-31',\n",
              "               '2014-09-30', '2014-10-31', '2014-11-30', '2014-12-31',\n",
              "               '2015-01-31', '2015-02-28', '2015-03-31', '2015-04-30',\n",
              "               '2015-05-31', '2015-06-30', '2015-07-31', '2015-08-31',\n",
              "               '2015-09-30', '2015-10-31'],\n",
              "              dtype='datetime64[ns]', freq='M')"
            ]
          },
          "metadata": {},
          "execution_count": 216
        }
      ]
    },
    {
      "cell_type": "code",
      "source": [
        "# sacamos todas las combinaciones únicas que tenemos en nuestro dataframe (299 combinaciones, una por cada serie temporal)\n",
        "unique_id = sorted(df_monthly_agg[\"UNIQUE_ID\"].unique())\n",
        "unique_id[:3]"
      ],
      "metadata": {
        "papermill": {
          "duration": 0.043799,
          "end_time": "2022-12-25T18:21:21.32129",
          "exception": false,
          "start_time": "2022-12-25T18:21:21.277491",
          "status": "completed"
        },
        "tags": [],
        "execution": {
          "iopub.status.busy": "2023-04-18T19:34:14.462195Z",
          "iopub.execute_input": "2023-04-18T19:34:14.463186Z",
          "iopub.status.idle": "2023-04-18T19:34:14.472679Z",
          "shell.execute_reply.started": "2023-04-18T19:34:14.463138Z",
          "shell.execute_reply": "2023-04-18T19:34:14.471518Z"
        },
        "trusted": true,
        "colab": {
          "base_uri": "https://localhost:8080/"
        },
        "id": "JqOBuAi75RJr",
        "outputId": "400e60b3-5846-4588-a83b-f7853367e98c"
      },
      "execution_count": 217,
      "outputs": [
        {
          "output_type": "execute_result",
          "data": {
            "text/plain": [
              "['11-20949', '11-4181', '12-11365']"
            ]
          },
          "metadata": {},
          "execution_count": 217
        }
      ]
    },
    {
      "cell_type": "code",
      "source": [
        "len(unique_id)"
      ],
      "metadata": {
        "papermill": {
          "duration": 0.032819,
          "end_time": "2022-12-25T18:21:21.385147",
          "exception": false,
          "start_time": "2022-12-25T18:21:21.352328",
          "status": "completed"
        },
        "tags": [],
        "execution": {
          "iopub.status.busy": "2023-04-18T19:34:14.474402Z",
          "iopub.execute_input": "2023-04-18T19:34:14.474871Z",
          "iopub.status.idle": "2023-04-18T19:34:14.483236Z",
          "shell.execute_reply.started": "2023-04-18T19:34:14.474830Z",
          "shell.execute_reply": "2023-04-18T19:34:14.482141Z"
        },
        "trusted": true,
        "colab": {
          "base_uri": "https://localhost:8080/"
        },
        "id": "hNLmoh7Y5RJt",
        "outputId": "699c6f4c-b8eb-4ba5-e3c6-7274edb57824"
      },
      "execution_count": 218,
      "outputs": [
        {
          "output_type": "execute_result",
          "data": {
            "text/plain": [
              "299"
            ]
          },
          "metadata": {},
          "execution_count": 218
        }
      ]
    },
    {
      "cell_type": "markdown",
      "source": [
        "Generamos todas las combinaciones entre meses e unique_id.\n",
        "\n",
        "Es decir, necesitamos sacar un [producto cartesiano](https://es.wikipedia.org/wiki/Producto_cartesiano)."
      ],
      "metadata": {
        "execution": {
          "iopub.execute_input": "2022-12-25T12:47:26.011459Z",
          "iopub.status.busy": "2022-12-25T12:47:26.01108Z",
          "iopub.status.idle": "2022-12-25T12:47:26.019833Z",
          "shell.execute_reply": "2022-12-25T12:47:26.018601Z",
          "shell.execute_reply.started": "2022-12-25T12:47:26.011427Z"
        },
        "papermill": {
          "duration": 0.020497,
          "end_time": "2022-12-25T18:21:21.426175",
          "exception": false,
          "start_time": "2022-12-25T18:21:21.405678",
          "status": "completed"
        },
        "tags": [],
        "id": "uJLJZflB5RJx"
      }
    },
    {
      "cell_type": "code",
      "source": [
        "cartesian_product = pd.MultiIndex.from_product([date_range, unique_id], names = [\"DATE\", \"UNIQUE_ID\"])\n",
        "len(cartesian_product)"
      ],
      "metadata": {
        "papermill": {
          "duration": 0.035519,
          "end_time": "2022-12-25T18:21:21.482061",
          "exception": false,
          "start_time": "2022-12-25T18:21:21.446542",
          "status": "completed"
        },
        "tags": [],
        "execution": {
          "iopub.status.busy": "2023-04-18T19:34:14.484677Z",
          "iopub.execute_input": "2023-04-18T19:34:14.485027Z",
          "iopub.status.idle": "2023-04-18T19:34:14.496644Z",
          "shell.execute_reply.started": "2023-04-18T19:34:14.484997Z",
          "shell.execute_reply": "2023-04-18T19:34:14.495720Z"
        },
        "trusted": true,
        "colab": {
          "base_uri": "https://localhost:8080/"
        },
        "id": "bjXuOfca5RJy",
        "outputId": "c7f15540-5435-41f0-aa8e-6ad9976b3f90"
      },
      "execution_count": 219,
      "outputs": [
        {
          "output_type": "execute_result",
          "data": {
            "text/plain": [
              "10166"
            ]
          },
          "metadata": {},
          "execution_count": 219
        }
      ]
    },
    {
      "cell_type": "code",
      "source": [
        "# 10166 son 34 meses por todas las combinaciones de unique_id\n",
        "34 * 299"
      ],
      "metadata": {
        "papermill": {
          "duration": 0.03231,
          "end_time": "2022-12-25T18:21:21.536639",
          "exception": false,
          "start_time": "2022-12-25T18:21:21.504329",
          "status": "completed"
        },
        "tags": [],
        "execution": {
          "iopub.status.busy": "2023-04-18T19:34:14.498122Z",
          "iopub.execute_input": "2023-04-18T19:34:14.498463Z",
          "iopub.status.idle": "2023-04-18T19:34:14.505437Z",
          "shell.execute_reply.started": "2023-04-18T19:34:14.498434Z",
          "shell.execute_reply": "2023-04-18T19:34:14.504415Z"
        },
        "trusted": true,
        "colab": {
          "base_uri": "https://localhost:8080/"
        },
        "id": "Yr6qJDec5RJy",
        "outputId": "3eb884d6-5dab-4121-ec5e-22e11523ba12"
      },
      "execution_count": 220,
      "outputs": [
        {
          "output_type": "execute_result",
          "data": {
            "text/plain": [
              "10166"
            ]
          },
          "metadata": {},
          "execution_count": 220
        }
      ]
    },
    {
      "cell_type": "markdown",
      "source": [
        "Cruzamos nuestro producto cartesiano con el dataframe agrupado por meses y que contiene las ventas históricas."
      ],
      "metadata": {
        "papermill": {
          "duration": 0.02106,
          "end_time": "2022-12-25T18:21:21.580615",
          "exception": false,
          "start_time": "2022-12-25T18:21:21.559555",
          "status": "completed"
        },
        "tags": [],
        "id": "Y_wYyO3M5RJz"
      }
    },
    {
      "cell_type": "code",
      "source": [
        "full_df = pd.DataFrame(index = cartesian_product).reset_index()\n",
        "\n",
        "print(full_df.shape)\n",
        "\n",
        "full_df = pd.merge(full_df, df_monthly_agg, on = ['DATE','UNIQUE_ID'], how = 'left')\n",
        "\n",
        "print(full_df.shape)"
      ],
      "metadata": {
        "papermill": {
          "duration": 0.04688,
          "end_time": "2022-12-25T18:21:21.649377",
          "exception": false,
          "start_time": "2022-12-25T18:21:21.602497",
          "status": "completed"
        },
        "tags": [],
        "execution": {
          "iopub.status.busy": "2023-04-18T19:34:14.507275Z",
          "iopub.execute_input": "2023-04-18T19:34:14.507699Z",
          "iopub.status.idle": "2023-04-18T19:34:14.525339Z",
          "shell.execute_reply.started": "2023-04-18T19:34:14.507657Z",
          "shell.execute_reply": "2023-04-18T19:34:14.524252Z"
        },
        "trusted": true,
        "colab": {
          "base_uri": "https://localhost:8080/"
        },
        "id": "AtI8dGck5RJz",
        "outputId": "9213e6ca-aae4-4b59-db3c-7d6f54e39c98"
      },
      "execution_count": 221,
      "outputs": [
        {
          "output_type": "stream",
          "name": "stdout",
          "text": [
            "(10166, 2)\n",
            "(10166, 8)\n"
          ]
        }
      ]
    },
    {
      "cell_type": "code",
      "source": [
        "full_df.sample(5)"
      ],
      "metadata": {
        "papermill": {
          "duration": 0.045423,
          "end_time": "2022-12-25T18:21:21.715354",
          "exception": false,
          "start_time": "2022-12-25T18:21:21.669931",
          "status": "completed"
        },
        "tags": [],
        "execution": {
          "iopub.status.busy": "2023-04-18T19:34:14.527173Z",
          "iopub.execute_input": "2023-04-18T19:34:14.527617Z",
          "iopub.status.idle": "2023-04-18T19:34:14.548058Z",
          "shell.execute_reply.started": "2023-04-18T19:34:14.527572Z",
          "shell.execute_reply": "2023-04-18T19:34:14.546971Z"
        },
        "trusted": true,
        "colab": {
          "base_uri": "https://localhost:8080/",
          "height": 206
        },
        "id": "Avi2C-mO5RJ0",
        "outputId": "8e6f52f2-10e3-4d90-db2f-f151ea4acc19"
      },
      "execution_count": 222,
      "outputs": [
        {
          "output_type": "execute_result",
          "data": {
            "text/plain": [
              "           DATE UNIQUE_ID  MONTHLY_SALES  MONTHLY_REVENUE  \\\n",
              "9757 2015-09-30   42-2808            NaN              NaN   \n",
              "6957 2014-12-31   25-5822           34.0          35666.0   \n",
              "5397 2014-07-31   15-4178            9.0          13992.0   \n",
              "5685 2014-08-31  12-11370          122.0          42650.0   \n",
              "9050 2015-07-31   25-5822           12.0          13788.0   \n",
              "\n",
              "      UNIQUE_DAYS_WITH_SALES  TOTAL_TRANSACTIONS  MONTHLY_MEAN_PRICE CHECK  \n",
              "9757                     NaN                 NaN                 NaN   NaN  \n",
              "6957                    15.0                15.0         1049.000000  True  \n",
              "5397                     9.0                 9.0         1554.666667  True  \n",
              "5685                    18.0                18.0          527.875215  True  \n",
              "9050                    10.0                10.0         1149.000000  True  "
            ],
            "text/html": [
              "\n",
              "  <div id=\"df-d09d66b2-aa81-4d56-99f6-a675973f2cbb\">\n",
              "    <div class=\"colab-df-container\">\n",
              "      <div>\n",
              "<style scoped>\n",
              "    .dataframe tbody tr th:only-of-type {\n",
              "        vertical-align: middle;\n",
              "    }\n",
              "\n",
              "    .dataframe tbody tr th {\n",
              "        vertical-align: top;\n",
              "    }\n",
              "\n",
              "    .dataframe thead th {\n",
              "        text-align: right;\n",
              "    }\n",
              "</style>\n",
              "<table border=\"1\" class=\"dataframe\">\n",
              "  <thead>\n",
              "    <tr style=\"text-align: right;\">\n",
              "      <th></th>\n",
              "      <th>DATE</th>\n",
              "      <th>UNIQUE_ID</th>\n",
              "      <th>MONTHLY_SALES</th>\n",
              "      <th>MONTHLY_REVENUE</th>\n",
              "      <th>UNIQUE_DAYS_WITH_SALES</th>\n",
              "      <th>TOTAL_TRANSACTIONS</th>\n",
              "      <th>MONTHLY_MEAN_PRICE</th>\n",
              "      <th>CHECK</th>\n",
              "    </tr>\n",
              "  </thead>\n",
              "  <tbody>\n",
              "    <tr>\n",
              "      <th>9757</th>\n",
              "      <td>2015-09-30</td>\n",
              "      <td>42-2808</td>\n",
              "      <td>NaN</td>\n",
              "      <td>NaN</td>\n",
              "      <td>NaN</td>\n",
              "      <td>NaN</td>\n",
              "      <td>NaN</td>\n",
              "      <td>NaN</td>\n",
              "    </tr>\n",
              "    <tr>\n",
              "      <th>6957</th>\n",
              "      <td>2014-12-31</td>\n",
              "      <td>25-5822</td>\n",
              "      <td>34.0</td>\n",
              "      <td>35666.0</td>\n",
              "      <td>15.0</td>\n",
              "      <td>15.0</td>\n",
              "      <td>1049.000000</td>\n",
              "      <td>True</td>\n",
              "    </tr>\n",
              "    <tr>\n",
              "      <th>5397</th>\n",
              "      <td>2014-07-31</td>\n",
              "      <td>15-4178</td>\n",
              "      <td>9.0</td>\n",
              "      <td>13992.0</td>\n",
              "      <td>9.0</td>\n",
              "      <td>9.0</td>\n",
              "      <td>1554.666667</td>\n",
              "      <td>True</td>\n",
              "    </tr>\n",
              "    <tr>\n",
              "      <th>5685</th>\n",
              "      <td>2014-08-31</td>\n",
              "      <td>12-11370</td>\n",
              "      <td>122.0</td>\n",
              "      <td>42650.0</td>\n",
              "      <td>18.0</td>\n",
              "      <td>18.0</td>\n",
              "      <td>527.875215</td>\n",
              "      <td>True</td>\n",
              "    </tr>\n",
              "    <tr>\n",
              "      <th>9050</th>\n",
              "      <td>2015-07-31</td>\n",
              "      <td>25-5822</td>\n",
              "      <td>12.0</td>\n",
              "      <td>13788.0</td>\n",
              "      <td>10.0</td>\n",
              "      <td>10.0</td>\n",
              "      <td>1149.000000</td>\n",
              "      <td>True</td>\n",
              "    </tr>\n",
              "  </tbody>\n",
              "</table>\n",
              "</div>\n",
              "      <button class=\"colab-df-convert\" onclick=\"convertToInteractive('df-d09d66b2-aa81-4d56-99f6-a675973f2cbb')\"\n",
              "              title=\"Convert this dataframe to an interactive table.\"\n",
              "              style=\"display:none;\">\n",
              "        \n",
              "  <svg xmlns=\"http://www.w3.org/2000/svg\" height=\"24px\"viewBox=\"0 0 24 24\"\n",
              "       width=\"24px\">\n",
              "    <path d=\"M0 0h24v24H0V0z\" fill=\"none\"/>\n",
              "    <path d=\"M18.56 5.44l.94 2.06.94-2.06 2.06-.94-2.06-.94-.94-2.06-.94 2.06-2.06.94zm-11 1L8.5 8.5l.94-2.06 2.06-.94-2.06-.94L8.5 2.5l-.94 2.06-2.06.94zm10 10l.94 2.06.94-2.06 2.06-.94-2.06-.94-.94-2.06-.94 2.06-2.06.94z\"/><path d=\"M17.41 7.96l-1.37-1.37c-.4-.4-.92-.59-1.43-.59-.52 0-1.04.2-1.43.59L10.3 9.45l-7.72 7.72c-.78.78-.78 2.05 0 2.83L4 21.41c.39.39.9.59 1.41.59.51 0 1.02-.2 1.41-.59l7.78-7.78 2.81-2.81c.8-.78.8-2.07 0-2.86zM5.41 20L4 18.59l7.72-7.72 1.47 1.35L5.41 20z\"/>\n",
              "  </svg>\n",
              "      </button>\n",
              "      \n",
              "  <style>\n",
              "    .colab-df-container {\n",
              "      display:flex;\n",
              "      flex-wrap:wrap;\n",
              "      gap: 12px;\n",
              "    }\n",
              "\n",
              "    .colab-df-convert {\n",
              "      background-color: #E8F0FE;\n",
              "      border: none;\n",
              "      border-radius: 50%;\n",
              "      cursor: pointer;\n",
              "      display: none;\n",
              "      fill: #1967D2;\n",
              "      height: 32px;\n",
              "      padding: 0 0 0 0;\n",
              "      width: 32px;\n",
              "    }\n",
              "\n",
              "    .colab-df-convert:hover {\n",
              "      background-color: #E2EBFA;\n",
              "      box-shadow: 0px 1px 2px rgba(60, 64, 67, 0.3), 0px 1px 3px 1px rgba(60, 64, 67, 0.15);\n",
              "      fill: #174EA6;\n",
              "    }\n",
              "\n",
              "    [theme=dark] .colab-df-convert {\n",
              "      background-color: #3B4455;\n",
              "      fill: #D2E3FC;\n",
              "    }\n",
              "\n",
              "    [theme=dark] .colab-df-convert:hover {\n",
              "      background-color: #434B5C;\n",
              "      box-shadow: 0px 1px 3px 1px rgba(0, 0, 0, 0.15);\n",
              "      filter: drop-shadow(0px 1px 2px rgba(0, 0, 0, 0.3));\n",
              "      fill: #FFFFFF;\n",
              "    }\n",
              "  </style>\n",
              "\n",
              "      <script>\n",
              "        const buttonEl =\n",
              "          document.querySelector('#df-d09d66b2-aa81-4d56-99f6-a675973f2cbb button.colab-df-convert');\n",
              "        buttonEl.style.display =\n",
              "          google.colab.kernel.accessAllowed ? 'block' : 'none';\n",
              "\n",
              "        async function convertToInteractive(key) {\n",
              "          const element = document.querySelector('#df-d09d66b2-aa81-4d56-99f6-a675973f2cbb');\n",
              "          const dataTable =\n",
              "            await google.colab.kernel.invokeFunction('convertToInteractive',\n",
              "                                                     [key], {});\n",
              "          if (!dataTable) return;\n",
              "\n",
              "          const docLinkHtml = 'Like what you see? Visit the ' +\n",
              "            '<a target=\"_blank\" href=https://colab.research.google.com/notebooks/data_table.ipynb>data table notebook</a>'\n",
              "            + ' to learn more about interactive tables.';\n",
              "          element.innerHTML = '';\n",
              "          dataTable['output_type'] = 'display_data';\n",
              "          await google.colab.output.renderOutput(dataTable, element);\n",
              "          const docLink = document.createElement('div');\n",
              "          docLink.innerHTML = docLinkHtml;\n",
              "          element.appendChild(docLink);\n",
              "        }\n",
              "      </script>\n",
              "    </div>\n",
              "  </div>\n",
              "  "
            ]
          },
          "metadata": {},
          "execution_count": 222
        }
      ]
    },
    {
      "cell_type": "markdown",
      "source": [
        "Hemos agrupado nuestras ventas, pero hemos perdido algo de información del dataset original.\n",
        "\n",
        "Vamos a enriquecer nuestro full_df con más información."
      ],
      "metadata": {
        "papermill": {
          "duration": 0.020062,
          "end_time": "2022-12-25T18:21:21.756123",
          "exception": false,
          "start_time": "2022-12-25T18:21:21.736061",
          "status": "completed"
        },
        "tags": [],
        "id": "bmX_kvpU5RJ0"
      }
    },
    {
      "cell_type": "code",
      "source": [
        "add_info = df[\n",
        "    [\"UNIQUE_ID\", \"CITY_NAME\", \"CITY_ID\", \"SHOP_NAME\", \"SHOP_ID\", \"ITEM_CATEGORY_NAME\", \"ITEM_CATEGORY_ID\", \"ITEM_NAME\", \"ITEM_ID\"]\n",
        "].drop_duplicates()\n",
        "\n",
        "add_info.head(3)"
      ],
      "metadata": {
        "papermill": {
          "duration": 0.109354,
          "end_time": "2022-12-25T18:21:21.885801",
          "exception": false,
          "start_time": "2022-12-25T18:21:21.776447",
          "status": "completed"
        },
        "tags": [],
        "execution": {
          "iopub.status.busy": "2023-04-18T19:34:14.549794Z",
          "iopub.execute_input": "2023-04-18T19:34:14.550965Z",
          "iopub.status.idle": "2023-04-18T19:34:14.628900Z",
          "shell.execute_reply.started": "2023-04-18T19:34:14.550915Z",
          "shell.execute_reply": "2023-04-18T19:34:14.627806Z"
        },
        "trusted": true,
        "colab": {
          "base_uri": "https://localhost:8080/",
          "height": 144
        },
        "id": "vDg7PtOD5RJ0",
        "outputId": "0d66a450-69b2-49a4-9f07-79d89d08bb84"
      },
      "execution_count": 223,
      "outputs": [
        {
          "output_type": "execute_result",
          "data": {
            "text/plain": [
              "   UNIQUE_ID CITY_NAME  CITY_ID           SHOP_NAME  SHOP_ID  \\\n",
              "0    25-2574     Moscú      7.0  Moscú SEC \"Atrium\"       25   \n",
              "10   25-2808     Moscú      7.0  Moscú SEC \"Atrium\"       25   \n",
              "28   25-2308     Moscú      7.0  Moscú SEC \"Atrium\"       25   \n",
              "\n",
              "                    ITEM_CATEGORY_NAME  ITEM_CATEGORY_ID  \\\n",
              "0   Música - CD de la producción local                55   \n",
              "10        Juegos PC - Standard Edition                30   \n",
              "28        Juegos PC - Standard Edition                30   \n",
              "\n",
              "                                            ITEM_NAME  ITEM_ID  \n",
              "0   Del Rey Lana Nació para morir la edición de Pa...     2574  \n",
              "10               Diablo III [PC, JEWEL, versión rusa]     2808  \n",
              "28  Call of Duty: Black Ops II [PC, Jewel, versión...     2308  "
            ],
            "text/html": [
              "\n",
              "  <div id=\"df-0a027fcc-c669-4071-b0f1-e9e0ac96df4a\">\n",
              "    <div class=\"colab-df-container\">\n",
              "      <div>\n",
              "<style scoped>\n",
              "    .dataframe tbody tr th:only-of-type {\n",
              "        vertical-align: middle;\n",
              "    }\n",
              "\n",
              "    .dataframe tbody tr th {\n",
              "        vertical-align: top;\n",
              "    }\n",
              "\n",
              "    .dataframe thead th {\n",
              "        text-align: right;\n",
              "    }\n",
              "</style>\n",
              "<table border=\"1\" class=\"dataframe\">\n",
              "  <thead>\n",
              "    <tr style=\"text-align: right;\">\n",
              "      <th></th>\n",
              "      <th>UNIQUE_ID</th>\n",
              "      <th>CITY_NAME</th>\n",
              "      <th>CITY_ID</th>\n",
              "      <th>SHOP_NAME</th>\n",
              "      <th>SHOP_ID</th>\n",
              "      <th>ITEM_CATEGORY_NAME</th>\n",
              "      <th>ITEM_CATEGORY_ID</th>\n",
              "      <th>ITEM_NAME</th>\n",
              "      <th>ITEM_ID</th>\n",
              "    </tr>\n",
              "  </thead>\n",
              "  <tbody>\n",
              "    <tr>\n",
              "      <th>0</th>\n",
              "      <td>25-2574</td>\n",
              "      <td>Moscú</td>\n",
              "      <td>7.0</td>\n",
              "      <td>Moscú SEC \"Atrium\"</td>\n",
              "      <td>25</td>\n",
              "      <td>Música - CD de la producción local</td>\n",
              "      <td>55</td>\n",
              "      <td>Del Rey Lana Nació para morir la edición de Pa...</td>\n",
              "      <td>2574</td>\n",
              "    </tr>\n",
              "    <tr>\n",
              "      <th>10</th>\n",
              "      <td>25-2808</td>\n",
              "      <td>Moscú</td>\n",
              "      <td>7.0</td>\n",
              "      <td>Moscú SEC \"Atrium\"</td>\n",
              "      <td>25</td>\n",
              "      <td>Juegos PC - Standard Edition</td>\n",
              "      <td>30</td>\n",
              "      <td>Diablo III [PC, JEWEL, versión rusa]</td>\n",
              "      <td>2808</td>\n",
              "    </tr>\n",
              "    <tr>\n",
              "      <th>28</th>\n",
              "      <td>25-2308</td>\n",
              "      <td>Moscú</td>\n",
              "      <td>7.0</td>\n",
              "      <td>Moscú SEC \"Atrium\"</td>\n",
              "      <td>25</td>\n",
              "      <td>Juegos PC - Standard Edition</td>\n",
              "      <td>30</td>\n",
              "      <td>Call of Duty: Black Ops II [PC, Jewel, versión...</td>\n",
              "      <td>2308</td>\n",
              "    </tr>\n",
              "  </tbody>\n",
              "</table>\n",
              "</div>\n",
              "      <button class=\"colab-df-convert\" onclick=\"convertToInteractive('df-0a027fcc-c669-4071-b0f1-e9e0ac96df4a')\"\n",
              "              title=\"Convert this dataframe to an interactive table.\"\n",
              "              style=\"display:none;\">\n",
              "        \n",
              "  <svg xmlns=\"http://www.w3.org/2000/svg\" height=\"24px\"viewBox=\"0 0 24 24\"\n",
              "       width=\"24px\">\n",
              "    <path d=\"M0 0h24v24H0V0z\" fill=\"none\"/>\n",
              "    <path d=\"M18.56 5.44l.94 2.06.94-2.06 2.06-.94-2.06-.94-.94-2.06-.94 2.06-2.06.94zm-11 1L8.5 8.5l.94-2.06 2.06-.94-2.06-.94L8.5 2.5l-.94 2.06-2.06.94zm10 10l.94 2.06.94-2.06 2.06-.94-2.06-.94-.94-2.06-.94 2.06-2.06.94z\"/><path d=\"M17.41 7.96l-1.37-1.37c-.4-.4-.92-.59-1.43-.59-.52 0-1.04.2-1.43.59L10.3 9.45l-7.72 7.72c-.78.78-.78 2.05 0 2.83L4 21.41c.39.39.9.59 1.41.59.51 0 1.02-.2 1.41-.59l7.78-7.78 2.81-2.81c.8-.78.8-2.07 0-2.86zM5.41 20L4 18.59l7.72-7.72 1.47 1.35L5.41 20z\"/>\n",
              "  </svg>\n",
              "      </button>\n",
              "      \n",
              "  <style>\n",
              "    .colab-df-container {\n",
              "      display:flex;\n",
              "      flex-wrap:wrap;\n",
              "      gap: 12px;\n",
              "    }\n",
              "\n",
              "    .colab-df-convert {\n",
              "      background-color: #E8F0FE;\n",
              "      border: none;\n",
              "      border-radius: 50%;\n",
              "      cursor: pointer;\n",
              "      display: none;\n",
              "      fill: #1967D2;\n",
              "      height: 32px;\n",
              "      padding: 0 0 0 0;\n",
              "      width: 32px;\n",
              "    }\n",
              "\n",
              "    .colab-df-convert:hover {\n",
              "      background-color: #E2EBFA;\n",
              "      box-shadow: 0px 1px 2px rgba(60, 64, 67, 0.3), 0px 1px 3px 1px rgba(60, 64, 67, 0.15);\n",
              "      fill: #174EA6;\n",
              "    }\n",
              "\n",
              "    [theme=dark] .colab-df-convert {\n",
              "      background-color: #3B4455;\n",
              "      fill: #D2E3FC;\n",
              "    }\n",
              "\n",
              "    [theme=dark] .colab-df-convert:hover {\n",
              "      background-color: #434B5C;\n",
              "      box-shadow: 0px 1px 3px 1px rgba(0, 0, 0, 0.15);\n",
              "      filter: drop-shadow(0px 1px 2px rgba(0, 0, 0, 0.3));\n",
              "      fill: #FFFFFF;\n",
              "    }\n",
              "  </style>\n",
              "\n",
              "      <script>\n",
              "        const buttonEl =\n",
              "          document.querySelector('#df-0a027fcc-c669-4071-b0f1-e9e0ac96df4a button.colab-df-convert');\n",
              "        buttonEl.style.display =\n",
              "          google.colab.kernel.accessAllowed ? 'block' : 'none';\n",
              "\n",
              "        async function convertToInteractive(key) {\n",
              "          const element = document.querySelector('#df-0a027fcc-c669-4071-b0f1-e9e0ac96df4a');\n",
              "          const dataTable =\n",
              "            await google.colab.kernel.invokeFunction('convertToInteractive',\n",
              "                                                     [key], {});\n",
              "          if (!dataTable) return;\n",
              "\n",
              "          const docLinkHtml = 'Like what you see? Visit the ' +\n",
              "            '<a target=\"_blank\" href=https://colab.research.google.com/notebooks/data_table.ipynb>data table notebook</a>'\n",
              "            + ' to learn more about interactive tables.';\n",
              "          element.innerHTML = '';\n",
              "          dataTable['output_type'] = 'display_data';\n",
              "          await google.colab.output.renderOutput(dataTable, element);\n",
              "          const docLink = document.createElement('div');\n",
              "          docLink.innerHTML = docLinkHtml;\n",
              "          element.appendChild(docLink);\n",
              "        }\n",
              "      </script>\n",
              "    </div>\n",
              "  </div>\n",
              "  "
            ]
          },
          "metadata": {},
          "execution_count": 223
        }
      ]
    },
    {
      "cell_type": "code",
      "source": [
        "add_info.shape"
      ],
      "metadata": {
        "papermill": {
          "duration": 0.031254,
          "end_time": "2022-12-25T18:21:21.937988",
          "exception": false,
          "start_time": "2022-12-25T18:21:21.906734",
          "status": "completed"
        },
        "tags": [],
        "execution": {
          "iopub.status.busy": "2023-04-18T19:34:14.630151Z",
          "iopub.execute_input": "2023-04-18T19:34:14.630592Z",
          "iopub.status.idle": "2023-04-18T19:34:14.637716Z",
          "shell.execute_reply.started": "2023-04-18T19:34:14.630562Z",
          "shell.execute_reply": "2023-04-18T19:34:14.636531Z"
        },
        "trusted": true,
        "colab": {
          "base_uri": "https://localhost:8080/"
        },
        "id": "TZuh4NV85RJ1",
        "outputId": "2474b059-7cc7-4cfe-859c-e67b9b2c8b9c"
      },
      "execution_count": 224,
      "outputs": [
        {
          "output_type": "execute_result",
          "data": {
            "text/plain": [
              "(299, 9)"
            ]
          },
          "metadata": {},
          "execution_count": 224
        }
      ]
    },
    {
      "cell_type": "code",
      "source": [
        "print(full_df.shape)\n",
        "\n",
        "full_df = pd.merge(\n",
        "    left = full_df,\n",
        "    right = add_info,\n",
        "    how = \"left\",\n",
        "    on = \"UNIQUE_ID\"\n",
        ")\n",
        "\n",
        "print(full_df.shape)"
      ],
      "metadata": {
        "papermill": {
          "duration": 0.043974,
          "end_time": "2022-12-25T18:21:22.004517",
          "exception": false,
          "start_time": "2022-12-25T18:21:21.960543",
          "status": "completed"
        },
        "tags": [],
        "execution": {
          "iopub.status.busy": "2023-04-18T19:34:14.639132Z",
          "iopub.execute_input": "2023-04-18T19:34:14.639564Z",
          "iopub.status.idle": "2023-04-18T19:34:14.659127Z",
          "shell.execute_reply.started": "2023-04-18T19:34:14.639519Z",
          "shell.execute_reply": "2023-04-18T19:34:14.657964Z"
        },
        "trusted": true,
        "colab": {
          "base_uri": "https://localhost:8080/"
        },
        "id": "Pe81v7qk5RJ1",
        "outputId": "826ac84d-984e-4eb1-9dbf-d00480b3f282"
      },
      "execution_count": 225,
      "outputs": [
        {
          "output_type": "stream",
          "name": "stdout",
          "text": [
            "(10166, 8)\n",
            "(10166, 16)\n"
          ]
        }
      ]
    },
    {
      "cell_type": "markdown",
      "source": [
        "<a id='impute'></a>\n",
        "### Data Imputation\n",
        "[Volver al índice](#index)<br>"
      ],
      "metadata": {
        "papermill": {
          "duration": 0.02233,
          "end_time": "2022-12-25T18:21:22.049371",
          "exception": false,
          "start_time": "2022-12-25T18:21:22.027041",
          "status": "completed"
        },
        "tags": [],
        "id": "0s78Dzch5RJ2"
      }
    },
    {
      "cell_type": "code",
      "source": [
        "full_df.drop([\"CHECK\"], axis = 1, inplace = True)"
      ],
      "metadata": {
        "papermill": {
          "duration": 0.034271,
          "end_time": "2022-12-25T18:21:22.1058",
          "exception": false,
          "start_time": "2022-12-25T18:21:22.071529",
          "status": "completed"
        },
        "tags": [],
        "execution": {
          "iopub.status.busy": "2023-04-18T19:34:14.660942Z",
          "iopub.execute_input": "2023-04-18T19:34:14.661631Z",
          "iopub.status.idle": "2023-04-18T19:34:14.670824Z",
          "shell.execute_reply.started": "2023-04-18T19:34:14.661585Z",
          "shell.execute_reply": "2023-04-18T19:34:14.669849Z"
        },
        "trusted": true,
        "id": "ZLGtC86i5RJ2"
      },
      "execution_count": 226,
      "outputs": []
    },
    {
      "cell_type": "code",
      "source": [
        "full_df.isnull().sum()"
      ],
      "metadata": {
        "papermill": {
          "duration": 0.037341,
          "end_time": "2022-12-25T18:21:22.164986",
          "exception": false,
          "start_time": "2022-12-25T18:21:22.127645",
          "status": "completed"
        },
        "tags": [],
        "execution": {
          "iopub.status.busy": "2023-04-18T19:34:14.672084Z",
          "iopub.execute_input": "2023-04-18T19:34:14.672897Z",
          "iopub.status.idle": "2023-04-18T19:34:14.686215Z",
          "shell.execute_reply.started": "2023-04-18T19:34:14.672854Z",
          "shell.execute_reply": "2023-04-18T19:34:14.685167Z"
        },
        "trusted": true,
        "colab": {
          "base_uri": "https://localhost:8080/"
        },
        "id": "uJQlkTit5RJ3",
        "outputId": "22ffdbe8-e8e1-49cd-961b-ed68568432b3"
      },
      "execution_count": 227,
      "outputs": [
        {
          "output_type": "execute_result",
          "data": {
            "text/plain": [
              "DATE                         0\n",
              "UNIQUE_ID                    0\n",
              "MONTHLY_SALES             1420\n",
              "MONTHLY_REVENUE           1420\n",
              "UNIQUE_DAYS_WITH_SALES    1420\n",
              "TOTAL_TRANSACTIONS        1420\n",
              "MONTHLY_MEAN_PRICE        1700\n",
              "CITY_NAME                    0\n",
              "CITY_ID                      0\n",
              "SHOP_NAME                    0\n",
              "SHOP_ID                      0\n",
              "ITEM_CATEGORY_NAME           0\n",
              "ITEM_CATEGORY_ID             0\n",
              "ITEM_NAME                    0\n",
              "ITEM_ID                      0\n",
              "dtype: int64"
            ]
          },
          "metadata": {},
          "execution_count": 227
        }
      ]
    },
    {
      "cell_type": "code",
      "source": [
        "full_df[\"MONTHLY_SALES\"] = full_df.groupby([\"UNIQUE_ID\"])[\"MONTHLY_SALES\"].transform(lambda series: series.shift(1).rolling(3).mean())\n",
        "full_df[\"MONTHLY_SALES\"].fillna(0, inplace = True)\n",
        "full_df[\"MONTHLY_REVENUE\"].fillna(0, inplace = True)\n",
        "full_df[\"UNIQUE_DAYS_WITH_SALES\"].fillna(0, inplace = True)\n",
        "full_df[\"TOTAL_TRANSACTIONS\"].fillna(0, inplace = True)"
      ],
      "metadata": {
        "papermill": {
          "duration": 0.032436,
          "end_time": "2022-12-25T18:21:22.218832",
          "exception": false,
          "start_time": "2022-12-25T18:21:22.186396",
          "status": "completed"
        },
        "tags": [],
        "execution": {
          "iopub.status.busy": "2023-04-18T19:34:14.694509Z",
          "iopub.execute_input": "2023-04-18T19:34:14.694870Z",
          "iopub.status.idle": "2023-04-18T19:34:14.829515Z",
          "shell.execute_reply.started": "2023-04-18T19:34:14.694839Z",
          "shell.execute_reply": "2023-04-18T19:34:14.828548Z"
        },
        "trusted": true,
        "id": "s8CtETaf5RJ4"
      },
      "execution_count": 228,
      "outputs": []
    },
    {
      "cell_type": "code",
      "source": [
        "full_df.isnull().sum()"
      ],
      "metadata": {
        "execution": {
          "iopub.status.busy": "2023-04-18T19:34:14.830888Z",
          "iopub.execute_input": "2023-04-18T19:34:14.831227Z",
          "iopub.status.idle": "2023-04-18T19:34:14.842688Z",
          "shell.execute_reply.started": "2023-04-18T19:34:14.831200Z",
          "shell.execute_reply": "2023-04-18T19:34:14.841480Z"
        },
        "trusted": true,
        "colab": {
          "base_uri": "https://localhost:8080/"
        },
        "id": "a45ZUCyl5RJ5",
        "outputId": "551be1d3-c444-4825-a973-323a987520b1"
      },
      "execution_count": 229,
      "outputs": [
        {
          "output_type": "execute_result",
          "data": {
            "text/plain": [
              "DATE                         0\n",
              "UNIQUE_ID                    0\n",
              "MONTHLY_SALES                0\n",
              "MONTHLY_REVENUE              0\n",
              "UNIQUE_DAYS_WITH_SALES       0\n",
              "TOTAL_TRANSACTIONS           0\n",
              "MONTHLY_MEAN_PRICE        1700\n",
              "CITY_NAME                    0\n",
              "CITY_ID                      0\n",
              "SHOP_NAME                    0\n",
              "SHOP_ID                      0\n",
              "ITEM_CATEGORY_NAME           0\n",
              "ITEM_CATEGORY_ID             0\n",
              "ITEM_NAME                    0\n",
              "ITEM_ID                      0\n",
              "dtype: int64"
            ]
          },
          "metadata": {},
          "execution_count": 229
        }
      ]
    },
    {
      "cell_type": "code",
      "source": [
        "# implementar en clase diferentes estrategias de imputación\n",
        "sample_series = full_df[full_df[\"UNIQUE_ID\"] == \"7-17717\"][[\"DATE\", \"UNIQUE_ID\", \"MONTHLY_MEAN_PRICE\"]]\n",
        "sample_series"
      ],
      "metadata": {
        "papermill": {
          "duration": 0.04314,
          "end_time": "2022-12-25T18:21:22.282734",
          "exception": false,
          "start_time": "2022-12-25T18:21:22.239594",
          "status": "completed"
        },
        "tags": [],
        "execution": {
          "iopub.status.busy": "2023-04-18T19:34:14.844097Z",
          "iopub.execute_input": "2023-04-18T19:34:14.845358Z",
          "iopub.status.idle": "2023-04-18T19:34:14.863426Z",
          "shell.execute_reply.started": "2023-04-18T19:34:14.845324Z",
          "shell.execute_reply": "2023-04-18T19:34:14.862386Z"
        },
        "trusted": true,
        "colab": {
          "base_uri": "https://localhost:8080/",
          "height": 1000
        },
        "id": "iPaqWWUX5RJ5",
        "outputId": "6956c912-ae35-45cb-e9f8-c918de107897"
      },
      "execution_count": 230,
      "outputs": [
        {
          "output_type": "execute_result",
          "data": {
            "text/plain": [
              "            DATE UNIQUE_ID  MONTHLY_MEAN_PRICE\n",
              "296   2013-01-31   7-17717          449.000000\n",
              "595   2013-02-28   7-17717          428.000000\n",
              "894   2013-03-31   7-17717          619.000000\n",
              "1193  2013-04-30   7-17717          390.000000\n",
              "1492  2013-05-31   7-17717          599.000000\n",
              "1791  2013-06-30   7-17717                 NaN\n",
              "2090  2013-07-31   7-17717          281.745000\n",
              "2389  2013-08-31   7-17717          239.400000\n",
              "2688  2013-09-30   7-17717          333.000000\n",
              "2987  2013-10-31   7-17717          499.000000\n",
              "3286  2013-11-30   7-17717                 NaN\n",
              "3585  2013-12-31   7-17717          364.000000\n",
              "3884  2014-01-31   7-17717         1800.000000\n",
              "4183  2014-02-28   7-17717                 NaN\n",
              "4482  2014-03-31   7-17717                 NaN\n",
              "4781  2014-04-30   7-17717          504.266667\n",
              "5080  2014-05-31   7-17717          572.404762\n",
              "5379  2014-06-30   7-17717          524.333333\n",
              "5678  2014-07-31   7-17717         1004.153846\n",
              "5977  2014-08-31   7-17717          615.220635\n",
              "6276  2014-09-30   7-17717         1026.638889\n",
              "6575  2014-10-31   7-17717          805.202381\n",
              "6874  2014-11-30   7-17717         1086.531944\n",
              "7173  2014-12-31   7-17717         1156.085632\n",
              "7472  2015-01-31   7-17717          932.831714\n",
              "7771  2015-02-28   7-17717         1078.297101\n",
              "8070  2015-03-31   7-17717          899.833333\n",
              "8369  2015-04-30   7-17717         1191.375000\n",
              "8668  2015-05-31   7-17717         1194.820513\n",
              "8967  2015-06-30   7-17717         1176.977193\n",
              "9266  2015-07-31   7-17717          990.500000\n",
              "9565  2015-08-31   7-17717          915.825000\n",
              "9864  2015-09-30   7-17717         1388.930556\n",
              "10163 2015-10-31   7-17717                 NaN"
            ],
            "text/html": [
              "\n",
              "  <div id=\"df-ba0a8693-fed0-442f-b2fb-a4e250b00091\">\n",
              "    <div class=\"colab-df-container\">\n",
              "      <div>\n",
              "<style scoped>\n",
              "    .dataframe tbody tr th:only-of-type {\n",
              "        vertical-align: middle;\n",
              "    }\n",
              "\n",
              "    .dataframe tbody tr th {\n",
              "        vertical-align: top;\n",
              "    }\n",
              "\n",
              "    .dataframe thead th {\n",
              "        text-align: right;\n",
              "    }\n",
              "</style>\n",
              "<table border=\"1\" class=\"dataframe\">\n",
              "  <thead>\n",
              "    <tr style=\"text-align: right;\">\n",
              "      <th></th>\n",
              "      <th>DATE</th>\n",
              "      <th>UNIQUE_ID</th>\n",
              "      <th>MONTHLY_MEAN_PRICE</th>\n",
              "    </tr>\n",
              "  </thead>\n",
              "  <tbody>\n",
              "    <tr>\n",
              "      <th>296</th>\n",
              "      <td>2013-01-31</td>\n",
              "      <td>7-17717</td>\n",
              "      <td>449.000000</td>\n",
              "    </tr>\n",
              "    <tr>\n",
              "      <th>595</th>\n",
              "      <td>2013-02-28</td>\n",
              "      <td>7-17717</td>\n",
              "      <td>428.000000</td>\n",
              "    </tr>\n",
              "    <tr>\n",
              "      <th>894</th>\n",
              "      <td>2013-03-31</td>\n",
              "      <td>7-17717</td>\n",
              "      <td>619.000000</td>\n",
              "    </tr>\n",
              "    <tr>\n",
              "      <th>1193</th>\n",
              "      <td>2013-04-30</td>\n",
              "      <td>7-17717</td>\n",
              "      <td>390.000000</td>\n",
              "    </tr>\n",
              "    <tr>\n",
              "      <th>1492</th>\n",
              "      <td>2013-05-31</td>\n",
              "      <td>7-17717</td>\n",
              "      <td>599.000000</td>\n",
              "    </tr>\n",
              "    <tr>\n",
              "      <th>1791</th>\n",
              "      <td>2013-06-30</td>\n",
              "      <td>7-17717</td>\n",
              "      <td>NaN</td>\n",
              "    </tr>\n",
              "    <tr>\n",
              "      <th>2090</th>\n",
              "      <td>2013-07-31</td>\n",
              "      <td>7-17717</td>\n",
              "      <td>281.745000</td>\n",
              "    </tr>\n",
              "    <tr>\n",
              "      <th>2389</th>\n",
              "      <td>2013-08-31</td>\n",
              "      <td>7-17717</td>\n",
              "      <td>239.400000</td>\n",
              "    </tr>\n",
              "    <tr>\n",
              "      <th>2688</th>\n",
              "      <td>2013-09-30</td>\n",
              "      <td>7-17717</td>\n",
              "      <td>333.000000</td>\n",
              "    </tr>\n",
              "    <tr>\n",
              "      <th>2987</th>\n",
              "      <td>2013-10-31</td>\n",
              "      <td>7-17717</td>\n",
              "      <td>499.000000</td>\n",
              "    </tr>\n",
              "    <tr>\n",
              "      <th>3286</th>\n",
              "      <td>2013-11-30</td>\n",
              "      <td>7-17717</td>\n",
              "      <td>NaN</td>\n",
              "    </tr>\n",
              "    <tr>\n",
              "      <th>3585</th>\n",
              "      <td>2013-12-31</td>\n",
              "      <td>7-17717</td>\n",
              "      <td>364.000000</td>\n",
              "    </tr>\n",
              "    <tr>\n",
              "      <th>3884</th>\n",
              "      <td>2014-01-31</td>\n",
              "      <td>7-17717</td>\n",
              "      <td>1800.000000</td>\n",
              "    </tr>\n",
              "    <tr>\n",
              "      <th>4183</th>\n",
              "      <td>2014-02-28</td>\n",
              "      <td>7-17717</td>\n",
              "      <td>NaN</td>\n",
              "    </tr>\n",
              "    <tr>\n",
              "      <th>4482</th>\n",
              "      <td>2014-03-31</td>\n",
              "      <td>7-17717</td>\n",
              "      <td>NaN</td>\n",
              "    </tr>\n",
              "    <tr>\n",
              "      <th>4781</th>\n",
              "      <td>2014-04-30</td>\n",
              "      <td>7-17717</td>\n",
              "      <td>504.266667</td>\n",
              "    </tr>\n",
              "    <tr>\n",
              "      <th>5080</th>\n",
              "      <td>2014-05-31</td>\n",
              "      <td>7-17717</td>\n",
              "      <td>572.404762</td>\n",
              "    </tr>\n",
              "    <tr>\n",
              "      <th>5379</th>\n",
              "      <td>2014-06-30</td>\n",
              "      <td>7-17717</td>\n",
              "      <td>524.333333</td>\n",
              "    </tr>\n",
              "    <tr>\n",
              "      <th>5678</th>\n",
              "      <td>2014-07-31</td>\n",
              "      <td>7-17717</td>\n",
              "      <td>1004.153846</td>\n",
              "    </tr>\n",
              "    <tr>\n",
              "      <th>5977</th>\n",
              "      <td>2014-08-31</td>\n",
              "      <td>7-17717</td>\n",
              "      <td>615.220635</td>\n",
              "    </tr>\n",
              "    <tr>\n",
              "      <th>6276</th>\n",
              "      <td>2014-09-30</td>\n",
              "      <td>7-17717</td>\n",
              "      <td>1026.638889</td>\n",
              "    </tr>\n",
              "    <tr>\n",
              "      <th>6575</th>\n",
              "      <td>2014-10-31</td>\n",
              "      <td>7-17717</td>\n",
              "      <td>805.202381</td>\n",
              "    </tr>\n",
              "    <tr>\n",
              "      <th>6874</th>\n",
              "      <td>2014-11-30</td>\n",
              "      <td>7-17717</td>\n",
              "      <td>1086.531944</td>\n",
              "    </tr>\n",
              "    <tr>\n",
              "      <th>7173</th>\n",
              "      <td>2014-12-31</td>\n",
              "      <td>7-17717</td>\n",
              "      <td>1156.085632</td>\n",
              "    </tr>\n",
              "    <tr>\n",
              "      <th>7472</th>\n",
              "      <td>2015-01-31</td>\n",
              "      <td>7-17717</td>\n",
              "      <td>932.831714</td>\n",
              "    </tr>\n",
              "    <tr>\n",
              "      <th>7771</th>\n",
              "      <td>2015-02-28</td>\n",
              "      <td>7-17717</td>\n",
              "      <td>1078.297101</td>\n",
              "    </tr>\n",
              "    <tr>\n",
              "      <th>8070</th>\n",
              "      <td>2015-03-31</td>\n",
              "      <td>7-17717</td>\n",
              "      <td>899.833333</td>\n",
              "    </tr>\n",
              "    <tr>\n",
              "      <th>8369</th>\n",
              "      <td>2015-04-30</td>\n",
              "      <td>7-17717</td>\n",
              "      <td>1191.375000</td>\n",
              "    </tr>\n",
              "    <tr>\n",
              "      <th>8668</th>\n",
              "      <td>2015-05-31</td>\n",
              "      <td>7-17717</td>\n",
              "      <td>1194.820513</td>\n",
              "    </tr>\n",
              "    <tr>\n",
              "      <th>8967</th>\n",
              "      <td>2015-06-30</td>\n",
              "      <td>7-17717</td>\n",
              "      <td>1176.977193</td>\n",
              "    </tr>\n",
              "    <tr>\n",
              "      <th>9266</th>\n",
              "      <td>2015-07-31</td>\n",
              "      <td>7-17717</td>\n",
              "      <td>990.500000</td>\n",
              "    </tr>\n",
              "    <tr>\n",
              "      <th>9565</th>\n",
              "      <td>2015-08-31</td>\n",
              "      <td>7-17717</td>\n",
              "      <td>915.825000</td>\n",
              "    </tr>\n",
              "    <tr>\n",
              "      <th>9864</th>\n",
              "      <td>2015-09-30</td>\n",
              "      <td>7-17717</td>\n",
              "      <td>1388.930556</td>\n",
              "    </tr>\n",
              "    <tr>\n",
              "      <th>10163</th>\n",
              "      <td>2015-10-31</td>\n",
              "      <td>7-17717</td>\n",
              "      <td>NaN</td>\n",
              "    </tr>\n",
              "  </tbody>\n",
              "</table>\n",
              "</div>\n",
              "      <button class=\"colab-df-convert\" onclick=\"convertToInteractive('df-ba0a8693-fed0-442f-b2fb-a4e250b00091')\"\n",
              "              title=\"Convert this dataframe to an interactive table.\"\n",
              "              style=\"display:none;\">\n",
              "        \n",
              "  <svg xmlns=\"http://www.w3.org/2000/svg\" height=\"24px\"viewBox=\"0 0 24 24\"\n",
              "       width=\"24px\">\n",
              "    <path d=\"M0 0h24v24H0V0z\" fill=\"none\"/>\n",
              "    <path d=\"M18.56 5.44l.94 2.06.94-2.06 2.06-.94-2.06-.94-.94-2.06-.94 2.06-2.06.94zm-11 1L8.5 8.5l.94-2.06 2.06-.94-2.06-.94L8.5 2.5l-.94 2.06-2.06.94zm10 10l.94 2.06.94-2.06 2.06-.94-2.06-.94-.94-2.06-.94 2.06-2.06.94z\"/><path d=\"M17.41 7.96l-1.37-1.37c-.4-.4-.92-.59-1.43-.59-.52 0-1.04.2-1.43.59L10.3 9.45l-7.72 7.72c-.78.78-.78 2.05 0 2.83L4 21.41c.39.39.9.59 1.41.59.51 0 1.02-.2 1.41-.59l7.78-7.78 2.81-2.81c.8-.78.8-2.07 0-2.86zM5.41 20L4 18.59l7.72-7.72 1.47 1.35L5.41 20z\"/>\n",
              "  </svg>\n",
              "      </button>\n",
              "      \n",
              "  <style>\n",
              "    .colab-df-container {\n",
              "      display:flex;\n",
              "      flex-wrap:wrap;\n",
              "      gap: 12px;\n",
              "    }\n",
              "\n",
              "    .colab-df-convert {\n",
              "      background-color: #E8F0FE;\n",
              "      border: none;\n",
              "      border-radius: 50%;\n",
              "      cursor: pointer;\n",
              "      display: none;\n",
              "      fill: #1967D2;\n",
              "      height: 32px;\n",
              "      padding: 0 0 0 0;\n",
              "      width: 32px;\n",
              "    }\n",
              "\n",
              "    .colab-df-convert:hover {\n",
              "      background-color: #E2EBFA;\n",
              "      box-shadow: 0px 1px 2px rgba(60, 64, 67, 0.3), 0px 1px 3px 1px rgba(60, 64, 67, 0.15);\n",
              "      fill: #174EA6;\n",
              "    }\n",
              "\n",
              "    [theme=dark] .colab-df-convert {\n",
              "      background-color: #3B4455;\n",
              "      fill: #D2E3FC;\n",
              "    }\n",
              "\n",
              "    [theme=dark] .colab-df-convert:hover {\n",
              "      background-color: #434B5C;\n",
              "      box-shadow: 0px 1px 3px 1px rgba(0, 0, 0, 0.15);\n",
              "      filter: drop-shadow(0px 1px 2px rgba(0, 0, 0, 0.3));\n",
              "      fill: #FFFFFF;\n",
              "    }\n",
              "  </style>\n",
              "\n",
              "      <script>\n",
              "        const buttonEl =\n",
              "          document.querySelector('#df-ba0a8693-fed0-442f-b2fb-a4e250b00091 button.colab-df-convert');\n",
              "        buttonEl.style.display =\n",
              "          google.colab.kernel.accessAllowed ? 'block' : 'none';\n",
              "\n",
              "        async function convertToInteractive(key) {\n",
              "          const element = document.querySelector('#df-ba0a8693-fed0-442f-b2fb-a4e250b00091');\n",
              "          const dataTable =\n",
              "            await google.colab.kernel.invokeFunction('convertToInteractive',\n",
              "                                                     [key], {});\n",
              "          if (!dataTable) return;\n",
              "\n",
              "          const docLinkHtml = 'Like what you see? Visit the ' +\n",
              "            '<a target=\"_blank\" href=https://colab.research.google.com/notebooks/data_table.ipynb>data table notebook</a>'\n",
              "            + ' to learn more about interactive tables.';\n",
              "          element.innerHTML = '';\n",
              "          dataTable['output_type'] = 'display_data';\n",
              "          await google.colab.output.renderOutput(dataTable, element);\n",
              "          const docLink = document.createElement('div');\n",
              "          docLink.innerHTML = docLinkHtml;\n",
              "          element.appendChild(docLink);\n",
              "        }\n",
              "      </script>\n",
              "    </div>\n",
              "  </div>\n",
              "  "
            ]
          },
          "metadata": {},
          "execution_count": 230
        }
      ]
    },
    {
      "cell_type": "code",
      "source": [
        "full_df[\"MONTHLY_MEAN_PRICE\"] = full_df.groupby(\"UNIQUE_ID\")[\"MONTHLY_MEAN_PRICE\"].apply(\n",
        "    lambda series: series.backfill().ffill()\n",
        ")"
      ],
      "metadata": {
        "papermill": {
          "duration": 0.116065,
          "end_time": "2022-12-25T18:21:22.420249",
          "exception": false,
          "start_time": "2022-12-25T18:21:22.304184",
          "status": "completed"
        },
        "tags": [],
        "execution": {
          "iopub.status.busy": "2023-04-18T19:34:14.864850Z",
          "iopub.execute_input": "2023-04-18T19:34:14.865173Z",
          "iopub.status.idle": "2023-04-18T19:34:14.960103Z",
          "shell.execute_reply.started": "2023-04-18T19:34:14.865144Z",
          "shell.execute_reply": "2023-04-18T19:34:14.958965Z"
        },
        "trusted": true,
        "colab": {
          "base_uri": "https://localhost:8080/"
        },
        "id": "qFdd2d3H5RJ6",
        "outputId": "6a754815-76a7-4c80-e6af-ae9aef95a628"
      },
      "execution_count": 231,
      "outputs": [
        {
          "output_type": "stream",
          "name": "stderr",
          "text": [
            "<ipython-input-231-b213610e707a>:1: FutureWarning: Not prepending group keys to the result index of transform-like apply. In the future, the group keys will be included in the index, regardless of whether the applied function returns a like-indexed object.\n",
            "To preserve the previous behavior, use\n",
            "\n",
            "\t>>> .groupby(..., group_keys=False)\n",
            "\n",
            "To adopt the future behavior and silence this warning, use \n",
            "\n",
            "\t>>> .groupby(..., group_keys=True)\n",
            "  full_df[\"MONTHLY_MEAN_PRICE\"] = full_df.groupby(\"UNIQUE_ID\")[\"MONTHLY_MEAN_PRICE\"].apply(\n"
          ]
        }
      ]
    },
    {
      "cell_type": "code",
      "source": [
        "del df, cartesian_product, unique_id, date_range, add_info, sample_series, check_months"
      ],
      "metadata": {
        "papermill": {
          "duration": 0.033796,
          "end_time": "2022-12-25T18:21:22.477013",
          "exception": false,
          "start_time": "2022-12-25T18:21:22.443217",
          "status": "completed"
        },
        "tags": [],
        "execution": {
          "iopub.status.busy": "2023-04-18T19:34:14.961315Z",
          "iopub.execute_input": "2023-04-18T19:34:14.961665Z",
          "iopub.status.idle": "2023-04-18T19:34:14.969465Z",
          "shell.execute_reply.started": "2023-04-18T19:34:14.961636Z",
          "shell.execute_reply": "2023-04-18T19:34:14.968266Z"
        },
        "trusted": true,
        "id": "AmxGRRls5RJ7"
      },
      "execution_count": 232,
      "outputs": []
    },
    {
      "cell_type": "markdown",
      "source": [
        "<a id='eda'></a>\n",
        "### EDA\n",
        "[Volver al índice](#index)<br>"
      ],
      "metadata": {
        "papermill": {
          "duration": 0.022323,
          "end_time": "2022-12-25T18:21:22.521653",
          "exception": false,
          "start_time": "2022-12-25T18:21:22.49933",
          "status": "completed"
        },
        "tags": [],
        "id": "v15pKN8-5RKA"
      }
    },
    {
      "cell_type": "markdown",
      "source": [
        "Ahora por fin tenemos un full_df con todos los registros y con los valores imputados.\n",
        "\n",
        "Vamos a hacer un EDA rápido para ver como son nuestras Series Temporales y coger algunas ideas para futuras variables que vamos a implementar."
      ],
      "metadata": {
        "papermill": {
          "duration": 0.022127,
          "end_time": "2022-12-25T18:21:22.566039",
          "exception": false,
          "start_time": "2022-12-25T18:21:22.543912",
          "status": "completed"
        },
        "tags": [],
        "id": "HjhJLyak5RKA"
      }
    },
    {
      "cell_type": "markdown",
      "source": [
        "<a id='eda_global_sales'></a>\n",
        "### --> 1. EDA: Global Sales\n",
        "[Volver al índice](#index)<br>"
      ],
      "metadata": {
        "papermill": {
          "duration": 0.021998,
          "end_time": "2022-12-25T18:21:22.610614",
          "exception": false,
          "start_time": "2022-12-25T18:21:22.588616",
          "status": "completed"
        },
        "tags": [],
        "id": "qIHCPdk95RKB"
      }
    },
    {
      "cell_type": "code",
      "source": [
        "def plot_ts_acf_pacf(y, title):\n",
        "    '''\n",
        "    Plots the ts you pass and the acf and pacf.\n",
        "    '''\n",
        "    fig = plt.figure(figsize = (12, 10))\n",
        "    ax1, ax2, ax3 = fig.subplots(3, 1)\n",
        "\n",
        "    ax1.plot(y)\n",
        "    plot_acf(x = y, ax = ax2)\n",
        "    plot_pacf(x = y, ax = ax3)\n",
        "\n",
        "    plt.suptitle(t = title, fontsize = 20)"
      ],
      "metadata": {
        "papermill": {
          "duration": 0.032195,
          "end_time": "2022-12-25T18:21:22.664784",
          "exception": false,
          "start_time": "2022-12-25T18:21:22.632589",
          "status": "completed"
        },
        "tags": [],
        "execution": {
          "iopub.status.busy": "2023-04-18T19:34:14.970861Z",
          "iopub.execute_input": "2023-04-18T19:34:14.971177Z",
          "iopub.status.idle": "2023-04-18T19:34:14.980339Z",
          "shell.execute_reply.started": "2023-04-18T19:34:14.971150Z",
          "shell.execute_reply": "2023-04-18T19:34:14.978866Z"
        },
        "trusted": true,
        "id": "Zpf2krIr5RKB"
      },
      "execution_count": 233,
      "outputs": []
    },
    {
      "cell_type": "code",
      "source": [
        "y = full_df.set_index(\"DATE\").resample(\"M\")[\"MONTHLY_SALES\"].sum()"
      ],
      "metadata": {
        "papermill": {
          "duration": 0.038389,
          "end_time": "2022-12-25T18:21:22.726176",
          "exception": false,
          "start_time": "2022-12-25T18:21:22.687787",
          "status": "completed"
        },
        "tags": [],
        "execution": {
          "iopub.status.busy": "2023-04-18T19:34:14.981750Z",
          "iopub.execute_input": "2023-04-18T19:34:14.982094Z",
          "iopub.status.idle": "2023-04-18T19:34:14.998865Z",
          "shell.execute_reply.started": "2023-04-18T19:34:14.982052Z",
          "shell.execute_reply": "2023-04-18T19:34:14.997925Z"
        },
        "trusted": true,
        "id": "dvwI9bZx5RKC"
      },
      "execution_count": 234,
      "outputs": []
    },
    {
      "cell_type": "code",
      "source": [
        "plot_ts_acf_pacf(y = y, title = \"Monthly Sales for all items in all shops\");"
      ],
      "metadata": {
        "papermill": {
          "duration": 0.635484,
          "end_time": "2022-12-25T18:21:23.385591",
          "exception": false,
          "start_time": "2022-12-25T18:21:22.750107",
          "status": "completed"
        },
        "tags": [],
        "execution": {
          "iopub.status.busy": "2023-04-18T19:34:15.000251Z",
          "iopub.execute_input": "2023-04-18T19:34:15.000611Z",
          "iopub.status.idle": "2023-04-18T19:34:15.605770Z",
          "shell.execute_reply.started": "2023-04-18T19:34:15.000580Z",
          "shell.execute_reply": "2023-04-18T19:34:15.604429Z"
        },
        "trusted": true,
        "colab": {
          "base_uri": "https://localhost:8080/",
          "height": 985
        },
        "id": "E7gv5CKH5RKC",
        "outputId": "e6afc036-a82b-45e8-e431-b24d24ee3af6"
      },
      "execution_count": 235,
      "outputs": [
        {
          "output_type": "stream",
          "name": "stderr",
          "text": [
            "/usr/local/lib/python3.9/dist-packages/statsmodels/graphics/tsaplots.py:348: FutureWarning: The default method 'yw' can produce PACF values outside of the [-1,1] interval. After 0.13, the default will change tounadjusted Yule-Walker ('ywm'). You can use this method now by setting method='ywm'.\n",
            "  warnings.warn(\n"
          ]
        },
        {
          "output_type": "display_data",
          "data": {
            "text/plain": [
              "<Figure size 1200x1000 with 3 Axes>"
            ],
            "image/png": "[encoded data removed]"
          },
          "metadata": {}
        }
      ]
    },
    {
      "cell_type": "markdown",
      "source": [
        "Nota importante: nos estamos ayudando del gráfico de acf y pacf, pero no vamos a entrenar un modelo ARIMA.\n",
        "\n",
        "Para resolver el problema que se nos plantea: 299 Series Temporales diferentes tendríamos que entrenar 299 ARIMAs. En cambio, con el algoritmo de XGBoost podríamos entrenar 1 único modelo.\n",
        "\n",
        "Ahora bien, al contrario que ARIMA (que internamente construye las variables necesarias), para XGBoost debemos ser explícitos y suministrarle todas y cada una de las variables necesarias.\n",
        "\n",
        "Del gráfico anterior ya podemos observar que las variables de lags pueden ser muy relevantes."
      ],
      "metadata": {
        "papermill": {
          "duration": 0.022782,
          "end_time": "2022-12-25T18:21:23.431783",
          "exception": false,
          "start_time": "2022-12-25T18:21:23.409001",
          "status": "completed"
        },
        "tags": [],
        "id": "eKzuGgwJ5RKD"
      }
    },
    {
      "cell_type": "markdown",
      "source": [
        "<a id='eda_top_3_cities'></a>\n",
        "### --> 2. EDA: Top 3 Cities\n",
        "[Volver al índice](#index)<br>"
      ],
      "metadata": {
        "papermill": {
          "duration": 0.023211,
          "end_time": "2022-12-25T18:21:23.477649",
          "exception": false,
          "start_time": "2022-12-25T18:21:23.454438",
          "status": "completed"
        },
        "tags": [],
        "id": "DAgdFHJu5RKE"
      }
    },
    {
      "cell_type": "code",
      "source": [
        "(\n",
        "    full_df.\n",
        "    groupby([\"CITY_NAME\"])\n",
        "    [\"MONTHLY_SALES\"].sum()\n",
        "    .sort_values(ascending = False)\n",
        "    .plot(kind = \"bar\", figsize = (12, 4))\n",
        ");"
      ],
      "metadata": {
        "papermill": {
          "duration": 0.399549,
          "end_time": "2022-12-25T18:21:23.900442",
          "exception": false,
          "start_time": "2022-12-25T18:21:23.500893",
          "status": "completed"
        },
        "tags": [],
        "execution": {
          "iopub.status.busy": "2023-04-18T19:34:15.607166Z",
          "iopub.execute_input": "2023-04-18T19:34:15.607527Z",
          "iopub.status.idle": "2023-04-18T19:34:15.982937Z",
          "shell.execute_reply.started": "2023-04-18T19:34:15.607482Z",
          "shell.execute_reply": "2023-04-18T19:34:15.981845Z"
        },
        "trusted": true,
        "colab": {
          "base_uri": "https://localhost:8080/",
          "height": 493
        },
        "id": "SL4ICkqy5RKE",
        "outputId": "ecb660fc-a2c4-4c53-867e-f27372cb8253"
      },
      "execution_count": 236,
      "outputs": [
        {
          "output_type": "display_data",
          "data": {
            "text/plain": [
              "<Figure size 1200x400 with 1 Axes>"
            ],
            "image/png": "[encoded data removed]"
          },
          "metadata": {}
        }
      ]
    },
    {
      "cell_type": "markdown",
      "source": [
        "<a id='eda_top_3_categories'></a>\n",
        "### --> 3. EDA: Top 3 Categories\n",
        "[Volver al índice](#index)<br>"
      ],
      "metadata": {
        "papermill": {
          "duration": 0.023796,
          "end_time": "2022-12-25T18:21:23.948538",
          "exception": false,
          "start_time": "2022-12-25T18:21:23.924742",
          "status": "completed"
        },
        "tags": [],
        "id": "iUl-Zorq5RKJ"
      }
    },
    {
      "cell_type": "code",
      "source": [
        "(\n",
        "    full_df.\n",
        "    groupby([\"ITEM_CATEGORY_NAME\"])\n",
        "    [\"MONTHLY_SALES\"].sum()\n",
        "    .sort_values(ascending = False)\n",
        "    .plot(kind = \"bar\", figsize = (12, 4))\n",
        ");"
      ],
      "metadata": {
        "papermill": {
          "duration": 0.481244,
          "end_time": "2022-12-25T18:21:24.45393",
          "exception": false,
          "start_time": "2022-12-25T18:21:23.972686",
          "status": "completed"
        },
        "tags": [],
        "execution": {
          "iopub.status.busy": "2023-04-18T19:34:15.984789Z",
          "iopub.execute_input": "2023-04-18T19:34:15.985377Z",
          "iopub.status.idle": "2023-04-18T19:34:16.460776Z",
          "shell.execute_reply.started": "2023-04-18T19:34:15.985341Z",
          "shell.execute_reply": "2023-04-18T19:34:16.459405Z"
        },
        "trusted": true,
        "colab": {
          "base_uri": "https://localhost:8080/",
          "height": 661
        },
        "id": "5Qez_d8U5RKK",
        "outputId": "19cf1e73-1dbb-455e-81e1-18fa88b5c211"
      },
      "execution_count": 237,
      "outputs": [
        {
          "output_type": "display_data",
          "data": {
            "text/plain": [
              "<Figure size 1200x400 with 1 Axes>"
            ],
            "image/png": "[encoded data removed]"
          },
          "metadata": {}
        }
      ]
    },
    {
      "cell_type": "markdown",
      "source": [
        "<a id='build_ts_features'></a>\n",
        "### Build Time Series Features (**CORE IDEA**)\n",
        "[Volver al índice](#index)<br>"
      ],
      "metadata": {
        "papermill": {
          "duration": 0.023986,
          "end_time": "2022-12-25T18:21:24.502385",
          "exception": false,
          "start_time": "2022-12-25T18:21:24.478399",
          "status": "completed"
        },
        "tags": [],
        "id": "xCFhzPCN5RKL"
      }
    },
    {
      "cell_type": "markdown",
      "source": [
        "Dado que vamos a tener que iterar muchas veces sobre nuestro dataset, nos interesa tener todo encapsulado en funciones para su reutilización.\n",
        "\n",
        "Uno de los apartados clave será la generación de variables.\n",
        "\n",
        "Como hemos visto antes, nuestro dataset contiene 299 Series Temporales.\n",
        "\n",
        "Algunas de estas Series Temporales las podemos agrupar para sacar nueva información.\n",
        "\n",
        "Por ejemplo, podemos construir una variables del estilo:\n",
        "\n",
        "1. Las ventas totales por ITEM_ID (la menor granularidad posible).\n",
        "2. Las ventas totales por ITEM_CATEGORY_ID y SHOP_ID (una granularidad mayor a la 1).\n",
        "3. Las ventas totales por SHOP_ID (una granularidad mayor).\n",
        "4. Y todas las combinaciones que queramos intermedias."
      ],
      "metadata": {
        "papermill": {
          "duration": 0.023954,
          "end_time": "2022-12-25T18:21:24.550345",
          "exception": false,
          "start_time": "2022-12-25T18:21:24.526391",
          "status": "completed"
        },
        "tags": [],
        "id": "WlZG2u5H5RKL"
      }
    },
    {
      "cell_type": "code",
      "source": [
        "full_df.sample(5).T"
      ],
      "metadata": {
        "papermill": {
          "duration": 0.045201,
          "end_time": "2022-12-25T18:21:24.619482",
          "exception": false,
          "start_time": "2022-12-25T18:21:24.574281",
          "status": "completed"
        },
        "tags": [],
        "execution": {
          "iopub.status.busy": "2023-04-18T19:34:16.462324Z",
          "iopub.execute_input": "2023-04-18T19:34:16.462784Z",
          "iopub.status.idle": "2023-04-18T19:34:16.481703Z",
          "shell.execute_reply.started": "2023-04-18T19:34:16.462742Z",
          "shell.execute_reply": "2023-04-18T19:34:16.480666Z"
        },
        "trusted": true,
        "colab": {
          "base_uri": "https://localhost:8080/",
          "height": 616
        },
        "id": "TwBL-W875RKN",
        "outputId": "f79e2f04-2f55-4f0f-acf5-08c1bfca3f1b"
      },
      "execution_count": 238,
      "outputs": [
        {
          "output_type": "execute_result",
          "data": {
            "text/plain": [
              "                                                          2060   \\\n",
              "DATE                                        2013-07-31 00:00:00   \n",
              "UNIQUE_ID                                               57-4870   \n",
              "MONTHLY_SALES                                               0.0   \n",
              "MONTHLY_REVENUE                                          5593.0   \n",
              "UNIQUE_DAYS_WITH_SALES                                      4.0   \n",
              "TOTAL_TRANSACTIONS                                          4.0   \n",
              "MONTHLY_MEAN_PRICE                                        799.0   \n",
              "CITY_NAME                                               Yakutsk   \n",
              "CITY_ID                                                    23.0   \n",
              "SHOP_NAME                             Yakutsk Ordzhonikidze, 56   \n",
              "SHOP_ID                                                      57   \n",
              "ITEM_CATEGORY_NAME                            Juegos - XBOX 360   \n",
              "ITEM_CATEGORY_ID                                             23   \n",
              "ITEM_NAME               Minecraft [Xbox 360, versión en inglés]   \n",
              "ITEM_ID                                                    4870   \n",
              "\n",
              "                                                   2211   \\\n",
              "DATE                                 2013-08-31 00:00:00   \n",
              "UNIQUE_ID                                        3-17717   \n",
              "MONTHLY_SALES                                   0.333333   \n",
              "MONTHLY_REVENUE                                   1235.0   \n",
              "UNIQUE_DAYS_WITH_SALES                               1.0   \n",
              "TOTAL_TRANSACTIONS                                   1.0   \n",
              "MONTHLY_MEAN_PRICE                                1235.0   \n",
              "CITY_NAME                                     Balashikha   \n",
              "CITY_ID                                              0.0   \n",
              "SHOP_NAME               Balashikha TRC \"Octubre-Kinomir\"   \n",
              "SHOP_ID                                                3   \n",
              "ITEM_CATEGORY_NAME               Herramientas de sistema   \n",
              "ITEM_CATEGORY_ID                                      79   \n",
              "ITEM_NAME                  Recibir fondos para 1c-online   \n",
              "ITEM_ID                                            17717   \n",
              "\n",
              "                                                                    10039  \\\n",
              "DATE                                                  2015-10-31 00:00:00   \n",
              "UNIQUE_ID                                                         31-9355   \n",
              "MONTHLY_SALES                                                   27.333333   \n",
              "MONTHLY_REVENUE                                                       0.0   \n",
              "UNIQUE_DAYS_WITH_SALES                                                0.0   \n",
              "TOTAL_TRANSACTIONS                                                    0.0   \n",
              "MONTHLY_MEAN_PRICE                                                  349.0   \n",
              "CITY_NAME                                                           Moscú   \n",
              "CITY_ID                                                               7.0   \n",
              "SHOP_NAME                             centro comercial de Moscú \"Semenov\"   \n",
              "SHOP_ID                                                                31   \n",
              "ITEM_CATEGORY_NAME                       Regalos - Recuerdos (pesados) en   \n",
              "ITEM_CATEGORY_ID                                                       70   \n",
              "ITEM_NAME               Cadena de llaves de Minecraft (bolsa ciega) 1 ...   \n",
              "ITEM_ID                                                              9355   \n",
              "\n",
              "                                                      6128   \\\n",
              "DATE                                    2014-09-30 00:00:00   \n",
              "UNIQUE_ID                                           31-3331   \n",
              "MONTHLY_SALES                                          15.0   \n",
              "MONTHLY_REVENUE                                      2797.0   \n",
              "UNIQUE_DAYS_WITH_SALES                                  4.0   \n",
              "TOTAL_TRANSACTIONS                                      4.0   \n",
              "MONTHLY_MEAN_PRICE                                   699.25   \n",
              "CITY_NAME                                             Moscú   \n",
              "CITY_ID                                                 7.0   \n",
              "SHOP_NAME               centro comercial de Moscú \"Semenov\"   \n",
              "SHOP_ID                                                  31   \n",
              "ITEM_CATEGORY_NAME             Juegos PC - Standard Edition   \n",
              "ITEM_CATEGORY_ID                                         30   \n",
              "ITEM_NAME                        FIFA 14 [PC, versión rusa]   \n",
              "ITEM_ID                                                3331   \n",
              "\n",
              "                                                                    8503   \n",
              "DATE                                                  2015-05-31 00:00:00  \n",
              "UNIQUE_ID                                                        31-16169  \n",
              "MONTHLY_SALES                                                    8.666667  \n",
              "MONTHLY_REVENUE                                                    1196.0  \n",
              "UNIQUE_DAYS_WITH_SALES                                                3.0  \n",
              "TOTAL_TRANSACTIONS                                                    3.0  \n",
              "MONTHLY_MEAN_PRICE                                                  299.0  \n",
              "CITY_NAME                                                           Moscú  \n",
              "CITY_ID                                                               7.0  \n",
              "SHOP_NAME                             centro comercial de Moscú \"Semenov\"  \n",
              "SHOP_ID                                                                31  \n",
              "ITEM_CATEGORY_NAME                            Regalos - Juegos (compacto)  \n",
              "ITEM_CATEGORY_ID                                                       65  \n",
              "ITEM_NAME               Juego de mesa Mafia All Family Assembly (juego...  \n",
              "ITEM_ID                                                             16169  "
            ],
            "text/html": [
              "\n",
              "  <div id=\"df-7da1b011-953d-47f3-9a97-fbfcb0d37592\">\n",
              "    <div class=\"colab-df-container\">\n",
              "      <div>\n",
              "<style scoped>\n",
              "    .dataframe tbody tr th:only-of-type {\n",
              "        vertical-align: middle;\n",
              "    }\n",
              "\n",
              "    .dataframe tbody tr th {\n",
              "        vertical-align: top;\n",
              "    }\n",
              "\n",
              "    .dataframe thead th {\n",
              "        text-align: right;\n",
              "    }\n",
              "</style>\n",
              "<table border=\"1\" class=\"dataframe\">\n",
              "  <thead>\n",
              "    <tr style=\"text-align: right;\">\n",
              "      <th></th>\n",
              "      <th>2060</th>\n",
              "      <th>2211</th>\n",
              "      <th>10039</th>\n",
              "      <th>6128</th>\n",
              "      <th>8503</th>\n",
              "    </tr>\n",
              "  </thead>\n",
              "  <tbody>\n",
              "    <tr>\n",
              "      <th>DATE</th>\n",
              "      <td>2013-07-31 00:00:00</td>\n",
              "      <td>2013-08-31 00:00:00</td>\n",
              "      <td>2015-10-31 00:00:00</td>\n",
              "      <td>2014-09-30 00:00:00</td>\n",
              "      <td>2015-05-31 00:00:00</td>\n",
              "    </tr>\n",
              "    <tr>\n",
              "      <th>UNIQUE_ID</th>\n",
              "      <td>57-4870</td>\n",
              "      <td>3-17717</td>\n",
              "      <td>31-9355</td>\n",
              "      <td>31-3331</td>\n",
              "      <td>31-16169</td>\n",
              "    </tr>\n",
              "    <tr>\n",
              "      <th>MONTHLY_SALES</th>\n",
              "      <td>0.0</td>\n",
              "      <td>0.333333</td>\n",
              "      <td>27.333333</td>\n",
              "      <td>15.0</td>\n",
              "      <td>8.666667</td>\n",
              "    </tr>\n",
              "    <tr>\n",
              "      <th>MONTHLY_REVENUE</th>\n",
              "      <td>5593.0</td>\n",
              "      <td>1235.0</td>\n",
              "      <td>0.0</td>\n",
              "      <td>2797.0</td>\n",
              "      <td>1196.0</td>\n",
              "    </tr>\n",
              "    <tr>\n",
              "      <th>UNIQUE_DAYS_WITH_SALES</th>\n",
              "      <td>4.0</td>\n",
              "      <td>1.0</td>\n",
              "      <td>0.0</td>\n",
              "      <td>4.0</td>\n",
              "      <td>3.0</td>\n",
              "    </tr>\n",
              "    <tr>\n",
              "      <th>TOTAL_TRANSACTIONS</th>\n",
              "      <td>4.0</td>\n",
              "      <td>1.0</td>\n",
              "      <td>0.0</td>\n",
              "      <td>4.0</td>\n",
              "      <td>3.0</td>\n",
              "    </tr>\n",
              "    <tr>\n",
              "      <th>MONTHLY_MEAN_PRICE</th>\n",
              "      <td>799.0</td>\n",
              "      <td>1235.0</td>\n",
              "      <td>349.0</td>\n",
              "      <td>699.25</td>\n",
              "      <td>299.0</td>\n",
              "    </tr>\n",
              "    <tr>\n",
              "      <th>CITY_NAME</th>\n",
              "      <td>Yakutsk</td>\n",
              "      <td>Balashikha</td>\n",
              "      <td>Moscú</td>\n",
              "      <td>Moscú</td>\n",
              "      <td>Moscú</td>\n",
              "    </tr>\n",
              "    <tr>\n",
              "      <th>CITY_ID</th>\n",
              "      <td>23.0</td>\n",
              "      <td>0.0</td>\n",
              "      <td>7.0</td>\n",
              "      <td>7.0</td>\n",
              "      <td>7.0</td>\n",
              "    </tr>\n",
              "    <tr>\n",
              "      <th>SHOP_NAME</th>\n",
              "      <td>Yakutsk Ordzhonikidze, 56</td>\n",
              "      <td>Balashikha TRC \"Octubre-Kinomir\"</td>\n",
              "      <td>centro comercial de Moscú \"Semenov\"</td>\n",
              "      <td>centro comercial de Moscú \"Semenov\"</td>\n",
              "      <td>centro comercial de Moscú \"Semenov\"</td>\n",
              "    </tr>\n",
              "    <tr>\n",
              "      <th>SHOP_ID</th>\n",
              "      <td>57</td>\n",
              "      <td>3</td>\n",
              "      <td>31</td>\n",
              "      <td>31</td>\n",
              "      <td>31</td>\n",
              "    </tr>\n",
              "    <tr>\n",
              "      <th>ITEM_CATEGORY_NAME</th>\n",
              "      <td>Juegos - XBOX 360</td>\n",
              "      <td>Herramientas de sistema</td>\n",
              "      <td>Regalos - Recuerdos (pesados) en</td>\n",
              "      <td>Juegos PC - Standard Edition</td>\n",
              "      <td>Regalos - Juegos (compacto)</td>\n",
              "    </tr>\n",
              "    <tr>\n",
              "      <th>ITEM_CATEGORY_ID</th>\n",
              "      <td>23</td>\n",
              "      <td>79</td>\n",
              "      <td>70</td>\n",
              "      <td>30</td>\n",
              "      <td>65</td>\n",
              "    </tr>\n",
              "    <tr>\n",
              "      <th>ITEM_NAME</th>\n",
              "      <td>Minecraft [Xbox 360, versión en inglés]</td>\n",
              "      <td>Recibir fondos para 1c-online</td>\n",
              "      <td>Cadena de llaves de Minecraft (bolsa ciega) 1 ...</td>\n",
              "      <td>FIFA 14 [PC, versión rusa]</td>\n",
              "      <td>Juego de mesa Mafia All Family Assembly (juego...</td>\n",
              "    </tr>\n",
              "    <tr>\n",
              "      <th>ITEM_ID</th>\n",
              "      <td>4870</td>\n",
              "      <td>17717</td>\n",
              "      <td>9355</td>\n",
              "      <td>3331</td>\n",
              "      <td>16169</td>\n",
              "    </tr>\n",
              "  </tbody>\n",
              "</table>\n",
              "</div>\n",
              "      <button class=\"colab-df-convert\" onclick=\"convertToInteractive('df-7da1b011-953d-47f3-9a97-fbfcb0d37592')\"\n",
              "              title=\"Convert this dataframe to an interactive table.\"\n",
              "              style=\"display:none;\">\n",
              "        \n",
              "  <svg xmlns=\"http://www.w3.org/2000/svg\" height=\"24px\"viewBox=\"0 0 24 24\"\n",
              "       width=\"24px\">\n",
              "    <path d=\"M0 0h24v24H0V0z\" fill=\"none\"/>\n",
              "    <path d=\"M18.56 5.44l.94 2.06.94-2.06 2.06-.94-2.06-.94-.94-2.06-.94 2.06-2.06.94zm-11 1L8.5 8.5l.94-2.06 2.06-.94-2.06-.94L8.5 2.5l-.94 2.06-2.06.94zm10 10l.94 2.06.94-2.06 2.06-.94-2.06-.94-.94-2.06-.94 2.06-2.06.94z\"/><path d=\"M17.41 7.96l-1.37-1.37c-.4-.4-.92-.59-1.43-.59-.52 0-1.04.2-1.43.59L10.3 9.45l-7.72 7.72c-.78.78-.78 2.05 0 2.83L4 21.41c.39.39.9.59 1.41.59.51 0 1.02-.2 1.41-.59l7.78-7.78 2.81-2.81c.8-.78.8-2.07 0-2.86zM5.41 20L4 18.59l7.72-7.72 1.47 1.35L5.41 20z\"/>\n",
              "  </svg>\n",
              "      </button>\n",
              "      \n",
              "  <style>\n",
              "    .colab-df-container {\n",
              "      display:flex;\n",
              "      flex-wrap:wrap;\n",
              "      gap: 12px;\n",
              "    }\n",
              "\n",
              "    .colab-df-convert {\n",
              "      background-color: #E8F0FE;\n",
              "      border: none;\n",
              "      border-radius: 50%;\n",
              "      cursor: pointer;\n",
              "      display: none;\n",
              "      fill: #1967D2;\n",
              "      height: 32px;\n",
              "      padding: 0 0 0 0;\n",
              "      width: 32px;\n",
              "    }\n",
              "\n",
              "    .colab-df-convert:hover {\n",
              "      background-color: #E2EBFA;\n",
              "      box-shadow: 0px 1px 2px rgba(60, 64, 67, 0.3), 0px 1px 3px 1px rgba(60, 64, 67, 0.15);\n",
              "      fill: #174EA6;\n",
              "    }\n",
              "\n",
              "    [theme=dark] .colab-df-convert {\n",
              "      background-color: #3B4455;\n",
              "      fill: #D2E3FC;\n",
              "    }\n",
              "\n",
              "    [theme=dark] .colab-df-convert:hover {\n",
              "      background-color: #434B5C;\n",
              "      box-shadow: 0px 1px 3px 1px rgba(0, 0, 0, 0.15);\n",
              "      filter: drop-shadow(0px 1px 2px rgba(0, 0, 0, 0.3));\n",
              "      fill: #FFFFFF;\n",
              "    }\n",
              "  </style>\n",
              "\n",
              "      <script>\n",
              "        const buttonEl =\n",
              "          document.querySelector('#df-7da1b011-953d-47f3-9a97-fbfcb0d37592 button.colab-df-convert');\n",
              "        buttonEl.style.display =\n",
              "          google.colab.kernel.accessAllowed ? 'block' : 'none';\n",
              "\n",
              "        async function convertToInteractive(key) {\n",
              "          const element = document.querySelector('#df-7da1b011-953d-47f3-9a97-fbfcb0d37592');\n",
              "          const dataTable =\n",
              "            await google.colab.kernel.invokeFunction('convertToInteractive',\n",
              "                                                     [key], {});\n",
              "          if (!dataTable) return;\n",
              "\n",
              "          const docLinkHtml = 'Like what you see? Visit the ' +\n",
              "            '<a target=\"_blank\" href=https://colab.research.google.com/notebooks/data_table.ipynb>data table notebook</a>'\n",
              "            + ' to learn more about interactive tables.';\n",
              "          element.innerHTML = '';\n",
              "          dataTable['output_type'] = 'display_data';\n",
              "          await google.colab.output.renderOutput(dataTable, element);\n",
              "          const docLink = document.createElement('div');\n",
              "          docLink.innerHTML = docLinkHtml;\n",
              "          element.appendChild(docLink);\n",
              "        }\n",
              "      </script>\n",
              "    </div>\n",
              "  </div>\n",
              "  "
            ]
          },
          "metadata": {},
          "execution_count": 238
        }
      ]
    },
    {
      "cell_type": "code",
      "source": [
        "def build_ts_vars(full_df, gb_list, target_column, agg_func, agg_func_name, verbose = True):\n",
        "    \n",
        "    assert gb_list[0] == \"DATE\", \"First element must be date\"\n",
        "    \n",
        "    new_name = \"_\".join(gb_list + [target_column] + [agg_func_name])\n",
        "    \n",
        "    if verbose: print(new_name)\n",
        "\n",
        "    gb_df_ = full_df.groupby(gb_list)[target_column].apply(agg_func).to_frame().reset_index().rename(\n",
        "        columns = {\n",
        "            target_column : new_name\n",
        "        }\n",
        "    )\n",
        "\n",
        "    gb_df_[f\"{new_name}_LAG2\"] = gb_df_.groupby(gb_list[1:])[new_name].transform(\n",
        "        lambda series: series.shift(2)\n",
        "    )\n",
        "    \n",
        "    return gb_df_"
      ],
      "metadata": {
        "papermill": {
          "duration": 0.036788,
          "end_time": "2022-12-25T18:21:24.681073",
          "exception": false,
          "start_time": "2022-12-25T18:21:24.644285",
          "status": "completed"
        },
        "tags": [],
        "execution": {
          "iopub.status.busy": "2023-04-18T19:34:16.483103Z",
          "iopub.execute_input": "2023-04-18T19:34:16.483974Z",
          "iopub.status.idle": "2023-04-18T19:34:16.492559Z",
          "shell.execute_reply.started": "2023-04-18T19:34:16.483941Z",
          "shell.execute_reply": "2023-04-18T19:34:16.491461Z"
        },
        "trusted": true,
        "id": "ZGLhMJUc5RKO"
      },
      "execution_count": 239,
      "outputs": []
    },
    {
      "cell_type": "code",
      "source": [
        "\"DATE_ITEM_ID_ITEM_CATEGORY_ID_SHOP_ID_MONTHLY_SALES_SUM_LAG2\""
      ],
      "metadata": {
        "execution": {
          "iopub.status.busy": "2023-04-18T19:34:16.494083Z",
          "iopub.execute_input": "2023-04-18T19:34:16.494419Z",
          "iopub.status.idle": "2023-04-18T19:34:16.505688Z",
          "shell.execute_reply.started": "2023-04-18T19:34:16.494389Z",
          "shell.execute_reply": "2023-04-18T19:34:16.504462Z"
        },
        "trusted": true,
        "colab": {
          "base_uri": "https://localhost:8080/",
          "height": 36
        },
        "id": "UpJUmw1N5RKP",
        "outputId": "6b82fa93-f2ec-465e-9629-d2c3307ba5c5"
      },
      "execution_count": 240,
      "outputs": [
        {
          "output_type": "execute_result",
          "data": {
            "text/plain": [
              "'DATE_ITEM_ID_ITEM_CATEGORY_ID_SHOP_ID_MONTHLY_SALES_SUM_LAG2'"
            ],
            "application/vnd.google.colaboratory.intrinsic+json": {
              "type": "string"
            }
          },
          "metadata": {},
          "execution_count": 240
        }
      ]
    },
    {
      "cell_type": "code",
      "source": [
        "ventas_total_por_tienda_y_item_category = full_df.groupby([\"DATE\", \"SHOP_ID\", \"ITEM_CATEGORY_ID\"])[\"MONTHLY_SALES\"].sum().reset_index()"
      ],
      "metadata": {
        "execution": {
          "iopub.status.busy": "2023-04-18T19:34:16.507265Z",
          "iopub.execute_input": "2023-04-18T19:34:16.508070Z",
          "iopub.status.idle": "2023-04-18T19:34:16.524711Z",
          "shell.execute_reply.started": "2023-04-18T19:34:16.508025Z",
          "shell.execute_reply": "2023-04-18T19:34:16.523572Z"
        },
        "trusted": true,
        "id": "-bHtrG5C5RKP"
      },
      "execution_count": 241,
      "outputs": []
    },
    {
      "cell_type": "code",
      "source": [
        "gb_ = full_df.groupby([\"SHOP_ID\", \"ITEM_CATEGORY_ID\"])[\"UNIQUE_ID\"].nunique()\n",
        "gb_[gb_ != 1]"
      ],
      "metadata": {
        "execution": {
          "iopub.status.busy": "2023-04-18T19:34:16.526452Z",
          "iopub.execute_input": "2023-04-18T19:34:16.527238Z",
          "iopub.status.idle": "2023-04-18T19:34:16.544665Z",
          "shell.execute_reply.started": "2023-04-18T19:34:16.527192Z",
          "shell.execute_reply": "2023-04-18T19:34:16.543346Z"
        },
        "trusted": true,
        "colab": {
          "base_uri": "https://localhost:8080/"
        },
        "id": "SX-RCAie5RKQ",
        "outputId": "36eac0c7-72a5-4012-d1b3-07b6abd08b05"
      },
      "execution_count": 242,
      "outputs": [
        {
          "output_type": "execute_result",
          "data": {
            "text/plain": [
              "SHOP_ID  ITEM_CATEGORY_ID\n",
              "6        35                   3\n",
              "12       9                    4\n",
              "15       30                   2\n",
              "         75                   2\n",
              "19       30                   2\n",
              "22       49                   4\n",
              "         73                   3\n",
              "         75                   2\n",
              "24       30                   3\n",
              "         75                   4\n",
              "25       6                    2\n",
              "         19                   2\n",
              "         23                   2\n",
              "         28                   2\n",
              "         30                   6\n",
              "         35                   3\n",
              "         55                   2\n",
              "         65                   4\n",
              "28       6                    2\n",
              "         19                   4\n",
              "         23                   3\n",
              "         28                   2\n",
              "         30                   5\n",
              "         35                   3\n",
              "         65                   2\n",
              "31       6                    2\n",
              "         19                   3\n",
              "         20                   2\n",
              "         23                   2\n",
              "         28                   2\n",
              "         30                  15\n",
              "         35                   4\n",
              "         40                  10\n",
              "         63                   2\n",
              "         65                   2\n",
              "         75                   2\n",
              "42       35                   3\n",
              "44       83                   2\n",
              "50       23                   2\n",
              "53       30                   2\n",
              "55       31                   4\n",
              "         34                   5\n",
              "         54                   7\n",
              "57       6                    2\n",
              "         23                   5\n",
              "         30                   6\n",
              "         40                   3\n",
              "         75                   3\n",
              "58       6                    2\n",
              "         23                   5\n",
              "         30                   2\n",
              "Name: UNIQUE_ID, dtype: int64"
            ]
          },
          "metadata": {},
          "execution_count": 242
        }
      ]
    },
    {
      "cell_type": "code",
      "source": [
        "ts_ = ventas_total_por_tienda_y_item_category[\n",
        "    (ventas_total_por_tienda_y_item_category[\"SHOP_ID\"] == 12) &\n",
        "    (ventas_total_por_tienda_y_item_category[\"ITEM_CATEGORY_ID\"] ==  9)\n",
        "]"
      ],
      "metadata": {
        "execution": {
          "iopub.status.busy": "2023-04-18T19:34:16.546799Z",
          "iopub.execute_input": "2023-04-18T19:34:16.547688Z",
          "iopub.status.idle": "2023-04-18T19:34:16.556011Z",
          "shell.execute_reply.started": "2023-04-18T19:34:16.547643Z",
          "shell.execute_reply": "2023-04-18T19:34:16.554537Z"
        },
        "trusted": true,
        "id": "ytVsFl3V5RKR"
      },
      "execution_count": 243,
      "outputs": []
    },
    {
      "cell_type": "code",
      "source": [
        "# full_df[[\"UNIQUE_ID\", \"SHOP_ID\", \"ITEM_CATEGORY_ID\"]].drop_duplicates()"
      ],
      "metadata": {
        "execution": {
          "iopub.status.busy": "2023-04-18T19:34:16.557541Z",
          "iopub.execute_input": "2023-04-18T19:34:16.557976Z",
          "iopub.status.idle": "2023-04-18T19:34:16.566821Z",
          "shell.execute_reply.started": "2023-04-18T19:34:16.557927Z",
          "shell.execute_reply": "2023-04-18T19:34:16.565559Z"
        },
        "trusted": true,
        "id": "1vbl303v5RKR"
      },
      "execution_count": 244,
      "outputs": []
    },
    {
      "cell_type": "code",
      "source": [
        "ts_.head(3)"
      ],
      "metadata": {
        "execution": {
          "iopub.status.busy": "2023-04-18T19:34:16.568376Z",
          "iopub.execute_input": "2023-04-18T19:34:16.568837Z",
          "iopub.status.idle": "2023-04-18T19:34:16.587899Z",
          "shell.execute_reply.started": "2023-04-18T19:34:16.568795Z",
          "shell.execute_reply": "2023-04-18T19:34:16.586832Z"
        },
        "trusted": true,
        "colab": {
          "base_uri": "https://localhost:8080/",
          "height": 144
        },
        "id": "JRalAUUd5RKS",
        "outputId": "3dcf55c8-85f2-475a-adbb-3e781a6c7efa"
      },
      "execution_count": 245,
      "outputs": [
        {
          "output_type": "execute_result",
          "data": {
            "text/plain": [
              "          DATE  SHOP_ID  ITEM_CATEGORY_ID  MONTHLY_SALES\n",
              "18  2013-01-31       12                 9            0.0\n",
              "196 2013-02-28       12                 9            0.0\n",
              "374 2013-03-31       12                 9            0.0"
            ],
            "text/html": [
              "\n",
              "  <div id=\"df-32ea637e-8668-45d7-962c-222d20448855\">\n",
              "    <div class=\"colab-df-container\">\n",
              "      <div>\n",
              "<style scoped>\n",
              "    .dataframe tbody tr th:only-of-type {\n",
              "        vertical-align: middle;\n",
              "    }\n",
              "\n",
              "    .dataframe tbody tr th {\n",
              "        vertical-align: top;\n",
              "    }\n",
              "\n",
              "    .dataframe thead th {\n",
              "        text-align: right;\n",
              "    }\n",
              "</style>\n",
              "<table border=\"1\" class=\"dataframe\">\n",
              "  <thead>\n",
              "    <tr style=\"text-align: right;\">\n",
              "      <th></th>\n",
              "      <th>DATE</th>\n",
              "      <th>SHOP_ID</th>\n",
              "      <th>ITEM_CATEGORY_ID</th>\n",
              "      <th>MONTHLY_SALES</th>\n",
              "    </tr>\n",
              "  </thead>\n",
              "  <tbody>\n",
              "    <tr>\n",
              "      <th>18</th>\n",
              "      <td>2013-01-31</td>\n",
              "      <td>12</td>\n",
              "      <td>9</td>\n",
              "      <td>0.0</td>\n",
              "    </tr>\n",
              "    <tr>\n",
              "      <th>196</th>\n",
              "      <td>2013-02-28</td>\n",
              "      <td>12</td>\n",
              "      <td>9</td>\n",
              "      <td>0.0</td>\n",
              "    </tr>\n",
              "    <tr>\n",
              "      <th>374</th>\n",
              "      <td>2013-03-31</td>\n",
              "      <td>12</td>\n",
              "      <td>9</td>\n",
              "      <td>0.0</td>\n",
              "    </tr>\n",
              "  </tbody>\n",
              "</table>\n",
              "</div>\n",
              "      <button class=\"colab-df-convert\" onclick=\"convertToInteractive('df-32ea637e-8668-45d7-962c-222d20448855')\"\n",
              "              title=\"Convert this dataframe to an interactive table.\"\n",
              "              style=\"display:none;\">\n",
              "        \n",
              "  <svg xmlns=\"http://www.w3.org/2000/svg\" height=\"24px\"viewBox=\"0 0 24 24\"\n",
              "       width=\"24px\">\n",
              "    <path d=\"M0 0h24v24H0V0z\" fill=\"none\"/>\n",
              "    <path d=\"M18.56 5.44l.94 2.06.94-2.06 2.06-.94-2.06-.94-.94-2.06-.94 2.06-2.06.94zm-11 1L8.5 8.5l.94-2.06 2.06-.94-2.06-.94L8.5 2.5l-.94 2.06-2.06.94zm10 10l.94 2.06.94-2.06 2.06-.94-2.06-.94-.94-2.06-.94 2.06-2.06.94z\"/><path d=\"M17.41 7.96l-1.37-1.37c-.4-.4-.92-.59-1.43-.59-.52 0-1.04.2-1.43.59L10.3 9.45l-7.72 7.72c-.78.78-.78 2.05 0 2.83L4 21.41c.39.39.9.59 1.41.59.51 0 1.02-.2 1.41-.59l7.78-7.78 2.81-2.81c.8-.78.8-2.07 0-2.86zM5.41 20L4 18.59l7.72-7.72 1.47 1.35L5.41 20z\"/>\n",
              "  </svg>\n",
              "      </button>\n",
              "      \n",
              "  <style>\n",
              "    .colab-df-container {\n",
              "      display:flex;\n",
              "      flex-wrap:wrap;\n",
              "      gap: 12px;\n",
              "    }\n",
              "\n",
              "    .colab-df-convert {\n",
              "      background-color: #E8F0FE;\n",
              "      border: none;\n",
              "      border-radius: 50%;\n",
              "      cursor: pointer;\n",
              "      display: none;\n",
              "      fill: #1967D2;\n",
              "      height: 32px;\n",
              "      padding: 0 0 0 0;\n",
              "      width: 32px;\n",
              "    }\n",
              "\n",
              "    .colab-df-convert:hover {\n",
              "      background-color: #E2EBFA;\n",
              "      box-shadow: 0px 1px 2px rgba(60, 64, 67, 0.3), 0px 1px 3px 1px rgba(60, 64, 67, 0.15);\n",
              "      fill: #174EA6;\n",
              "    }\n",
              "\n",
              "    [theme=dark] .colab-df-convert {\n",
              "      background-color: #3B4455;\n",
              "      fill: #D2E3FC;\n",
              "    }\n",
              "\n",
              "    [theme=dark] .colab-df-convert:hover {\n",
              "      background-color: #434B5C;\n",
              "      box-shadow: 0px 1px 3px 1px rgba(0, 0, 0, 0.15);\n",
              "      filter: drop-shadow(0px 1px 2px rgba(0, 0, 0, 0.3));\n",
              "      fill: #FFFFFF;\n",
              "    }\n",
              "  </style>\n",
              "\n",
              "      <script>\n",
              "        const buttonEl =\n",
              "          document.querySelector('#df-32ea637e-8668-45d7-962c-222d20448855 button.colab-df-convert');\n",
              "        buttonEl.style.display =\n",
              "          google.colab.kernel.accessAllowed ? 'block' : 'none';\n",
              "\n",
              "        async function convertToInteractive(key) {\n",
              "          const element = document.querySelector('#df-32ea637e-8668-45d7-962c-222d20448855');\n",
              "          const dataTable =\n",
              "            await google.colab.kernel.invokeFunction('convertToInteractive',\n",
              "                                                     [key], {});\n",
              "          if (!dataTable) return;\n",
              "\n",
              "          const docLinkHtml = 'Like what you see? Visit the ' +\n",
              "            '<a target=\"_blank\" href=https://colab.research.google.com/notebooks/data_table.ipynb>data table notebook</a>'\n",
              "            + ' to learn more about interactive tables.';\n",
              "          element.innerHTML = '';\n",
              "          dataTable['output_type'] = 'display_data';\n",
              "          await google.colab.output.renderOutput(dataTable, element);\n",
              "          const docLink = document.createElement('div');\n",
              "          docLink.innerHTML = docLinkHtml;\n",
              "          element.appendChild(docLink);\n",
              "        }\n",
              "      </script>\n",
              "    </div>\n",
              "  </div>\n",
              "  "
            ]
          },
          "metadata": {},
          "execution_count": 245
        }
      ]
    },
    {
      "cell_type": "code",
      "source": [
        "sample_target = full_df[full_df[\"UNIQUE_ID\"] == \"12-11369\"][[\"DATE\", \"UNIQUE_ID\", \"SHOP_ID\", \"ITEM_CATEGORY_ID\", \"MONTHLY_SALES\"]]\n",
        "sample_target.head(3)"
      ],
      "metadata": {
        "execution": {
          "iopub.status.busy": "2023-04-18T19:34:16.589237Z",
          "iopub.execute_input": "2023-04-18T19:34:16.589643Z",
          "iopub.status.idle": "2023-04-18T19:34:16.611006Z",
          "shell.execute_reply.started": "2023-04-18T19:34:16.589604Z",
          "shell.execute_reply": "2023-04-18T19:34:16.609556Z"
        },
        "trusted": true,
        "colab": {
          "base_uri": "https://localhost:8080/",
          "height": 144
        },
        "id": "5jpXy6rW5RKY",
        "outputId": "e8a3e1b7-cc0b-4618-cba4-3c93cc00ae01"
      },
      "execution_count": 246,
      "outputs": [
        {
          "output_type": "execute_result",
          "data": {
            "text/plain": [
              "          DATE UNIQUE_ID  SHOP_ID  ITEM_CATEGORY_ID  MONTHLY_SALES\n",
              "3   2013-01-31  12-11369       12                 9            0.0\n",
              "302 2013-02-28  12-11369       12                 9            0.0\n",
              "601 2013-03-31  12-11369       12                 9            0.0"
            ],
            "text/html": [
              "\n",
              "  <div id=\"df-be5343ce-e3cd-4e29-bdc7-9529eac8a12e\">\n",
              "    <div class=\"colab-df-container\">\n",
              "      <div>\n",
              "<style scoped>\n",
              "    .dataframe tbody tr th:only-of-type {\n",
              "        vertical-align: middle;\n",
              "    }\n",
              "\n",
              "    .dataframe tbody tr th {\n",
              "        vertical-align: top;\n",
              "    }\n",
              "\n",
              "    .dataframe thead th {\n",
              "        text-align: right;\n",
              "    }\n",
              "</style>\n",
              "<table border=\"1\" class=\"dataframe\">\n",
              "  <thead>\n",
              "    <tr style=\"text-align: right;\">\n",
              "      <th></th>\n",
              "      <th>DATE</th>\n",
              "      <th>UNIQUE_ID</th>\n",
              "      <th>SHOP_ID</th>\n",
              "      <th>ITEM_CATEGORY_ID</th>\n",
              "      <th>MONTHLY_SALES</th>\n",
              "    </tr>\n",
              "  </thead>\n",
              "  <tbody>\n",
              "    <tr>\n",
              "      <th>3</th>\n",
              "      <td>2013-01-31</td>\n",
              "      <td>12-11369</td>\n",
              "      <td>12</td>\n",
              "      <td>9</td>\n",
              "      <td>0.0</td>\n",
              "    </tr>\n",
              "    <tr>\n",
              "      <th>302</th>\n",
              "      <td>2013-02-28</td>\n",
              "      <td>12-11369</td>\n",
              "      <td>12</td>\n",
              "      <td>9</td>\n",
              "      <td>0.0</td>\n",
              "    </tr>\n",
              "    <tr>\n",
              "      <th>601</th>\n",
              "      <td>2013-03-31</td>\n",
              "      <td>12-11369</td>\n",
              "      <td>12</td>\n",
              "      <td>9</td>\n",
              "      <td>0.0</td>\n",
              "    </tr>\n",
              "  </tbody>\n",
              "</table>\n",
              "</div>\n",
              "      <button class=\"colab-df-convert\" onclick=\"convertToInteractive('df-be5343ce-e3cd-4e29-bdc7-9529eac8a12e')\"\n",
              "              title=\"Convert this dataframe to an interactive table.\"\n",
              "              style=\"display:none;\">\n",
              "        \n",
              "  <svg xmlns=\"http://www.w3.org/2000/svg\" height=\"24px\"viewBox=\"0 0 24 24\"\n",
              "       width=\"24px\">\n",
              "    <path d=\"M0 0h24v24H0V0z\" fill=\"none\"/>\n",
              "    <path d=\"M18.56 5.44l.94 2.06.94-2.06 2.06-.94-2.06-.94-.94-2.06-.94 2.06-2.06.94zm-11 1L8.5 8.5l.94-2.06 2.06-.94-2.06-.94L8.5 2.5l-.94 2.06-2.06.94zm10 10l.94 2.06.94-2.06 2.06-.94-2.06-.94-.94-2.06-.94 2.06-2.06.94z\"/><path d=\"M17.41 7.96l-1.37-1.37c-.4-.4-.92-.59-1.43-.59-.52 0-1.04.2-1.43.59L10.3 9.45l-7.72 7.72c-.78.78-.78 2.05 0 2.83L4 21.41c.39.39.9.59 1.41.59.51 0 1.02-.2 1.41-.59l7.78-7.78 2.81-2.81c.8-.78.8-2.07 0-2.86zM5.41 20L4 18.59l7.72-7.72 1.47 1.35L5.41 20z\"/>\n",
              "  </svg>\n",
              "      </button>\n",
              "      \n",
              "  <style>\n",
              "    .colab-df-container {\n",
              "      display:flex;\n",
              "      flex-wrap:wrap;\n",
              "      gap: 12px;\n",
              "    }\n",
              "\n",
              "    .colab-df-convert {\n",
              "      background-color: #E8F0FE;\n",
              "      border: none;\n",
              "      border-radius: 50%;\n",
              "      cursor: pointer;\n",
              "      display: none;\n",
              "      fill: #1967D2;\n",
              "      height: 32px;\n",
              "      padding: 0 0 0 0;\n",
              "      width: 32px;\n",
              "    }\n",
              "\n",
              "    .colab-df-convert:hover {\n",
              "      background-color: #E2EBFA;\n",
              "      box-shadow: 0px 1px 2px rgba(60, 64, 67, 0.3), 0px 1px 3px 1px rgba(60, 64, 67, 0.15);\n",
              "      fill: #174EA6;\n",
              "    }\n",
              "\n",
              "    [theme=dark] .colab-df-convert {\n",
              "      background-color: #3B4455;\n",
              "      fill: #D2E3FC;\n",
              "    }\n",
              "\n",
              "    [theme=dark] .colab-df-convert:hover {\n",
              "      background-color: #434B5C;\n",
              "      box-shadow: 0px 1px 3px 1px rgba(0, 0, 0, 0.15);\n",
              "      filter: drop-shadow(0px 1px 2px rgba(0, 0, 0, 0.3));\n",
              "      fill: #FFFFFF;\n",
              "    }\n",
              "  </style>\n",
              "\n",
              "      <script>\n",
              "        const buttonEl =\n",
              "          document.querySelector('#df-be5343ce-e3cd-4e29-bdc7-9529eac8a12e button.colab-df-convert');\n",
              "        buttonEl.style.display =\n",
              "          google.colab.kernel.accessAllowed ? 'block' : 'none';\n",
              "\n",
              "        async function convertToInteractive(key) {\n",
              "          const element = document.querySelector('#df-be5343ce-e3cd-4e29-bdc7-9529eac8a12e');\n",
              "          const dataTable =\n",
              "            await google.colab.kernel.invokeFunction('convertToInteractive',\n",
              "                                                     [key], {});\n",
              "          if (!dataTable) return;\n",
              "\n",
              "          const docLinkHtml = 'Like what you see? Visit the ' +\n",
              "            '<a target=\"_blank\" href=https://colab.research.google.com/notebooks/data_table.ipynb>data table notebook</a>'\n",
              "            + ' to learn more about interactive tables.';\n",
              "          element.innerHTML = '';\n",
              "          dataTable['output_type'] = 'display_data';\n",
              "          await google.colab.output.renderOutput(dataTable, element);\n",
              "          const docLink = document.createElement('div');\n",
              "          docLink.innerHTML = docLinkHtml;\n",
              "          element.appendChild(docLink);\n",
              "        }\n",
              "      </script>\n",
              "    </div>\n",
              "  </div>\n",
              "  "
            ]
          },
          "metadata": {},
          "execution_count": 246
        }
      ]
    },
    {
      "cell_type": "code",
      "source": [
        "print(sample_target.shape)\n",
        "sample_target = pd.merge(\n",
        "    left = sample_target,\n",
        "    right = ts_,\n",
        "    how = \"left\",\n",
        "    on = [\"DATE\", \"SHOP_ID\", \"ITEM_CATEGORY_ID\"]\n",
        ")\n",
        "print(sample_target.shape)"
      ],
      "metadata": {
        "execution": {
          "iopub.status.busy": "2023-04-18T19:34:16.613074Z",
          "iopub.execute_input": "2023-04-18T19:34:16.613816Z",
          "iopub.status.idle": "2023-04-18T19:34:16.626809Z",
          "shell.execute_reply.started": "2023-04-18T19:34:16.613773Z",
          "shell.execute_reply": "2023-04-18T19:34:16.625398Z"
        },
        "trusted": true,
        "colab": {
          "base_uri": "https://localhost:8080/"
        },
        "id": "anqLTCKl5RKY",
        "outputId": "dbe57d5c-9f4a-463c-d408-bed883f968a7"
      },
      "execution_count": 247,
      "outputs": [
        {
          "output_type": "stream",
          "name": "stdout",
          "text": [
            "(34, 5)\n",
            "(34, 6)\n"
          ]
        }
      ]
    },
    {
      "cell_type": "code",
      "source": [
        "42/145"
      ],
      "metadata": {
        "execution": {
          "iopub.status.busy": "2023-04-18T19:34:16.628750Z",
          "iopub.execute_input": "2023-04-18T19:34:16.629182Z",
          "iopub.status.idle": "2023-04-18T19:34:16.635793Z",
          "shell.execute_reply.started": "2023-04-18T19:34:16.629141Z",
          "shell.execute_reply": "2023-04-18T19:34:16.634736Z"
        },
        "trusted": true,
        "colab": {
          "base_uri": "https://localhost:8080/"
        },
        "id": "o4yImHBR5RKZ",
        "outputId": "cada1bee-d1cb-41c5-bca0-33092518608c"
      },
      "execution_count": 248,
      "outputs": [
        {
          "output_type": "execute_result",
          "data": {
            "text/plain": [
              "0.2896551724137931"
            ]
          },
          "metadata": {},
          "execution_count": 248
        }
      ]
    },
    {
      "cell_type": "code",
      "source": [
        "sample_target[\"MONTHLY_SALES_y_LAG_2\"] = sample_target[\"MONTHLY_SALES_y\"].shift(2)\n",
        "sample_target"
      ],
      "metadata": {
        "execution": {
          "iopub.status.busy": "2023-04-18T19:34:16.637554Z",
          "iopub.execute_input": "2023-04-18T19:34:16.638217Z",
          "iopub.status.idle": "2023-04-18T19:34:16.661801Z",
          "shell.execute_reply.started": "2023-04-18T19:34:16.638184Z",
          "shell.execute_reply": "2023-04-18T19:34:16.660752Z"
        },
        "trusted": true,
        "colab": {
          "base_uri": "https://localhost:8080/",
          "height": 1000
        },
        "id": "0MuCuG2-5RKa",
        "outputId": "0e4aba96-97b9-4636-e8f1-e9e606ec2352"
      },
      "execution_count": 249,
      "outputs": [
        {
          "output_type": "execute_result",
          "data": {
            "text/plain": [
              "         DATE UNIQUE_ID  SHOP_ID  ITEM_CATEGORY_ID  MONTHLY_SALES_x  \\\n",
              "0  2013-01-31  12-11369       12                 9         0.000000   \n",
              "1  2013-02-28  12-11369       12                 9         0.000000   \n",
              "2  2013-03-31  12-11369       12                 9         0.000000   \n",
              "3  2013-04-30  12-11369       12                 9        47.000000   \n",
              "4  2013-05-31  12-11369       12                 9        43.000000   \n",
              "5  2013-06-30  12-11369       12                 9        32.000000   \n",
              "6  2013-07-31  12-11369       12                 9        22.666667   \n",
              "7  2013-08-31  12-11369       12                 9        18.666667   \n",
              "8  2013-09-30  12-11369       12                 9        23.333333   \n",
              "9  2013-10-31  12-11369       12                 9        27.333333   \n",
              "10 2013-11-30  12-11369       12                 9        53.333333   \n",
              "11 2013-12-31  12-11369       12                 9       137.333333   \n",
              "12 2014-01-31  12-11369       12                 9       156.000000   \n",
              "13 2014-02-28  12-11369       12                 9       138.000000   \n",
              "14 2014-03-31  12-11369       12                 9        69.666667   \n",
              "15 2014-04-30  12-11369       12                 9        76.333333   \n",
              "16 2014-05-31  12-11369       12                 9        93.333333   \n",
              "17 2014-06-30  12-11369       12                 9       113.000000   \n",
              "18 2014-07-31  12-11369       12                 9        86.666667   \n",
              "19 2014-08-31  12-11369       12                 9        71.666667   \n",
              "20 2014-09-30  12-11369       12                 9        36.333333   \n",
              "21 2014-10-31  12-11369       12                 9        44.000000   \n",
              "22 2014-11-30  12-11369       12                 9        41.000000   \n",
              "23 2014-12-31  12-11369       12                 9       116.666667   \n",
              "24 2015-01-31  12-11369       12                 9       127.666667   \n",
              "25 2015-02-28  12-11369       12                 9       131.666667   \n",
              "26 2015-03-31  12-11369       12                 9        60.000000   \n",
              "27 2015-04-30  12-11369       12                 9        50.333333   \n",
              "28 2015-05-31  12-11369       12                 9        94.666667   \n",
              "29 2015-06-30  12-11369       12                 9       195.000000   \n",
              "30 2015-07-31  12-11369       12                 9       193.333333   \n",
              "31 2015-08-31  12-11369       12                 9       153.666667   \n",
              "32 2015-09-30  12-11369       12                 9        46.000000   \n",
              "33 2015-10-31  12-11369       12                 9        53.666667   \n",
              "\n",
              "    MONTHLY_SALES_y  MONTHLY_SALES_y_LAG_2  \n",
              "0          0.000000                    NaN  \n",
              "1          0.000000                    NaN  \n",
              "2          0.000000               0.000000  \n",
              "3        170.333333               0.000000  \n",
              "4        168.000000               0.000000  \n",
              "5        147.000000             170.333333  \n",
              "6        119.000000             168.000000  \n",
              "7        100.000000             147.000000  \n",
              "8        110.333333             119.000000  \n",
              "9        107.666667             100.000000  \n",
              "10       165.000000             110.333333  \n",
              "11       443.666667             107.666667  \n",
              "12       522.666667             165.000000  \n",
              "13       491.000000             443.666667  \n",
              "14       310.000000             522.666667  \n",
              "15       449.333333             491.000000  \n",
              "16       526.333333             310.000000  \n",
              "17       570.000000             449.333333  \n",
              "18       377.000000             526.333333  \n",
              "19       312.666667             570.000000  \n",
              "20       195.000000             377.000000  \n",
              "21       264.000000             312.666667  \n",
              "22       307.000000             195.000000  \n",
              "23       693.666667             264.000000  \n",
              "24       893.666667             307.000000  \n",
              "25       915.000000             693.666667  \n",
              "26       589.000000             893.666667  \n",
              "27       377.333333             915.000000  \n",
              "28       532.666667             589.000000  \n",
              "29       981.333333             377.333333  \n",
              "30       988.333333             532.666667  \n",
              "31       829.000000             981.333333  \n",
              "32       319.333333             988.333333  \n",
              "33       391.000000             829.000000  "
            ],
            "text/html": [
              "\n",
              "  <div id=\"df-93a50d49-ecd1-4e2a-a241-83fb7e51f9d3\">\n",
              "    <div class=\"colab-df-container\">\n",
              "      <div>\n",
              "<style scoped>\n",
              "    .dataframe tbody tr th:only-of-type {\n",
              "        vertical-align: middle;\n",
              "    }\n",
              "\n",
              "    .dataframe tbody tr th {\n",
              "        vertical-align: top;\n",
              "    }\n",
              "\n",
              "    .dataframe thead th {\n",
              "        text-align: right;\n",
              "    }\n",
              "</style>\n",
              "<table border=\"1\" class=\"dataframe\">\n",
              "  <thead>\n",
              "    <tr style=\"text-align: right;\">\n",
              "      <th></th>\n",
              "      <th>DATE</th>\n",
              "      <th>UNIQUE_ID</th>\n",
              "      <th>SHOP_ID</th>\n",
              "      <th>ITEM_CATEGORY_ID</th>\n",
              "      <th>MONTHLY_SALES_x</th>\n",
              "      <th>MONTHLY_SALES_y</th>\n",
              "      <th>MONTHLY_SALES_y_LAG_2</th>\n",
              "    </tr>\n",
              "  </thead>\n",
              "  <tbody>\n",
              "    <tr>\n",
              "      <th>0</th>\n",
              "      <td>2013-01-31</td>\n",
              "      <td>12-11369</td>\n",
              "      <td>12</td>\n",
              "      <td>9</td>\n",
              "      <td>0.000000</td>\n",
              "      <td>0.000000</td>\n",
              "      <td>NaN</td>\n",
              "    </tr>\n",
              "    <tr>\n",
              "      <th>1</th>\n",
              "      <td>2013-02-28</td>\n",
              "      <td>12-11369</td>\n",
              "      <td>12</td>\n",
              "      <td>9</td>\n",
              "      <td>0.000000</td>\n",
              "      <td>0.000000</td>\n",
              "      <td>NaN</td>\n",
              "    </tr>\n",
              "    <tr>\n",
              "      <th>2</th>\n",
              "      <td>2013-03-31</td>\n",
              "      <td>12-11369</td>\n",
              "      <td>12</td>\n",
              "      <td>9</td>\n",
              "      <td>0.000000</td>\n",
              "      <td>0.000000</td>\n",
              "      <td>0.000000</td>\n",
              "    </tr>\n",
              "    <tr>\n",
              "      <th>3</th>\n",
              "      <td>2013-04-30</td>\n",
              "      <td>12-11369</td>\n",
              "      <td>12</td>\n",
              "      <td>9</td>\n",
              "      <td>47.000000</td>\n",
              "      <td>170.333333</td>\n",
              "      <td>0.000000</td>\n",
              "    </tr>\n",
              "    <tr>\n",
              "      <th>4</th>\n",
              "      <td>2013-05-31</td>\n",
              "      <td>12-11369</td>\n",
              "      <td>12</td>\n",
              "      <td>9</td>\n",
              "      <td>43.000000</td>\n",
              "      <td>168.000000</td>\n",
              "      <td>0.000000</td>\n",
              "    </tr>\n",
              "    <tr>\n",
              "      <th>5</th>\n",
              "      <td>2013-06-30</td>\n",
              "      <td>12-11369</td>\n",
              "      <td>12</td>\n",
              "      <td>9</td>\n",
              "      <td>32.000000</td>\n",
              "      <td>147.000000</td>\n",
              "      <td>170.333333</td>\n",
              "    </tr>\n",
              "    <tr>\n",
              "      <th>6</th>\n",
              "      <td>2013-07-31</td>\n",
              "      <td>12-11369</td>\n",
              "      <td>12</td>\n",
              "      <td>9</td>\n",
              "      <td>22.666667</td>\n",
              "      <td>119.000000</td>\n",
              "      <td>168.000000</td>\n",
              "    </tr>\n",
              "    <tr>\n",
              "      <th>7</th>\n",
              "      <td>2013-08-31</td>\n",
              "      <td>12-11369</td>\n",
              "      <td>12</td>\n",
              "      <td>9</td>\n",
              "      <td>18.666667</td>\n",
              "      <td>100.000000</td>\n",
              "      <td>147.000000</td>\n",
              "    </tr>\n",
              "    <tr>\n",
              "      <th>8</th>\n",
              "      <td>2013-09-30</td>\n",
              "      <td>12-11369</td>\n",
              "      <td>12</td>\n",
              "      <td>9</td>\n",
              "      <td>23.333333</td>\n",
              "      <td>110.333333</td>\n",
              "      <td>119.000000</td>\n",
              "    </tr>\n",
              "    <tr>\n",
              "      <th>9</th>\n",
              "      <td>2013-10-31</td>\n",
              "      <td>12-11369</td>\n",
              "      <td>12</td>\n",
              "      <td>9</td>\n",
              "      <td>27.333333</td>\n",
              "      <td>107.666667</td>\n",
              "      <td>100.000000</td>\n",
              "    </tr>\n",
              "    <tr>\n",
              "      <th>10</th>\n",
              "      <td>2013-11-30</td>\n",
              "      <td>12-11369</td>\n",
              "      <td>12</td>\n",
              "      <td>9</td>\n",
              "      <td>53.333333</td>\n",
              "      <td>165.000000</td>\n",
              "      <td>110.333333</td>\n",
              "    </tr>\n",
              "    <tr>\n",
              "      <th>11</th>\n",
              "      <td>2013-12-31</td>\n",
              "      <td>12-11369</td>\n",
              "      <td>12</td>\n",
              "      <td>9</td>\n",
              "      <td>137.333333</td>\n",
              "      <td>443.666667</td>\n",
              "      <td>107.666667</td>\n",
              "    </tr>\n",
              "    <tr>\n",
              "      <th>12</th>\n",
              "      <td>2014-01-31</td>\n",
              "      <td>12-11369</td>\n",
              "      <td>12</td>\n",
              "      <td>9</td>\n",
              "      <td>156.000000</td>\n",
              "      <td>522.666667</td>\n",
              "      <td>165.000000</td>\n",
              "    </tr>\n",
              "    <tr>\n",
              "      <th>13</th>\n",
              "      <td>2014-02-28</td>\n",
              "      <td>12-11369</td>\n",
              "      <td>12</td>\n",
              "      <td>9</td>\n",
              "      <td>138.000000</td>\n",
              "      <td>491.000000</td>\n",
              "      <td>443.666667</td>\n",
              "    </tr>\n",
              "    <tr>\n",
              "      <th>14</th>\n",
              "      <td>2014-03-31</td>\n",
              "      <td>12-11369</td>\n",
              "      <td>12</td>\n",
              "      <td>9</td>\n",
              "      <td>69.666667</td>\n",
              "      <td>310.000000</td>\n",
              "      <td>522.666667</td>\n",
              "    </tr>\n",
              "    <tr>\n",
              "      <th>15</th>\n",
              "      <td>2014-04-30</td>\n",
              "      <td>12-11369</td>\n",
              "      <td>12</td>\n",
              "      <td>9</td>\n",
              "      <td>76.333333</td>\n",
              "      <td>449.333333</td>\n",
              "      <td>491.000000</td>\n",
              "    </tr>\n",
              "    <tr>\n",
              "      <th>16</th>\n",
              "      <td>2014-05-31</td>\n",
              "      <td>12-11369</td>\n",
              "      <td>12</td>\n",
              "      <td>9</td>\n",
              "      <td>93.333333</td>\n",
              "      <td>526.333333</td>\n",
              "      <td>310.000000</td>\n",
              "    </tr>\n",
              "    <tr>\n",
              "      <th>17</th>\n",
              "      <td>2014-06-30</td>\n",
              "      <td>12-11369</td>\n",
              "      <td>12</td>\n",
              "      <td>9</td>\n",
              "      <td>113.000000</td>\n",
              "      <td>570.000000</td>\n",
              "      <td>449.333333</td>\n",
              "    </tr>\n",
              "    <tr>\n",
              "      <th>18</th>\n",
              "      <td>2014-07-31</td>\n",
              "      <td>12-11369</td>\n",
              "      <td>12</td>\n",
              "      <td>9</td>\n",
              "      <td>86.666667</td>\n",
              "      <td>377.000000</td>\n",
              "      <td>526.333333</td>\n",
              "    </tr>\n",
              "    <tr>\n",
              "      <th>19</th>\n",
              "      <td>2014-08-31</td>\n",
              "      <td>12-11369</td>\n",
              "      <td>12</td>\n",
              "      <td>9</td>\n",
              "      <td>71.666667</td>\n",
              "      <td>312.666667</td>\n",
              "      <td>570.000000</td>\n",
              "    </tr>\n",
              "    <tr>\n",
              "      <th>20</th>\n",
              "      <td>2014-09-30</td>\n",
              "      <td>12-11369</td>\n",
              "      <td>12</td>\n",
              "      <td>9</td>\n",
              "      <td>36.333333</td>\n",
              "      <td>195.000000</td>\n",
              "      <td>377.000000</td>\n",
              "    </tr>\n",
              "    <tr>\n",
              "      <th>21</th>\n",
              "      <td>2014-10-31</td>\n",
              "      <td>12-11369</td>\n",
              "      <td>12</td>\n",
              "      <td>9</td>\n",
              "      <td>44.000000</td>\n",
              "      <td>264.000000</td>\n",
              "      <td>312.666667</td>\n",
              "    </tr>\n",
              "    <tr>\n",
              "      <th>22</th>\n",
              "      <td>2014-11-30</td>\n",
              "      <td>12-11369</td>\n",
              "      <td>12</td>\n",
              "      <td>9</td>\n",
              "      <td>41.000000</td>\n",
              "      <td>307.000000</td>\n",
              "      <td>195.000000</td>\n",
              "    </tr>\n",
              "    <tr>\n",
              "      <th>23</th>\n",
              "      <td>2014-12-31</td>\n",
              "      <td>12-11369</td>\n",
              "      <td>12</td>\n",
              "      <td>9</td>\n",
              "      <td>116.666667</td>\n",
              "      <td>693.666667</td>\n",
              "      <td>264.000000</td>\n",
              "    </tr>\n",
              "    <tr>\n",
              "      <th>24</th>\n",
              "      <td>2015-01-31</td>\n",
              "      <td>12-11369</td>\n",
              "      <td>12</td>\n",
              "      <td>9</td>\n",
              "      <td>127.666667</td>\n",
              "      <td>893.666667</td>\n",
              "      <td>307.000000</td>\n",
              "    </tr>\n",
              "    <tr>\n",
              "      <th>25</th>\n",
              "      <td>2015-02-28</td>\n",
              "      <td>12-11369</td>\n",
              "      <td>12</td>\n",
              "      <td>9</td>\n",
              "      <td>131.666667</td>\n",
              "      <td>915.000000</td>\n",
              "      <td>693.666667</td>\n",
              "    </tr>\n",
              "    <tr>\n",
              "      <th>26</th>\n",
              "      <td>2015-03-31</td>\n",
              "      <td>12-11369</td>\n",
              "      <td>12</td>\n",
              "      <td>9</td>\n",
              "      <td>60.000000</td>\n",
              "      <td>589.000000</td>\n",
              "      <td>893.666667</td>\n",
              "    </tr>\n",
              "    <tr>\n",
              "      <th>27</th>\n",
              "      <td>2015-04-30</td>\n",
              "      <td>12-11369</td>\n",
              "      <td>12</td>\n",
              "      <td>9</td>\n",
              "      <td>50.333333</td>\n",
              "      <td>377.333333</td>\n",
              "      <td>915.000000</td>\n",
              "    </tr>\n",
              "    <tr>\n",
              "      <th>28</th>\n",
              "      <td>2015-05-31</td>\n",
              "      <td>12-11369</td>\n",
              "      <td>12</td>\n",
              "      <td>9</td>\n",
              "      <td>94.666667</td>\n",
              "      <td>532.666667</td>\n",
              "      <td>589.000000</td>\n",
              "    </tr>\n",
              "    <tr>\n",
              "      <th>29</th>\n",
              "      <td>2015-06-30</td>\n",
              "      <td>12-11369</td>\n",
              "      <td>12</td>\n",
              "      <td>9</td>\n",
              "      <td>195.000000</td>\n",
              "      <td>981.333333</td>\n",
              "      <td>377.333333</td>\n",
              "    </tr>\n",
              "    <tr>\n",
              "      <th>30</th>\n",
              "      <td>2015-07-31</td>\n",
              "      <td>12-11369</td>\n",
              "      <td>12</td>\n",
              "      <td>9</td>\n",
              "      <td>193.333333</td>\n",
              "      <td>988.333333</td>\n",
              "      <td>532.666667</td>\n",
              "    </tr>\n",
              "    <tr>\n",
              "      <th>31</th>\n",
              "      <td>2015-08-31</td>\n",
              "      <td>12-11369</td>\n",
              "      <td>12</td>\n",
              "      <td>9</td>\n",
              "      <td>153.666667</td>\n",
              "      <td>829.000000</td>\n",
              "      <td>981.333333</td>\n",
              "    </tr>\n",
              "    <tr>\n",
              "      <th>32</th>\n",
              "      <td>2015-09-30</td>\n",
              "      <td>12-11369</td>\n",
              "      <td>12</td>\n",
              "      <td>9</td>\n",
              "      <td>46.000000</td>\n",
              "      <td>319.333333</td>\n",
              "      <td>988.333333</td>\n",
              "    </tr>\n",
              "    <tr>\n",
              "      <th>33</th>\n",
              "      <td>2015-10-31</td>\n",
              "      <td>12-11369</td>\n",
              "      <td>12</td>\n",
              "      <td>9</td>\n",
              "      <td>53.666667</td>\n",
              "      <td>391.000000</td>\n",
              "      <td>829.000000</td>\n",
              "    </tr>\n",
              "  </tbody>\n",
              "</table>\n",
              "</div>\n",
              "      <button class=\"colab-df-convert\" onclick=\"convertToInteractive('df-93a50d49-ecd1-4e2a-a241-83fb7e51f9d3')\"\n",
              "              title=\"Convert this dataframe to an interactive table.\"\n",
              "              style=\"display:none;\">\n",
              "        \n",
              "  <svg xmlns=\"http://www.w3.org/2000/svg\" height=\"24px\"viewBox=\"0 0 24 24\"\n",
              "       width=\"24px\">\n",
              "    <path d=\"M0 0h24v24H0V0z\" fill=\"none\"/>\n",
              "    <path d=\"M18.56 5.44l.94 2.06.94-2.06 2.06-.94-2.06-.94-.94-2.06-.94 2.06-2.06.94zm-11 1L8.5 8.5l.94-2.06 2.06-.94-2.06-.94L8.5 2.5l-.94 2.06-2.06.94zm10 10l.94 2.06.94-2.06 2.06-.94-2.06-.94-.94-2.06-.94 2.06-2.06.94z\"/><path d=\"M17.41 7.96l-1.37-1.37c-.4-.4-.92-.59-1.43-.59-.52 0-1.04.2-1.43.59L10.3 9.45l-7.72 7.72c-.78.78-.78 2.05 0 2.83L4 21.41c.39.39.9.59 1.41.59.51 0 1.02-.2 1.41-.59l7.78-7.78 2.81-2.81c.8-.78.8-2.07 0-2.86zM5.41 20L4 18.59l7.72-7.72 1.47 1.35L5.41 20z\"/>\n",
              "  </svg>\n",
              "      </button>\n",
              "      \n",
              "  <style>\n",
              "    .colab-df-container {\n",
              "      display:flex;\n",
              "      flex-wrap:wrap;\n",
              "      gap: 12px;\n",
              "    }\n",
              "\n",
              "    .colab-df-convert {\n",
              "      background-color: #E8F0FE;\n",
              "      border: none;\n",
              "      border-radius: 50%;\n",
              "      cursor: pointer;\n",
              "      display: none;\n",
              "      fill: #1967D2;\n",
              "      height: 32px;\n",
              "      padding: 0 0 0 0;\n",
              "      width: 32px;\n",
              "    }\n",
              "\n",
              "    .colab-df-convert:hover {\n",
              "      background-color: #E2EBFA;\n",
              "      box-shadow: 0px 1px 2px rgba(60, 64, 67, 0.3), 0px 1px 3px 1px rgba(60, 64, 67, 0.15);\n",
              "      fill: #174EA6;\n",
              "    }\n",
              "\n",
              "    [theme=dark] .colab-df-convert {\n",
              "      background-color: #3B4455;\n",
              "      fill: #D2E3FC;\n",
              "    }\n",
              "\n",
              "    [theme=dark] .colab-df-convert:hover {\n",
              "      background-color: #434B5C;\n",
              "      box-shadow: 0px 1px 3px 1px rgba(0, 0, 0, 0.15);\n",
              "      filter: drop-shadow(0px 1px 2px rgba(0, 0, 0, 0.3));\n",
              "      fill: #FFFFFF;\n",
              "    }\n",
              "  </style>\n",
              "\n",
              "      <script>\n",
              "        const buttonEl =\n",
              "          document.querySelector('#df-93a50d49-ecd1-4e2a-a241-83fb7e51f9d3 button.colab-df-convert');\n",
              "        buttonEl.style.display =\n",
              "          google.colab.kernel.accessAllowed ? 'block' : 'none';\n",
              "\n",
              "        async function convertToInteractive(key) {\n",
              "          const element = document.querySelector('#df-93a50d49-ecd1-4e2a-a241-83fb7e51f9d3');\n",
              "          const dataTable =\n",
              "            await google.colab.kernel.invokeFunction('convertToInteractive',\n",
              "                                                     [key], {});\n",
              "          if (!dataTable) return;\n",
              "\n",
              "          const docLinkHtml = 'Like what you see? Visit the ' +\n",
              "            '<a target=\"_blank\" href=https://colab.research.google.com/notebooks/data_table.ipynb>data table notebook</a>'\n",
              "            + ' to learn more about interactive tables.';\n",
              "          element.innerHTML = '';\n",
              "          dataTable['output_type'] = 'display_data';\n",
              "          await google.colab.output.renderOutput(dataTable, element);\n",
              "          const docLink = document.createElement('div');\n",
              "          docLink.innerHTML = docLinkHtml;\n",
              "          element.appendChild(docLink);\n",
              "        }\n",
              "      </script>\n",
              "    </div>\n",
              "  </div>\n",
              "  "
            ]
          },
          "metadata": {},
          "execution_count": 249
        }
      ]
    },
    {
      "cell_type": "code",
      "source": [
        "# full_df.groupby([\"DATE\", \"ITEM_CATEGORY_ID\", \"SHOP_ID\"][1:]).get_group((71, 11))[\"MONTHLY_SALES\"].shift(2)"
      ],
      "metadata": {
        "execution": {
          "iopub.status.busy": "2023-04-18T19:34:16.663111Z",
          "iopub.execute_input": "2023-04-18T19:34:16.663417Z",
          "iopub.status.idle": "2023-04-18T19:34:16.667988Z",
          "shell.execute_reply.started": "2023-04-18T19:34:16.663389Z",
          "shell.execute_reply": "2023-04-18T19:34:16.667193Z"
        },
        "trusted": true,
        "id": "oCg0Xl8o5RKa"
      },
      "execution_count": 250,
      "outputs": []
    },
    {
      "cell_type": "code",
      "source": [
        "vars_ts_item_id = build_ts_vars(\n",
        "  full_df = full_df,\n",
        "  gb_list = [\"DATE\", \"SHOP_ID\", \"ITEM_ID\"],\n",
        "  target_column = \"MONTHLY_SALES\",\n",
        "  agg_func = np.sum,\n",
        "  agg_func_name = \"SUM\"\n",
        "   \n",
        ")\n",
        "\n",
        "vars_ts_item_id.sample(10)"
      ],
      "metadata": {
        "papermill": {
          "duration": 0.205108,
          "end_time": "2022-12-25T18:21:24.910893",
          "exception": false,
          "start_time": "2022-12-25T18:21:24.705785",
          "status": "completed"
        },
        "tags": [],
        "execution": {
          "iopub.status.busy": "2023-04-18T19:34:16.669091Z",
          "iopub.execute_input": "2023-04-18T19:34:16.670121Z",
          "iopub.status.idle": "2023-04-18T19:34:17.948292Z",
          "shell.execute_reply.started": "2023-04-18T19:34:16.670090Z",
          "shell.execute_reply": "2023-04-18T19:34:17.947130Z"
        },
        "trusted": true,
        "colab": {
          "base_uri": "https://localhost:8080/",
          "height": 380
        },
        "id": "55A20zx-5RKb",
        "outputId": "24a829ac-bf9a-4f64-fe3c-fd5b6d38a71c"
      },
      "execution_count": 251,
      "outputs": [
        {
          "output_type": "stream",
          "name": "stdout",
          "text": [
            "DATE_SHOP_ID_ITEM_ID_MONTHLY_SALES_SUM\n"
          ]
        },
        {
          "output_type": "execute_result",
          "data": {
            "text/plain": [
              "           DATE  SHOP_ID  ITEM_ID  DATE_SHOP_ID_ITEM_ID_MONTHLY_SALES_SUM  \\\n",
              "3473 2013-12-31       31    20949                              972.333333   \n",
              "7607 2015-02-28       28    17717                               58.666667   \n",
              "6908 2014-12-31       15     4178                               12.333333   \n",
              "8103 2015-04-30       15     3732                                8.000000   \n",
              "9175 2015-07-31       42     7894                                3.333333   \n",
              "4127 2014-02-28       53    17717                                0.000000   \n",
              "197  2013-01-31       39    20949                                0.000000   \n",
              "7618 2015-02-28       31     3331                                2.666667   \n",
              "361  2013-02-28       22    13370                                0.000000   \n",
              "6712 2014-11-30       28    20949                              443.333333   \n",
              "\n",
              "      DATE_SHOP_ID_ITEM_ID_MONTHLY_SALES_SUM_LAG2  \n",
              "3473                                   856.333333  \n",
              "7607                                    44.333333  \n",
              "6908                                    12.666667  \n",
              "8103                                     7.333333  \n",
              "9175                                     2.000000  \n",
              "4127                                     0.333333  \n",
              "197                                           NaN  \n",
              "7618                                     5.666667  \n",
              "361                                           NaN  \n",
              "6712                                   498.333333  "
            ],
            "text/html": [
              "\n",
              "  <div id=\"df-dc77614d-2481-4087-b76f-646e2b9bea71\">\n",
              "    <div class=\"colab-df-container\">\n",
              "      <div>\n",
              "<style scoped>\n",
              "    .dataframe tbody tr th:only-of-type {\n",
              "        vertical-align: middle;\n",
              "    }\n",
              "\n",
              "    .dataframe tbody tr th {\n",
              "        vertical-align: top;\n",
              "    }\n",
              "\n",
              "    .dataframe thead th {\n",
              "        text-align: right;\n",
              "    }\n",
              "</style>\n",
              "<table border=\"1\" class=\"dataframe\">\n",
              "  <thead>\n",
              "    <tr style=\"text-align: right;\">\n",
              "      <th></th>\n",
              "      <th>DATE</th>\n",
              "      <th>SHOP_ID</th>\n",
              "      <th>ITEM_ID</th>\n",
              "      <th>DATE_SHOP_ID_ITEM_ID_MONTHLY_SALES_SUM</th>\n",
              "      <th>DATE_SHOP_ID_ITEM_ID_MONTHLY_SALES_SUM_LAG2</th>\n",
              "    </tr>\n",
              "  </thead>\n",
              "  <tbody>\n",
              "    <tr>\n",
              "      <th>3473</th>\n",
              "      <td>2013-12-31</td>\n",
              "      <td>31</td>\n",
              "      <td>20949</td>\n",
              "      <td>972.333333</td>\n",
              "      <td>856.333333</td>\n",
              "    </tr>\n",
              "    <tr>\n",
              "      <th>7607</th>\n",
              "      <td>2015-02-28</td>\n",
              "      <td>28</td>\n",
              "      <td>17717</td>\n",
              "      <td>58.666667</td>\n",
              "      <td>44.333333</td>\n",
              "    </tr>\n",
              "    <tr>\n",
              "      <th>6908</th>\n",
              "      <td>2014-12-31</td>\n",
              "      <td>15</td>\n",
              "      <td>4178</td>\n",
              "      <td>12.333333</td>\n",
              "      <td>12.666667</td>\n",
              "    </tr>\n",
              "    <tr>\n",
              "      <th>8103</th>\n",
              "      <td>2015-04-30</td>\n",
              "      <td>15</td>\n",
              "      <td>3732</td>\n",
              "      <td>8.000000</td>\n",
              "      <td>7.333333</td>\n",
              "    </tr>\n",
              "    <tr>\n",
              "      <th>9175</th>\n",
              "      <td>2015-07-31</td>\n",
              "      <td>42</td>\n",
              "      <td>7894</td>\n",
              "      <td>3.333333</td>\n",
              "      <td>2.000000</td>\n",
              "    </tr>\n",
              "    <tr>\n",
              "      <th>4127</th>\n",
              "      <td>2014-02-28</td>\n",
              "      <td>53</td>\n",
              "      <td>17717</td>\n",
              "      <td>0.000000</td>\n",
              "      <td>0.333333</td>\n",
              "    </tr>\n",
              "    <tr>\n",
              "      <th>197</th>\n",
              "      <td>2013-01-31</td>\n",
              "      <td>39</td>\n",
              "      <td>20949</td>\n",
              "      <td>0.000000</td>\n",
              "      <td>NaN</td>\n",
              "    </tr>\n",
              "    <tr>\n",
              "      <th>7618</th>\n",
              "      <td>2015-02-28</td>\n",
              "      <td>31</td>\n",
              "      <td>3331</td>\n",
              "      <td>2.666667</td>\n",
              "      <td>5.666667</td>\n",
              "    </tr>\n",
              "    <tr>\n",
              "      <th>361</th>\n",
              "      <td>2013-02-28</td>\n",
              "      <td>22</td>\n",
              "      <td>13370</td>\n",
              "      <td>0.000000</td>\n",
              "      <td>NaN</td>\n",
              "    </tr>\n",
              "    <tr>\n",
              "      <th>6712</th>\n",
              "      <td>2014-11-30</td>\n",
              "      <td>28</td>\n",
              "      <td>20949</td>\n",
              "      <td>443.333333</td>\n",
              "      <td>498.333333</td>\n",
              "    </tr>\n",
              "  </tbody>\n",
              "</table>\n",
              "</div>\n",
              "      <button class=\"colab-df-convert\" onclick=\"convertToInteractive('df-dc77614d-2481-4087-b76f-646e2b9bea71')\"\n",
              "              title=\"Convert this dataframe to an interactive table.\"\n",
              "              style=\"display:none;\">\n",
              "        \n",
              "  <svg xmlns=\"http://www.w3.org/2000/svg\" height=\"24px\"viewBox=\"0 0 24 24\"\n",
              "       width=\"24px\">\n",
              "    <path d=\"M0 0h24v24H0V0z\" fill=\"none\"/>\n",
              "    <path d=\"M18.56 5.44l.94 2.06.94-2.06 2.06-.94-2.06-.94-.94-2.06-.94 2.06-2.06.94zm-11 1L8.5 8.5l.94-2.06 2.06-.94-2.06-.94L8.5 2.5l-.94 2.06-2.06.94zm10 10l.94 2.06.94-2.06 2.06-.94-2.06-.94-.94-2.06-.94 2.06-2.06.94z\"/><path d=\"M17.41 7.96l-1.37-1.37c-.4-.4-.92-.59-1.43-.59-.52 0-1.04.2-1.43.59L10.3 9.45l-7.72 7.72c-.78.78-.78 2.05 0 2.83L4 21.41c.39.39.9.59 1.41.59.51 0 1.02-.2 1.41-.59l7.78-7.78 2.81-2.81c.8-.78.8-2.07 0-2.86zM5.41 20L4 18.59l7.72-7.72 1.47 1.35L5.41 20z\"/>\n",
              "  </svg>\n",
              "      </button>\n",
              "      \n",
              "  <style>\n",
              "    .colab-df-container {\n",
              "      display:flex;\n",
              "      flex-wrap:wrap;\n",
              "      gap: 12px;\n",
              "    }\n",
              "\n",
              "    .colab-df-convert {\n",
              "      background-color: #E8F0FE;\n",
              "      border: none;\n",
              "      border-radius: 50%;\n",
              "      cursor: pointer;\n",
              "      display: none;\n",
              "      fill: #1967D2;\n",
              "      height: 32px;\n",
              "      padding: 0 0 0 0;\n",
              "      width: 32px;\n",
              "    }\n",
              "\n",
              "    .colab-df-convert:hover {\n",
              "      background-color: #E2EBFA;\n",
              "      box-shadow: 0px 1px 2px rgba(60, 64, 67, 0.3), 0px 1px 3px 1px rgba(60, 64, 67, 0.15);\n",
              "      fill: #174EA6;\n",
              "    }\n",
              "\n",
              "    [theme=dark] .colab-df-convert {\n",
              "      background-color: #3B4455;\n",
              "      fill: #D2E3FC;\n",
              "    }\n",
              "\n",
              "    [theme=dark] .colab-df-convert:hover {\n",
              "      background-color: #434B5C;\n",
              "      box-shadow: 0px 1px 3px 1px rgba(0, 0, 0, 0.15);\n",
              "      filter: drop-shadow(0px 1px 2px rgba(0, 0, 0, 0.3));\n",
              "      fill: #FFFFFF;\n",
              "    }\n",
              "  </style>\n",
              "\n",
              "      <script>\n",
              "        const buttonEl =\n",
              "          document.querySelector('#df-dc77614d-2481-4087-b76f-646e2b9bea71 button.colab-df-convert');\n",
              "        buttonEl.style.display =\n",
              "          google.colab.kernel.accessAllowed ? 'block' : 'none';\n",
              "\n",
              "        async function convertToInteractive(key) {\n",
              "          const element = document.querySelector('#df-dc77614d-2481-4087-b76f-646e2b9bea71');\n",
              "          const dataTable =\n",
              "            await google.colab.kernel.invokeFunction('convertToInteractive',\n",
              "                                                     [key], {});\n",
              "          if (!dataTable) return;\n",
              "\n",
              "          const docLinkHtml = 'Like what you see? Visit the ' +\n",
              "            '<a target=\"_blank\" href=https://colab.research.google.com/notebooks/data_table.ipynb>data table notebook</a>'\n",
              "            + ' to learn more about interactive tables.';\n",
              "          element.innerHTML = '';\n",
              "          dataTable['output_type'] = 'display_data';\n",
              "          await google.colab.output.renderOutput(dataTable, element);\n",
              "          const docLink = document.createElement('div');\n",
              "          docLink.innerHTML = docLinkHtml;\n",
              "          element.appendChild(docLink);\n",
              "        }\n",
              "      </script>\n",
              "    </div>\n",
              "  </div>\n",
              "  "
            ]
          },
          "metadata": {},
          "execution_count": 251
        }
      ]
    },
    {
      "cell_type": "markdown",
      "source": [
        "<a id='join_ts_features'></a>\n",
        "### Join TS Features\n",
        "[Volver al índice](#index)<br>"
      ],
      "metadata": {
        "papermill": {
          "duration": 0.029372,
          "end_time": "2022-12-25T18:21:24.965434",
          "exception": false,
          "start_time": "2022-12-25T18:21:24.936062",
          "status": "completed"
        },
        "tags": [],
        "id": "tWSHcOmc5RKc"
      }
    },
    {
      "cell_type": "markdown",
      "source": [
        "En este apartado, hacemos el merge del full_df con las variables auxiliares.\n",
        "\n",
        "Debemos controlar muy bien el merge, para no provocar un cartesiano."
      ],
      "metadata": {
        "papermill": {
          "duration": 0.02443,
          "end_time": "2022-12-25T18:21:25.014558",
          "exception": false,
          "start_time": "2022-12-25T18:21:24.990128",
          "status": "completed"
        },
        "tags": [],
        "id": "uGjYO7DE5RKd"
      }
    },
    {
      "cell_type": "code",
      "source": [
        "rows_before_merge = full_df.shape[0]\n",
        "print(f\"Shape before merge is {rows_before_merge}\")\n",
        "\n",
        "full_df = pd.merge(full_df, vars_ts_item_id, on = [\"DATE\", \"SHOP_ID\", \"ITEM_ID\"], how = \"left\")\n",
        "\n",
        "rows_after_merge = full_df.shape[0]\n",
        "\n",
        "print(f\"Shape after merge is {rows_after_merge}\")\n",
        "\n",
        "assert rows_before_merge == rows_after_merge, \"You have generated a cartesian product!\""
      ],
      "metadata": {
        "papermill": {
          "duration": 0.048568,
          "end_time": "2022-12-25T18:21:25.087892",
          "exception": false,
          "start_time": "2022-12-25T18:21:25.039324",
          "status": "completed"
        },
        "tags": [],
        "execution": {
          "iopub.status.busy": "2023-04-18T19:34:17.950139Z",
          "iopub.execute_input": "2023-04-18T19:34:17.950633Z",
          "iopub.status.idle": "2023-04-18T19:34:17.972510Z",
          "shell.execute_reply.started": "2023-04-18T19:34:17.950590Z",
          "shell.execute_reply": "2023-04-18T19:34:17.971286Z"
        },
        "trusted": true,
        "colab": {
          "base_uri": "https://localhost:8080/"
        },
        "id": "k1iRlTHI5RKe",
        "outputId": "88af9300-548f-48d4-90cb-86a7820516a0"
      },
      "execution_count": 252,
      "outputs": [
        {
          "output_type": "stream",
          "name": "stdout",
          "text": [
            "Shape before merge is 10166\n",
            "Shape after merge is 10166\n"
          ]
        }
      ]
    },
    {
      "cell_type": "code",
      "source": [
        "full_df.to_pickle(\"FULL_DF_ALL_FEATURES.pkl\")"
      ],
      "metadata": {
        "papermill": {
          "duration": 0.03877,
          "end_time": "2022-12-25T18:21:25.151496",
          "exception": false,
          "start_time": "2022-12-25T18:21:25.112726",
          "status": "completed"
        },
        "tags": [],
        "execution": {
          "iopub.status.busy": "2023-04-18T19:34:17.973772Z",
          "iopub.execute_input": "2023-04-18T19:34:17.974082Z",
          "iopub.status.idle": "2023-04-18T19:34:17.984902Z",
          "shell.execute_reply.started": "2023-04-18T19:34:17.974055Z",
          "shell.execute_reply": "2023-04-18T19:34:17.983939Z"
        },
        "trusted": true,
        "id": "3VLyPGzy5RKi"
      },
      "execution_count": 253,
      "outputs": []
    },
    {
      "cell_type": "markdown",
      "source": [
        "<a id='train_test_split'></a>\n",
        "### Train Test Split\n",
        "[Volver al índice](#index)<br>"
      ],
      "metadata": {
        "papermill": {
          "duration": 0.024236,
          "end_time": "2022-12-25T18:21:25.200977",
          "exception": false,
          "start_time": "2022-12-25T18:21:25.176741",
          "status": "completed"
        },
        "tags": [],
        "id": "D5RIhEsA5RKi"
      }
    },
    {
      "cell_type": "code",
      "source": [
        "full_df = pd.read_pickle(\"FULL_DF_ALL_FEATURES.pkl\")\n",
        "full_df[\"MONTHLY_SALES\"] = np.clip(full_df[\"MONTHLY_SALES\"], 0, 30)"
      ],
      "metadata": {
        "papermill": {
          "duration": 0.039271,
          "end_time": "2022-12-25T18:21:25.264936",
          "exception": false,
          "start_time": "2022-12-25T18:21:25.225665",
          "status": "completed"
        },
        "tags": [],
        "execution": {
          "iopub.status.busy": "2023-04-18T19:34:17.988486Z",
          "iopub.execute_input": "2023-04-18T19:34:17.988859Z",
          "iopub.status.idle": "2023-04-18T19:34:18.001880Z",
          "shell.execute_reply.started": "2023-04-18T19:34:17.988828Z",
          "shell.execute_reply": "2023-04-18T19:34:18.000556Z"
        },
        "trusted": true,
        "id": "WnA-dvmT5RKj"
      },
      "execution_count": 254,
      "outputs": []
    },
    {
      "cell_type": "code",
      "source": [
        "full_df.columns.tolist()"
      ],
      "metadata": {
        "execution": {
          "iopub.status.busy": "2023-04-18T19:34:18.003386Z",
          "iopub.execute_input": "2023-04-18T19:34:18.004559Z",
          "iopub.status.idle": "2023-04-18T19:34:18.012898Z",
          "shell.execute_reply.started": "2023-04-18T19:34:18.004513Z",
          "shell.execute_reply": "2023-04-18T19:34:18.011886Z"
        },
        "trusted": true,
        "colab": {
          "base_uri": "https://localhost:8080/"
        },
        "id": "TfwAb04R5RKk",
        "outputId": "2672b08c-de28-4411-fbeb-5682d0b89f34"
      },
      "execution_count": 255,
      "outputs": [
        {
          "output_type": "execute_result",
          "data": {
            "text/plain": [
              "['DATE',\n",
              " 'UNIQUE_ID',\n",
              " 'MONTHLY_SALES',\n",
              " 'MONTHLY_REVENUE',\n",
              " 'UNIQUE_DAYS_WITH_SALES',\n",
              " 'TOTAL_TRANSACTIONS',\n",
              " 'MONTHLY_MEAN_PRICE',\n",
              " 'CITY_NAME',\n",
              " 'CITY_ID',\n",
              " 'SHOP_NAME',\n",
              " 'SHOP_ID',\n",
              " 'ITEM_CATEGORY_NAME',\n",
              " 'ITEM_CATEGORY_ID',\n",
              " 'ITEM_NAME',\n",
              " 'ITEM_ID',\n",
              " 'DATE_SHOP_ID_ITEM_ID_MONTHLY_SALES_SUM',\n",
              " 'DATE_SHOP_ID_ITEM_ID_MONTHLY_SALES_SUM_LAG2']"
            ]
          },
          "metadata": {},
          "execution_count": 255
        }
      ]
    },
    {
      "cell_type": "code",
      "source": [
        "COLUMNS_TO_DROP = [\n",
        "    'MONTHLY_REVENUE',\n",
        "    'UNIQUE_DAYS_WITH_SALES',\n",
        "    'TOTAL_TRANSACTIONS',\n",
        "    'MONTHLY_MEAN_PRICE',\n",
        "    'CITY_NAME',\n",
        "    'SHOP_NAME',\n",
        "    'ITEM_CATEGORY_NAME',\n",
        "    'ITEM_NAME'\n",
        "]\n",
        "\n",
        "full_df.drop(COLUMNS_TO_DROP, inplace = True, axis = 1)"
      ],
      "metadata": {
        "papermill": {
          "duration": 0.036896,
          "end_time": "2022-12-25T18:21:25.327627",
          "exception": false,
          "start_time": "2022-12-25T18:21:25.290731",
          "status": "completed"
        },
        "tags": [],
        "execution": {
          "iopub.status.busy": "2023-04-18T19:34:18.014443Z",
          "iopub.execute_input": "2023-04-18T19:34:18.014831Z",
          "iopub.status.idle": "2023-04-18T19:34:18.025987Z",
          "shell.execute_reply.started": "2023-04-18T19:34:18.014801Z",
          "shell.execute_reply": "2023-04-18T19:34:18.024826Z"
        },
        "trusted": true,
        "id": "tCNn5_rD5RKl"
      },
      "execution_count": 256,
      "outputs": []
    },
    {
      "cell_type": "code",
      "source": [
        "full_df.set_index(\"UNIQUE_ID\", inplace = True)"
      ],
      "metadata": {
        "papermill": {
          "duration": 0.035085,
          "end_time": "2022-12-25T18:21:25.389015",
          "exception": false,
          "start_time": "2022-12-25T18:21:25.35393",
          "status": "completed"
        },
        "tags": [],
        "execution": {
          "iopub.status.busy": "2023-04-18T19:34:18.027097Z",
          "iopub.execute_input": "2023-04-18T19:34:18.027697Z",
          "iopub.status.idle": "2023-04-18T19:34:18.033965Z",
          "shell.execute_reply.started": "2023-04-18T19:34:18.027664Z",
          "shell.execute_reply": "2023-04-18T19:34:18.032956Z"
        },
        "trusted": true,
        "id": "ZSdoL9A75RKm"
      },
      "execution_count": 257,
      "outputs": []
    },
    {
      "cell_type": "code",
      "source": [
        "full_df.sample(5)"
      ],
      "metadata": {
        "papermill": {
          "duration": 0.044121,
          "end_time": "2022-12-25T18:21:25.458207",
          "exception": false,
          "start_time": "2022-12-25T18:21:25.414086",
          "status": "completed"
        },
        "tags": [],
        "execution": {
          "iopub.status.busy": "2023-04-18T19:34:18.035299Z",
          "iopub.execute_input": "2023-04-18T19:34:18.036070Z",
          "iopub.status.idle": "2023-04-18T19:34:18.057963Z",
          "shell.execute_reply.started": "2023-04-18T19:34:18.036035Z",
          "shell.execute_reply": "2023-04-18T19:34:18.056868Z"
        },
        "trusted": true,
        "colab": {
          "base_uri": "https://localhost:8080/",
          "height": 282
        },
        "id": "Gck1ofeS5RKw",
        "outputId": "5c2cf17d-e7b5-4d1e-ef01-d62a4ab2ec52"
      },
      "execution_count": 258,
      "outputs": [
        {
          "output_type": "execute_result",
          "data": {
            "text/plain": [
              "                DATE  MONTHLY_SALES  CITY_ID  SHOP_ID  ITEM_CATEGORY_ID  \\\n",
              "UNIQUE_ID                                                                 \n",
              "22-4178   2015-05-31       7.000000      7.0       22                75   \n",
              "25-3734   2014-07-31      12.666667      7.0       25                23   \n",
              "19-20949  2013-08-31      30.000000      6.0       19                71   \n",
              "55-13097  2015-05-31      30.000000     16.0       55                34   \n",
              "31-1905   2014-11-30       8.666667      7.0       31                30   \n",
              "\n",
              "           ITEM_ID  DATE_SHOP_ID_ITEM_ID_MONTHLY_SALES_SUM  \\\n",
              "UNIQUE_ID                                                    \n",
              "22-4178       4178                                7.000000   \n",
              "25-3734       3734                               12.666667   \n",
              "19-20949     20949                              120.666667   \n",
              "55-13097     13097                               89.333333   \n",
              "31-1905       1905                                8.666667   \n",
              "\n",
              "           DATE_SHOP_ID_ITEM_ID_MONTHLY_SALES_SUM_LAG2  \n",
              "UNIQUE_ID                                               \n",
              "22-4178                                       7.000000  \n",
              "25-3734                                      17.000000  \n",
              "19-20949                                      0.000000  \n",
              "55-13097                                    108.666667  \n",
              "31-1905                                       8.666667  "
            ],
            "text/html": [
              "\n",
              "  <div id=\"df-1d8389cc-4ae3-42a0-97db-a7ba728efc4d\">\n",
              "    <div class=\"colab-df-container\">\n",
              "      <div>\n",
              "<style scoped>\n",
              "    .dataframe tbody tr th:only-of-type {\n",
              "        vertical-align: middle;\n",
              "    }\n",
              "\n",
              "    .dataframe tbody tr th {\n",
              "        vertical-align: top;\n",
              "    }\n",
              "\n",
              "    .dataframe thead th {\n",
              "        text-align: right;\n",
              "    }\n",
              "</style>\n",
              "<table border=\"1\" class=\"dataframe\">\n",
              "  <thead>\n",
              "    <tr style=\"text-align: right;\">\n",
              "      <th></th>\n",
              "      <th>DATE</th>\n",
              "      <th>MONTHLY_SALES</th>\n",
              "      <th>CITY_ID</th>\n",
              "      <th>SHOP_ID</th>\n",
              "      <th>ITEM_CATEGORY_ID</th>\n",
              "      <th>ITEM_ID</th>\n",
              "      <th>DATE_SHOP_ID_ITEM_ID_MONTHLY_SALES_SUM</th>\n",
              "      <th>DATE_SHOP_ID_ITEM_ID_MONTHLY_SALES_SUM_LAG2</th>\n",
              "    </tr>\n",
              "    <tr>\n",
              "      <th>UNIQUE_ID</th>\n",
              "      <th></th>\n",
              "      <th></th>\n",
              "      <th></th>\n",
              "      <th></th>\n",
              "      <th></th>\n",
              "      <th></th>\n",
              "      <th></th>\n",
              "      <th></th>\n",
              "    </tr>\n",
              "  </thead>\n",
              "  <tbody>\n",
              "    <tr>\n",
              "      <th>22-4178</th>\n",
              "      <td>2015-05-31</td>\n",
              "      <td>7.000000</td>\n",
              "      <td>7.0</td>\n",
              "      <td>22</td>\n",
              "      <td>75</td>\n",
              "      <td>4178</td>\n",
              "      <td>7.000000</td>\n",
              "      <td>7.000000</td>\n",
              "    </tr>\n",
              "    <tr>\n",
              "      <th>25-3734</th>\n",
              "      <td>2014-07-31</td>\n",
              "      <td>12.666667</td>\n",
              "      <td>7.0</td>\n",
              "      <td>25</td>\n",
              "      <td>23</td>\n",
              "      <td>3734</td>\n",
              "      <td>12.666667</td>\n",
              "      <td>17.000000</td>\n",
              "    </tr>\n",
              "    <tr>\n",
              "      <th>19-20949</th>\n",
              "      <td>2013-08-31</td>\n",
              "      <td>30.000000</td>\n",
              "      <td>6.0</td>\n",
              "      <td>19</td>\n",
              "      <td>71</td>\n",
              "      <td>20949</td>\n",
              "      <td>120.666667</td>\n",
              "      <td>0.000000</td>\n",
              "    </tr>\n",
              "    <tr>\n",
              "      <th>55-13097</th>\n",
              "      <td>2015-05-31</td>\n",
              "      <td>30.000000</td>\n",
              "      <td>16.0</td>\n",
              "      <td>55</td>\n",
              "      <td>34</td>\n",
              "      <td>13097</td>\n",
              "      <td>89.333333</td>\n",
              "      <td>108.666667</td>\n",
              "    </tr>\n",
              "    <tr>\n",
              "      <th>31-1905</th>\n",
              "      <td>2014-11-30</td>\n",
              "      <td>8.666667</td>\n",
              "      <td>7.0</td>\n",
              "      <td>31</td>\n",
              "      <td>30</td>\n",
              "      <td>1905</td>\n",
              "      <td>8.666667</td>\n",
              "      <td>8.666667</td>\n",
              "    </tr>\n",
              "  </tbody>\n",
              "</table>\n",
              "</div>\n",
              "      <button class=\"colab-df-convert\" onclick=\"convertToInteractive('df-1d8389cc-4ae3-42a0-97db-a7ba728efc4d')\"\n",
              "              title=\"Convert this dataframe to an interactive table.\"\n",
              "              style=\"display:none;\">\n",
              "        \n",
              "  <svg xmlns=\"http://www.w3.org/2000/svg\" height=\"24px\"viewBox=\"0 0 24 24\"\n",
              "       width=\"24px\">\n",
              "    <path d=\"M0 0h24v24H0V0z\" fill=\"none\"/>\n",
              "    <path d=\"M18.56 5.44l.94 2.06.94-2.06 2.06-.94-2.06-.94-.94-2.06-.94 2.06-2.06.94zm-11 1L8.5 8.5l.94-2.06 2.06-.94-2.06-.94L8.5 2.5l-.94 2.06-2.06.94zm10 10l.94 2.06.94-2.06 2.06-.94-2.06-.94-.94-2.06-.94 2.06-2.06.94z\"/><path d=\"M17.41 7.96l-1.37-1.37c-.4-.4-.92-.59-1.43-.59-.52 0-1.04.2-1.43.59L10.3 9.45l-7.72 7.72c-.78.78-.78 2.05 0 2.83L4 21.41c.39.39.9.59 1.41.59.51 0 1.02-.2 1.41-.59l7.78-7.78 2.81-2.81c.8-.78.8-2.07 0-2.86zM5.41 20L4 18.59l7.72-7.72 1.47 1.35L5.41 20z\"/>\n",
              "  </svg>\n",
              "      </button>\n",
              "      \n",
              "  <style>\n",
              "    .colab-df-container {\n",
              "      display:flex;\n",
              "      flex-wrap:wrap;\n",
              "      gap: 12px;\n",
              "    }\n",
              "\n",
              "    .colab-df-convert {\n",
              "      background-color: #E8F0FE;\n",
              "      border: none;\n",
              "      border-radius: 50%;\n",
              "      cursor: pointer;\n",
              "      display: none;\n",
              "      fill: #1967D2;\n",
              "      height: 32px;\n",
              "      padding: 0 0 0 0;\n",
              "      width: 32px;\n",
              "    }\n",
              "\n",
              "    .colab-df-convert:hover {\n",
              "      background-color: #E2EBFA;\n",
              "      box-shadow: 0px 1px 2px rgba(60, 64, 67, 0.3), 0px 1px 3px 1px rgba(60, 64, 67, 0.15);\n",
              "      fill: #174EA6;\n",
              "    }\n",
              "\n",
              "    [theme=dark] .colab-df-convert {\n",
              "      background-color: #3B4455;\n",
              "      fill: #D2E3FC;\n",
              "    }\n",
              "\n",
              "    [theme=dark] .colab-df-convert:hover {\n",
              "      background-color: #434B5C;\n",
              "      box-shadow: 0px 1px 3px 1px rgba(0, 0, 0, 0.15);\n",
              "      filter: drop-shadow(0px 1px 2px rgba(0, 0, 0, 0.3));\n",
              "      fill: #FFFFFF;\n",
              "    }\n",
              "  </style>\n",
              "\n",
              "      <script>\n",
              "        const buttonEl =\n",
              "          document.querySelector('#df-1d8389cc-4ae3-42a0-97db-a7ba728efc4d button.colab-df-convert');\n",
              "        buttonEl.style.display =\n",
              "          google.colab.kernel.accessAllowed ? 'block' : 'none';\n",
              "\n",
              "        async function convertToInteractive(key) {\n",
              "          const element = document.querySelector('#df-1d8389cc-4ae3-42a0-97db-a7ba728efc4d');\n",
              "          const dataTable =\n",
              "            await google.colab.kernel.invokeFunction('convertToInteractive',\n",
              "                                                     [key], {});\n",
              "          if (!dataTable) return;\n",
              "\n",
              "          const docLinkHtml = 'Like what you see? Visit the ' +\n",
              "            '<a target=\"_blank\" href=https://colab.research.google.com/notebooks/data_table.ipynb>data table notebook</a>'\n",
              "            + ' to learn more about interactive tables.';\n",
              "          element.innerHTML = '';\n",
              "          dataTable['output_type'] = 'display_data';\n",
              "          await google.colab.output.renderOutput(dataTable, element);\n",
              "          const docLink = document.createElement('div');\n",
              "          docLink.innerHTML = docLinkHtml;\n",
              "          element.appendChild(docLink);\n",
              "        }\n",
              "      </script>\n",
              "    </div>\n",
              "  </div>\n",
              "  "
            ]
          },
          "metadata": {},
          "execution_count": 258
        }
      ]
    },
    {
      "cell_type": "code",
      "source": [
        "# Eliminamos una variable autoexplicativa que suma las ventas mensuales por categoría por mes.\n",
        "# Por tanto, el target está contenido allí, y eso no puede estar contenido en el conjunto train\n",
        "\n",
        "full_df.drop(\"DATE_SHOP_ID_ITEM_ID_MONTHLY_SALES_SUM\", axis=1, inplace = True)"
      ],
      "metadata": {
        "execution": {
          "iopub.status.busy": "2023-04-18T19:34:18.059341Z",
          "iopub.execute_input": "2023-04-18T19:34:18.059691Z",
          "iopub.status.idle": "2023-04-18T19:34:18.066148Z",
          "shell.execute_reply.started": "2023-04-18T19:34:18.059660Z",
          "shell.execute_reply": "2023-04-18T19:34:18.064873Z"
        },
        "trusted": true,
        "id": "ZbF1krmG5RKx"
      },
      "execution_count": 260,
      "outputs": []
    },
    {
      "cell_type": "code",
      "source": [
        "train_index = sorted(list(full_df[\"DATE\"].unique()))[:-2]\n",
        "\n",
        "valida_index = [sorted(list(full_df[\"DATE\"].unique()))[-2]]\n",
        "\n",
        "test_index = [sorted(list(full_df[\"DATE\"].unique()))[-1]]"
      ],
      "metadata": {
        "papermill": {
          "duration": 0.035161,
          "end_time": "2022-12-25T18:21:25.518612",
          "exception": false,
          "start_time": "2022-12-25T18:21:25.483451",
          "status": "completed"
        },
        "tags": [],
        "execution": {
          "iopub.status.busy": "2023-04-18T19:34:18.067997Z",
          "iopub.execute_input": "2023-04-18T19:34:18.068438Z",
          "iopub.status.idle": "2023-04-18T19:34:18.078242Z",
          "shell.execute_reply.started": "2023-04-18T19:34:18.068384Z",
          "shell.execute_reply": "2023-04-18T19:34:18.077117Z"
        },
        "trusted": true,
        "id": "XKP4H77p5RKx"
      },
      "execution_count": 261,
      "outputs": []
    },
    {
      "cell_type": "code",
      "source": [
        "train_index"
      ],
      "metadata": {
        "execution": {
          "iopub.status.busy": "2023-04-18T19:34:18.079614Z",
          "iopub.execute_input": "2023-04-18T19:34:18.080257Z",
          "iopub.status.idle": "2023-04-18T19:34:18.090077Z",
          "shell.execute_reply.started": "2023-04-18T19:34:18.080224Z",
          "shell.execute_reply": "2023-04-18T19:34:18.089070Z"
        },
        "trusted": true,
        "colab": {
          "base_uri": "https://localhost:8080/"
        },
        "id": "pgFhS7Ar5RKx",
        "outputId": "4c391962-acdf-4097-f113-0a6b704dae29"
      },
      "execution_count": 262,
      "outputs": [
        {
          "output_type": "execute_result",
          "data": {
            "text/plain": [
              "[numpy.datetime64('2013-01-31T00:00:00.000000000'),\n",
              " numpy.datetime64('2013-02-28T00:00:00.000000000'),\n",
              " numpy.datetime64('2013-03-31T00:00:00.000000000'),\n",
              " numpy.datetime64('2013-04-30T00:00:00.000000000'),\n",
              " numpy.datetime64('2013-05-31T00:00:00.000000000'),\n",
              " numpy.datetime64('2013-06-30T00:00:00.000000000'),\n",
              " numpy.datetime64('2013-07-31T00:00:00.000000000'),\n",
              " numpy.datetime64('2013-08-31T00:00:00.000000000'),\n",
              " numpy.datetime64('2013-09-30T00:00:00.000000000'),\n",
              " numpy.datetime64('2013-10-31T00:00:00.000000000'),\n",
              " numpy.datetime64('2013-11-30T00:00:00.000000000'),\n",
              " numpy.datetime64('2013-12-31T00:00:00.000000000'),\n",
              " numpy.datetime64('2014-01-31T00:00:00.000000000'),\n",
              " numpy.datetime64('2014-02-28T00:00:00.000000000'),\n",
              " numpy.datetime64('2014-03-31T00:00:00.000000000'),\n",
              " numpy.datetime64('2014-04-30T00:00:00.000000000'),\n",
              " numpy.datetime64('2014-05-31T00:00:00.000000000'),\n",
              " numpy.datetime64('2014-06-30T00:00:00.000000000'),\n",
              " numpy.datetime64('2014-07-31T00:00:00.000000000'),\n",
              " numpy.datetime64('2014-08-31T00:00:00.000000000'),\n",
              " numpy.datetime64('2014-09-30T00:00:00.000000000'),\n",
              " numpy.datetime64('2014-10-31T00:00:00.000000000'),\n",
              " numpy.datetime64('2014-11-30T00:00:00.000000000'),\n",
              " numpy.datetime64('2014-12-31T00:00:00.000000000'),\n",
              " numpy.datetime64('2015-01-31T00:00:00.000000000'),\n",
              " numpy.datetime64('2015-02-28T00:00:00.000000000'),\n",
              " numpy.datetime64('2015-03-31T00:00:00.000000000'),\n",
              " numpy.datetime64('2015-04-30T00:00:00.000000000'),\n",
              " numpy.datetime64('2015-05-31T00:00:00.000000000'),\n",
              " numpy.datetime64('2015-06-30T00:00:00.000000000'),\n",
              " numpy.datetime64('2015-07-31T00:00:00.000000000'),\n",
              " numpy.datetime64('2015-08-31T00:00:00.000000000')]"
            ]
          },
          "metadata": {},
          "execution_count": 262
        }
      ]
    },
    {
      "cell_type": "code",
      "source": [
        "valida_index"
      ],
      "metadata": {
        "execution": {
          "iopub.status.busy": "2023-04-18T19:34:18.091252Z",
          "iopub.execute_input": "2023-04-18T19:34:18.092161Z",
          "iopub.status.idle": "2023-04-18T19:34:18.100693Z",
          "shell.execute_reply.started": "2023-04-18T19:34:18.092129Z",
          "shell.execute_reply": "2023-04-18T19:34:18.099437Z"
        },
        "trusted": true,
        "colab": {
          "base_uri": "https://localhost:8080/"
        },
        "id": "oMiVxg_P5RKx",
        "outputId": "2b06b990-166f-474d-e852-2f482dffca31"
      },
      "execution_count": 263,
      "outputs": [
        {
          "output_type": "execute_result",
          "data": {
            "text/plain": [
              "[numpy.datetime64('2015-09-30T00:00:00.000000000')]"
            ]
          },
          "metadata": {},
          "execution_count": 263
        }
      ]
    },
    {
      "cell_type": "code",
      "source": [
        "test_index"
      ],
      "metadata": {
        "execution": {
          "iopub.status.busy": "2023-04-18T19:34:18.102420Z",
          "iopub.execute_input": "2023-04-18T19:34:18.102837Z",
          "iopub.status.idle": "2023-04-18T19:34:18.111367Z",
          "shell.execute_reply.started": "2023-04-18T19:34:18.102806Z",
          "shell.execute_reply": "2023-04-18T19:34:18.110192Z"
        },
        "trusted": true,
        "colab": {
          "base_uri": "https://localhost:8080/"
        },
        "id": "GI9cr2Ce5RKy",
        "outputId": "89d4836a-5c5a-4450-de2c-7d3f127d2016"
      },
      "execution_count": 264,
      "outputs": [
        {
          "output_type": "execute_result",
          "data": {
            "text/plain": [
              "[numpy.datetime64('2015-10-31T00:00:00.000000000')]"
            ]
          },
          "metadata": {},
          "execution_count": 264
        }
      ]
    },
    {
      "cell_type": "code",
      "source": [
        "X_train = full_df[full_df[\"DATE\"].isin(train_index)].drop(['MONTHLY_SALES', \"DATE\"], axis=1)\n",
        "Y_train = full_df[full_df[\"DATE\"].isin(train_index)]['MONTHLY_SALES']\n",
        "\n",
        "X_valida = full_df[full_df[\"DATE\"].isin(valida_index)].drop(['MONTHLY_SALES', \"DATE\"], axis=1)\n",
        "Y_valida = full_df[full_df[\"DATE\"].isin(valida_index)]['MONTHLY_SALES']\n",
        "\n",
        "X_test = full_df[full_df[\"DATE\"].isin(test_index)].drop(['MONTHLY_SALES', \"DATE\"], axis = 1)\n",
        "Y_test = full_df[full_df[\"DATE\"].isin(test_index)]['MONTHLY_SALES']"
      ],
      "metadata": {
        "papermill": {
          "duration": 0.046374,
          "end_time": "2022-12-25T18:21:25.590261",
          "exception": false,
          "start_time": "2022-12-25T18:21:25.543887",
          "status": "completed"
        },
        "tags": [],
        "execution": {
          "iopub.status.busy": "2023-04-18T19:34:18.143858Z",
          "iopub.execute_input": "2023-04-18T19:34:18.144956Z",
          "iopub.status.idle": "2023-04-18T19:34:18.163959Z",
          "shell.execute_reply.started": "2023-04-18T19:34:18.144923Z",
          "shell.execute_reply": "2023-04-18T19:34:18.163034Z"
        },
        "trusted": true,
        "id": "FWvkpNLl5RKy"
      },
      "execution_count": 265,
      "outputs": []
    },
    {
      "cell_type": "code",
      "source": [
        "X_train.head(10)"
      ],
      "metadata": {
        "execution": {
          "iopub.status.busy": "2023-04-18T19:34:18.165889Z",
          "iopub.execute_input": "2023-04-18T19:34:18.166330Z",
          "iopub.status.idle": "2023-04-18T19:34:18.181206Z",
          "shell.execute_reply.started": "2023-04-18T19:34:18.166288Z",
          "shell.execute_reply": "2023-04-18T19:34:18.180226Z"
        },
        "trusted": true,
        "colab": {
          "base_uri": "https://localhost:8080/",
          "height": 394
        },
        "id": "HMGsaSBa5RKz",
        "outputId": "f24e3eb1-f077-4f0f-e7b7-4149fe2b26a2"
      },
      "execution_count": 266,
      "outputs": [
        {
          "output_type": "execute_result",
          "data": {
            "text/plain": [
              "           CITY_ID  SHOP_ID  ITEM_CATEGORY_ID  ITEM_ID  \\\n",
              "UNIQUE_ID                                                \n",
              "11-20949      25.0       11                71    20949   \n",
              "11-4181       25.0       11                75     4181   \n",
              "12-11365      16.0       12                 9    11365   \n",
              "12-11369      16.0       12                 9    11369   \n",
              "12-11370      16.0       12                 9    11370   \n",
              "12-11373      16.0       12                 9    11373   \n",
              "12-482        16.0       12                73      482   \n",
              "14-17717       3.0       14                79    17717   \n",
              "14-20949       3.0       14                71    20949   \n",
              "14-5822        3.0       14                35     5822   \n",
              "\n",
              "           DATE_SHOP_ID_ITEM_ID_MONTHLY_SALES_SUM_LAG2  \n",
              "UNIQUE_ID                                               \n",
              "11-20949                                           NaN  \n",
              "11-4181                                            NaN  \n",
              "12-11365                                           NaN  \n",
              "12-11369                                           NaN  \n",
              "12-11370                                           NaN  \n",
              "12-11373                                           NaN  \n",
              "12-482                                             NaN  \n",
              "14-17717                                           NaN  \n",
              "14-20949                                           NaN  \n",
              "14-5822                                            NaN  "
            ],
            "text/html": [
              "\n",
              "  <div id=\"df-341847ce-8dfb-4839-af76-bd97b3d9dc72\">\n",
              "    <div class=\"colab-df-container\">\n",
              "      <div>\n",
              "<style scoped>\n",
              "    .dataframe tbody tr th:only-of-type {\n",
              "        vertical-align: middle;\n",
              "    }\n",
              "\n",
              "    .dataframe tbody tr th {\n",
              "        vertical-align: top;\n",
              "    }\n",
              "\n",
              "    .dataframe thead th {\n",
              "        text-align: right;\n",
              "    }\n",
              "</style>\n",
              "<table border=\"1\" class=\"dataframe\">\n",
              "  <thead>\n",
              "    <tr style=\"text-align: right;\">\n",
              "      <th></th>\n",
              "      <th>CITY_ID</th>\n",
              "      <th>SHOP_ID</th>\n",
              "      <th>ITEM_CATEGORY_ID</th>\n",
              "      <th>ITEM_ID</th>\n",
              "      <th>DATE_SHOP_ID_ITEM_ID_MONTHLY_SALES_SUM_LAG2</th>\n",
              "    </tr>\n",
              "    <tr>\n",
              "      <th>UNIQUE_ID</th>\n",
              "      <th></th>\n",
              "      <th></th>\n",
              "      <th></th>\n",
              "      <th></th>\n",
              "      <th></th>\n",
              "    </tr>\n",
              "  </thead>\n",
              "  <tbody>\n",
              "    <tr>\n",
              "      <th>11-20949</th>\n",
              "      <td>25.0</td>\n",
              "      <td>11</td>\n",
              "      <td>71</td>\n",
              "      <td>20949</td>\n",
              "      <td>NaN</td>\n",
              "    </tr>\n",
              "    <tr>\n",
              "      <th>11-4181</th>\n",
              "      <td>25.0</td>\n",
              "      <td>11</td>\n",
              "      <td>75</td>\n",
              "      <td>4181</td>\n",
              "      <td>NaN</td>\n",
              "    </tr>\n",
              "    <tr>\n",
              "      <th>12-11365</th>\n",
              "      <td>16.0</td>\n",
              "      <td>12</td>\n",
              "      <td>9</td>\n",
              "      <td>11365</td>\n",
              "      <td>NaN</td>\n",
              "    </tr>\n",
              "    <tr>\n",
              "      <th>12-11369</th>\n",
              "      <td>16.0</td>\n",
              "      <td>12</td>\n",
              "      <td>9</td>\n",
              "      <td>11369</td>\n",
              "      <td>NaN</td>\n",
              "    </tr>\n",
              "    <tr>\n",
              "      <th>12-11370</th>\n",
              "      <td>16.0</td>\n",
              "      <td>12</td>\n",
              "      <td>9</td>\n",
              "      <td>11370</td>\n",
              "      <td>NaN</td>\n",
              "    </tr>\n",
              "    <tr>\n",
              "      <th>12-11373</th>\n",
              "      <td>16.0</td>\n",
              "      <td>12</td>\n",
              "      <td>9</td>\n",
              "      <td>11373</td>\n",
              "      <td>NaN</td>\n",
              "    </tr>\n",
              "    <tr>\n",
              "      <th>12-482</th>\n",
              "      <td>16.0</td>\n",
              "      <td>12</td>\n",
              "      <td>73</td>\n",
              "      <td>482</td>\n",
              "      <td>NaN</td>\n",
              "    </tr>\n",
              "    <tr>\n",
              "      <th>14-17717</th>\n",
              "      <td>3.0</td>\n",
              "      <td>14</td>\n",
              "      <td>79</td>\n",
              "      <td>17717</td>\n",
              "      <td>NaN</td>\n",
              "    </tr>\n",
              "    <tr>\n",
              "      <th>14-20949</th>\n",
              "      <td>3.0</td>\n",
              "      <td>14</td>\n",
              "      <td>71</td>\n",
              "      <td>20949</td>\n",
              "      <td>NaN</td>\n",
              "    </tr>\n",
              "    <tr>\n",
              "      <th>14-5822</th>\n",
              "      <td>3.0</td>\n",
              "      <td>14</td>\n",
              "      <td>35</td>\n",
              "      <td>5822</td>\n",
              "      <td>NaN</td>\n",
              "    </tr>\n",
              "  </tbody>\n",
              "</table>\n",
              "</div>\n",
              "      <button class=\"colab-df-convert\" onclick=\"convertToInteractive('df-341847ce-8dfb-4839-af76-bd97b3d9dc72')\"\n",
              "              title=\"Convert this dataframe to an interactive table.\"\n",
              "              style=\"display:none;\">\n",
              "        \n",
              "  <svg xmlns=\"http://www.w3.org/2000/svg\" height=\"24px\"viewBox=\"0 0 24 24\"\n",
              "       width=\"24px\">\n",
              "    <path d=\"M0 0h24v24H0V0z\" fill=\"none\"/>\n",
              "    <path d=\"M18.56 5.44l.94 2.06.94-2.06 2.06-.94-2.06-.94-.94-2.06-.94 2.06-2.06.94zm-11 1L8.5 8.5l.94-2.06 2.06-.94-2.06-.94L8.5 2.5l-.94 2.06-2.06.94zm10 10l.94 2.06.94-2.06 2.06-.94-2.06-.94-.94-2.06-.94 2.06-2.06.94z\"/><path d=\"M17.41 7.96l-1.37-1.37c-.4-.4-.92-.59-1.43-.59-.52 0-1.04.2-1.43.59L10.3 9.45l-7.72 7.72c-.78.78-.78 2.05 0 2.83L4 21.41c.39.39.9.59 1.41.59.51 0 1.02-.2 1.41-.59l7.78-7.78 2.81-2.81c.8-.78.8-2.07 0-2.86zM5.41 20L4 18.59l7.72-7.72 1.47 1.35L5.41 20z\"/>\n",
              "  </svg>\n",
              "      </button>\n",
              "      \n",
              "  <style>\n",
              "    .colab-df-container {\n",
              "      display:flex;\n",
              "      flex-wrap:wrap;\n",
              "      gap: 12px;\n",
              "    }\n",
              "\n",
              "    .colab-df-convert {\n",
              "      background-color: #E8F0FE;\n",
              "      border: none;\n",
              "      border-radius: 50%;\n",
              "      cursor: pointer;\n",
              "      display: none;\n",
              "      fill: #1967D2;\n",
              "      height: 32px;\n",
              "      padding: 0 0 0 0;\n",
              "      width: 32px;\n",
              "    }\n",
              "\n",
              "    .colab-df-convert:hover {\n",
              "      background-color: #E2EBFA;\n",
              "      box-shadow: 0px 1px 2px rgba(60, 64, 67, 0.3), 0px 1px 3px 1px rgba(60, 64, 67, 0.15);\n",
              "      fill: #174EA6;\n",
              "    }\n",
              "\n",
              "    [theme=dark] .colab-df-convert {\n",
              "      background-color: #3B4455;\n",
              "      fill: #D2E3FC;\n",
              "    }\n",
              "\n",
              "    [theme=dark] .colab-df-convert:hover {\n",
              "      background-color: #434B5C;\n",
              "      box-shadow: 0px 1px 3px 1px rgba(0, 0, 0, 0.15);\n",
              "      filter: drop-shadow(0px 1px 2px rgba(0, 0, 0, 0.3));\n",
              "      fill: #FFFFFF;\n",
              "    }\n",
              "  </style>\n",
              "\n",
              "      <script>\n",
              "        const buttonEl =\n",
              "          document.querySelector('#df-341847ce-8dfb-4839-af76-bd97b3d9dc72 button.colab-df-convert');\n",
              "        buttonEl.style.display =\n",
              "          google.colab.kernel.accessAllowed ? 'block' : 'none';\n",
              "\n",
              "        async function convertToInteractive(key) {\n",
              "          const element = document.querySelector('#df-341847ce-8dfb-4839-af76-bd97b3d9dc72');\n",
              "          const dataTable =\n",
              "            await google.colab.kernel.invokeFunction('convertToInteractive',\n",
              "                                                     [key], {});\n",
              "          if (!dataTable) return;\n",
              "\n",
              "          const docLinkHtml = 'Like what you see? Visit the ' +\n",
              "            '<a target=\"_blank\" href=https://colab.research.google.com/notebooks/data_table.ipynb>data table notebook</a>'\n",
              "            + ' to learn more about interactive tables.';\n",
              "          element.innerHTML = '';\n",
              "          dataTable['output_type'] = 'display_data';\n",
              "          await google.colab.output.renderOutput(dataTable, element);\n",
              "          const docLink = document.createElement('div');\n",
              "          docLink.innerHTML = docLinkHtml;\n",
              "          element.appendChild(docLink);\n",
              "        }\n",
              "      </script>\n",
              "    </div>\n",
              "  </div>\n",
              "  "
            ]
          },
          "metadata": {},
          "execution_count": 266
        }
      ]
    },
    {
      "cell_type": "markdown",
      "source": [
        "<a id='model_train'></a>\n",
        "### Model Train\n",
        "[Volver al índice](#index)<br>\n",
        "\n",
        "Entrenamos nuestro modelo de Machine Learning."
      ],
      "metadata": {
        "papermill": {
          "duration": 0.02514,
          "end_time": "2022-12-25T18:21:25.64124",
          "exception": false,
          "start_time": "2022-12-25T18:21:25.6161",
          "status": "completed"
        },
        "tags": [],
        "id": "kla2NzPr5RKz"
      }
    },
    {
      "cell_type": "code",
      "source": [
        "model = xgb.XGBRegressor(eval_metric = \"rmse\", early_stopping_rounds = 10, seed = 175)\n",
        "\n",
        "model_name = str(model).split(\"(\")[0]\n",
        "\n",
        "day = str(datetime.now()).split()[0].replace(\"-\", \"_\")\n",
        "hour = str(datetime.now()).split()[1].replace(\":\", \"_\").split(\".\")[0]\n",
        "t = str(day) + \"_\" + str(hour)\n",
        "\n",
        "model.fit(X_train, Y_train, \n",
        "    eval_set = [(X_train, Y_train), (X_valida, Y_valida)], \n",
        "    verbose = True)"
      ],
      "metadata": {
        "papermill": {
          "duration": 0.651824,
          "end_time": "2022-12-25T18:21:26.318999",
          "exception": false,
          "start_time": "2022-12-25T18:21:25.667175",
          "status": "completed"
        },
        "tags": [],
        "execution": {
          "iopub.status.busy": "2023-04-18T19:34:18.182558Z",
          "iopub.execute_input": "2023-04-18T19:34:18.182864Z",
          "iopub.status.idle": "2023-04-18T19:34:18.460235Z",
          "shell.execute_reply.started": "2023-04-18T19:34:18.182837Z",
          "shell.execute_reply": "2023-04-18T19:34:18.459390Z"
        },
        "trusted": true,
        "colab": {
          "base_uri": "https://localhost:8080/",
          "height": 544
        },
        "id": "tntP_m9U5RK0",
        "outputId": "ef4acc9f-004f-4095-b7b6-c4de47ed71c0"
      },
      "execution_count": 267,
      "outputs": [
        {
          "output_type": "stream",
          "name": "stdout",
          "text": [
            "[0]\tvalidation_0-rmse:11.09272\tvalidation_1-rmse:9.71796\n",
            "[1]\tvalidation_0-rmse:8.77997\tvalidation_1-rmse:7.11137\n",
            "[2]\tvalidation_0-rmse:7.36704\tvalidation_1-rmse:5.53247\n",
            "[3]\tvalidation_0-rmse:6.54740\tvalidation_1-rmse:4.60087\n",
            "[4]\tvalidation_0-rmse:6.08684\tvalidation_1-rmse:4.12571\n",
            "[5]\tvalidation_0-rmse:5.81469\tvalidation_1-rmse:3.92850\n",
            "[6]\tvalidation_0-rmse:5.67771\tvalidation_1-rmse:3.88014\n",
            "[7]\tvalidation_0-rmse:5.59175\tvalidation_1-rmse:3.92443\n",
            "[8]\tvalidation_0-rmse:5.54017\tvalidation_1-rmse:3.95185\n",
            "[9]\tvalidation_0-rmse:5.50180\tvalidation_1-rmse:3.98053\n",
            "[10]\tvalidation_0-rmse:5.47831\tvalidation_1-rmse:3.99131\n",
            "[11]\tvalidation_0-rmse:5.45804\tvalidation_1-rmse:4.00923\n",
            "[12]\tvalidation_0-rmse:5.44218\tvalidation_1-rmse:4.02701\n",
            "[13]\tvalidation_0-rmse:5.43055\tvalidation_1-rmse:4.04685\n",
            "[14]\tvalidation_0-rmse:5.42174\tvalidation_1-rmse:4.06074\n",
            "[15]\tvalidation_0-rmse:5.40665\tvalidation_1-rmse:4.05100\n",
            "[16]\tvalidation_0-rmse:5.39114\tvalidation_1-rmse:4.05115\n"
          ]
        },
        {
          "output_type": "execute_result",
          "data": {
            "text/plain": [
              "XGBRegressor(base_score=None, booster=None, callbacks=None,\n",
              "             colsample_bylevel=None, colsample_bynode=None,\n",
              "             colsample_bytree=None, early_stopping_rounds=10,\n",
              "             enable_categorical=False, eval_metric='rmse', feature_types=None,\n",
              "             gamma=None, gpu_id=None, grow_policy=None, importance_type=None,\n",
              "             interaction_constraints=None, learning_rate=None, max_bin=None,\n",
              "             max_cat_threshold=None, max_cat_to_onehot=None,\n",
              "             max_delta_step=None, max_depth=None, max_leaves=None,\n",
              "             min_child_weight=None, missing=nan, monotone_constraints=None,\n",
              "             n_estimators=100, n_jobs=None, num_parallel_tree=None,\n",
              "             predictor=None, random_state=None, ...)"
            ],
            "text/html": [
              "<style>#sk-container-id-1 {color: black;background-color: white;}#sk-container-id-1 pre{padding: 0;}#sk-container-id-1 div.sk-toggleable {background-color: white;}#sk-container-id-1 label.sk-toggleable__label {cursor: pointer;display: block;width: 100%;margin-bottom: 0;padding: 0.3em;box-sizing: border-box;text-align: center;}#sk-container-id-1 label.sk-toggleable__label-arrow:before {content: \"▸\";float: left;margin-right: 0.25em;color: #696969;}#sk-container-id-1 label.sk-toggleable__label-arrow:hover:before {color: black;}#sk-container-id-1 div.sk-estimator:hover label.sk-toggleable__label-arrow:before {color: black;}#sk-container-id-1 div.sk-toggleable__content {max-height: 0;max-width: 0;overflow: hidden;text-align: left;background-color: #f0f8ff;}#sk-container-id-1 div.sk-toggleable__content pre {margin: 0.2em;color: black;border-radius: 0.25em;background-color: #f0f8ff;}#sk-container-id-1 input.sk-toggleable__control:checked~div.sk-toggleable__content {max-height: 200px;max-width: 100%;overflow: auto;}#sk-container-id-1 input.sk-toggleable__control:checked~label.sk-toggleable__label-arrow:before {content: \"▾\";}#sk-container-id-1 div.sk-estimator input.sk-toggleable__control:checked~label.sk-toggleable__label {background-color: #d4ebff;}#sk-container-id-1 div.sk-label input.sk-toggleable__control:checked~label.sk-toggleable__label {background-color: #d4ebff;}#sk-container-id-1 input.sk-hidden--visually {border: 0;clip: rect(1px 1px 1px 1px);clip: rect(1px, 1px, 1px, 1px);height: 1px;margin: -1px;overflow: hidden;padding: 0;position: absolute;width: 1px;}#sk-container-id-1 div.sk-estimator {font-family: monospace;background-color: #f0f8ff;border: 1px dotted black;border-radius: 0.25em;box-sizing: border-box;margin-bottom: 0.5em;}#sk-container-id-1 div.sk-estimator:hover {background-color: #d4ebff;}#sk-container-id-1 div.sk-parallel-item::after {content: \"\";width: 100%;border-bottom: 1px solid gray;flex-grow: 1;}#sk-container-id-1 div.sk-label:hover label.sk-toggleable__label {background-color: #d4ebff;}#sk-container-id-1 div.sk-serial::before {content: \"\";position: absolute;border-left: 1px solid gray;box-sizing: border-box;top: 0;bottom: 0;left: 50%;z-index: 0;}#sk-container-id-1 div.sk-serial {display: flex;flex-direction: column;align-items: center;background-color: white;padding-right: 0.2em;padding-left: 0.2em;position: relative;}#sk-container-id-1 div.sk-item {position: relative;z-index: 1;}#sk-container-id-1 div.sk-parallel {display: flex;align-items: stretch;justify-content: center;background-color: white;position: relative;}#sk-container-id-1 div.sk-item::before, #sk-container-id-1 div.sk-parallel-item::before {content: \"\";position: absolute;border-left: 1px solid gray;box-sizing: border-box;top: 0;bottom: 0;left: 50%;z-index: -1;}#sk-container-id-1 div.sk-parallel-item {display: flex;flex-direction: column;z-index: 1;position: relative;background-color: white;}#sk-container-id-1 div.sk-parallel-item:first-child::after {align-self: flex-end;width: 50%;}#sk-container-id-1 div.sk-parallel-item:last-child::after {align-self: flex-start;width: 50%;}#sk-container-id-1 div.sk-parallel-item:only-child::after {width: 0;}#sk-container-id-1 div.sk-dashed-wrapped {border: 1px dashed gray;margin: 0 0.4em 0.5em 0.4em;box-sizing: border-box;padding-bottom: 0.4em;background-color: white;}#sk-container-id-1 div.sk-label label {font-family: monospace;font-weight: bold;display: inline-block;line-height: 1.2em;}#sk-container-id-1 div.sk-label-container {text-align: center;}#sk-container-id-1 div.sk-container {/* jupyter's `normalize.less` sets `[hidden] { display: none; }` but bootstrap.min.css set `[hidden] { display: none !important; }` so we also need the `!important` here to be able to override the default hidden behavior on the sphinx rendered scikit-learn.org. See: https://github.com/scikit-learn/scikit-learn/issues/21755 */display: inline-block !important;position: relative;}#sk-container-id-1 div.sk-text-repr-fallback {display: none;}</style><div id=\"sk-container-id-1\" class=\"sk-top-container\"><div class=\"sk-text-repr-fallback\"><pre>XGBRegressor(base_score=None, booster=None, callbacks=None,\n",
              "             colsample_bylevel=None, colsample_bynode=None,\n",
              "             colsample_bytree=None, early_stopping_rounds=10,\n",
              "             enable_categorical=False, eval_metric=&#x27;rmse&#x27;, feature_types=None,\n",
              "             gamma=None, gpu_id=None, grow_policy=None, importance_type=None,\n",
              "             interaction_constraints=None, learning_rate=None, max_bin=None,\n",
              "             max_cat_threshold=None, max_cat_to_onehot=None,\n",
              "             max_delta_step=None, max_depth=None, max_leaves=None,\n",
              "             min_child_weight=None, missing=nan, monotone_constraints=None,\n",
              "             n_estimators=100, n_jobs=None, num_parallel_tree=None,\n",
              "             predictor=None, random_state=None, ...)</pre><b>In a Jupyter environment, please rerun this cell to show the HTML representation or trust the notebook. <br />On GitHub, the HTML representation is unable to render, please try loading this page with nbviewer.org.</b></div><div class=\"sk-container\" hidden><div class=\"sk-item\"><div class=\"sk-estimator sk-toggleable\"><input class=\"sk-toggleable__control sk-hidden--visually\" id=\"sk-estimator-id-1\" type=\"checkbox\" checked><label for=\"sk-estimator-id-1\" class=\"sk-toggleable__label sk-toggleable__label-arrow\">XGBRegressor</label><div class=\"sk-toggleable__content\"><pre>XGBRegressor(base_score=None, booster=None, callbacks=None,\n",
              "             colsample_bylevel=None, colsample_bynode=None,\n",
              "             colsample_bytree=None, early_stopping_rounds=10,\n",
              "             enable_categorical=False, eval_metric=&#x27;rmse&#x27;, feature_types=None,\n",
              "             gamma=None, gpu_id=None, grow_policy=None, importance_type=None,\n",
              "             interaction_constraints=None, learning_rate=None, max_bin=None,\n",
              "             max_cat_threshold=None, max_cat_to_onehot=None,\n",
              "             max_delta_step=None, max_depth=None, max_leaves=None,\n",
              "             min_child_weight=None, missing=nan, monotone_constraints=None,\n",
              "             n_estimators=100, n_jobs=None, num_parallel_tree=None,\n",
              "             predictor=None, random_state=None, ...)</pre></div></div></div></div></div>"
            ]
          },
          "metadata": {},
          "execution_count": 267
        }
      ]
    },
    {
      "cell_type": "code",
      "source": [
        "pickle.dump(model, open(\"{}_{}.dat\".format(model_name, t), \"wb\"))\n",
        "print(\"{}_{}.dat\".format(model_name, t))"
      ],
      "metadata": {
        "papermill": {
          "duration": 0.047523,
          "end_time": "2022-12-25T18:21:26.401428",
          "exception": false,
          "start_time": "2022-12-25T18:21:26.353905",
          "status": "completed"
        },
        "tags": [],
        "execution": {
          "iopub.status.busy": "2023-04-18T19:34:18.461319Z",
          "iopub.execute_input": "2023-04-18T19:34:18.464816Z",
          "iopub.status.idle": "2023-04-18T19:34:18.474425Z",
          "shell.execute_reply.started": "2023-04-18T19:34:18.464775Z",
          "shell.execute_reply": "2023-04-18T19:34:18.473365Z"
        },
        "trusted": true,
        "colab": {
          "base_uri": "https://localhost:8080/"
        },
        "id": "oCVx7d9i5RK0",
        "outputId": "9db2aa4a-8a4a-441c-bc77-9a9c71158ea1"
      },
      "execution_count": 268,
      "outputs": [
        {
          "output_type": "stream",
          "name": "stdout",
          "text": [
            "XGBRegressor_2023_04_18_20_09_31.dat\n"
          ]
        }
      ]
    },
    {
      "cell_type": "markdown",
      "source": [
        "<a id='model_evaluation'></a>\n",
        "### Model Evaluation (**CORE IDEA**)\n",
        "[Volver al índice](#index)<br>"
      ],
      "metadata": {
        "papermill": {
          "duration": 0.029213,
          "end_time": "2022-12-25T18:21:26.461185",
          "exception": false,
          "start_time": "2022-12-25T18:21:26.431972",
          "status": "completed"
        },
        "tags": [],
        "id": "Hlbrh-i75RK1"
      }
    },
    {
      "cell_type": "code",
      "source": [
        "importance = model.get_booster().get_score(importance_type = \"gain\")\n",
        "importance = {k: v for k, v in sorted(importance.items(), key = lambda item: item[1])}\n",
        "\n",
        "fig, ax = plt.subplots(figsize = (10, 15))\n",
        "xgb.plot_importance(model, importance_type = \"gain\", ax = ax);"
      ],
      "metadata": {
        "papermill": {
          "duration": 0.323556,
          "end_time": "2022-12-25T18:21:26.814258",
          "exception": false,
          "start_time": "2022-12-25T18:21:26.490702",
          "status": "completed"
        },
        "tags": [],
        "execution": {
          "iopub.status.busy": "2023-04-18T19:34:18.475993Z",
          "iopub.execute_input": "2023-04-18T19:34:18.476647Z",
          "iopub.status.idle": "2023-04-18T19:34:18.770554Z",
          "shell.execute_reply.started": "2023-04-18T19:34:18.476613Z",
          "shell.execute_reply": "2023-04-18T19:34:18.769381Z"
        },
        "trusted": true,
        "colab": {
          "base_uri": "https://localhost:8080/",
          "height": 1000
        },
        "id": "Ndx57zSQ5RK1",
        "outputId": "aa50937d-a76e-49bf-f7e5-c08af268ca07"
      },
      "execution_count": 269,
      "outputs": [
        {
          "output_type": "display_data",
          "data": {
            "text/plain": [
              "<Figure size 1000x1500 with 1 Axes>"
            ],
            "image/png": "[encoded data removed]"
          },
          "metadata": {}
        }
      ]
    },
    {
      "cell_type": "markdown",
      "source": [
        "<a id='prediction'></a>\n",
        "### Prediction\n",
        "[Volver al índice](#index)<br>\n",
        "\n",
        "En este apartado vamos a utilizar el modelo entrenado para hacer una predicción y obtener el submit."
      ],
      "metadata": {
        "papermill": {
          "duration": 0.029273,
          "end_time": "2022-12-25T18:21:26.873617",
          "exception": false,
          "start_time": "2022-12-25T18:21:26.844344",
          "status": "completed"
        },
        "tags": [],
        "id": "0HM0WsEB5RK2"
      }
    },
    {
      "cell_type": "code",
      "source": [
        "last_trained_model = pickle.load(open(\"{}_{}.dat\".format(model_name, t), \"rb\"))"
      ],
      "metadata": {
        "papermill": {
          "duration": 0.043519,
          "end_time": "2022-12-25T18:21:26.948169",
          "exception": false,
          "start_time": "2022-12-25T18:21:26.90465",
          "status": "completed"
        },
        "tags": [],
        "execution": {
          "iopub.status.busy": "2023-04-18T19:34:18.772205Z",
          "iopub.execute_input": "2023-04-18T19:34:18.772658Z",
          "iopub.status.idle": "2023-04-18T19:34:18.790910Z",
          "shell.execute_reply.started": "2023-04-18T19:34:18.772615Z",
          "shell.execute_reply": "2023-04-18T19:34:18.789634Z"
        },
        "trusted": true,
        "id": "5NipIDye5RK3"
      },
      "execution_count": 270,
      "outputs": []
    },
    {
      "cell_type": "code",
      "source": [
        "Y_valida_pred = model.predict(X_valida)\n",
        "\n",
        "rmse_valida = np.sqrt(mean_squared_error(Y_valida, Y_valida_pred))\n",
        "rmse_valida"
      ],
      "metadata": {
        "papermill": {
          "duration": 0.048468,
          "end_time": "2022-12-25T18:21:27.028312",
          "exception": false,
          "start_time": "2022-12-25T18:21:26.979844",
          "status": "completed"
        },
        "tags": [],
        "execution": {
          "iopub.status.busy": "2023-04-18T19:34:18.792572Z",
          "iopub.execute_input": "2023-04-18T19:34:18.793128Z",
          "iopub.status.idle": "2023-04-18T19:34:18.807795Z",
          "shell.execute_reply.started": "2023-04-18T19:34:18.793081Z",
          "shell.execute_reply": "2023-04-18T19:34:18.806845Z"
        },
        "trusted": true,
        "colab": {
          "base_uri": "https://localhost:8080/"
        },
        "id": "L4-gSGtH5RK3",
        "outputId": "63e7f134-2d98-4179-e3ff-236be4b689dd"
      },
      "execution_count": 271,
      "outputs": [
        {
          "output_type": "execute_result",
          "data": {
            "text/plain": [
              "3.8801409619200085"
            ]
          },
          "metadata": {},
          "execution_count": 271
        }
      ]
    },
    {
      "cell_type": "code",
      "source": [
        "X_test"
      ],
      "metadata": {
        "execution": {
          "iopub.status.busy": "2023-04-18T19:34:18.809162Z",
          "iopub.execute_input": "2023-04-18T19:34:18.809593Z",
          "iopub.status.idle": "2023-04-18T19:34:18.831326Z",
          "shell.execute_reply.started": "2023-04-18T19:34:18.809560Z",
          "shell.execute_reply": "2023-04-18T19:34:18.830455Z"
        },
        "trusted": true,
        "colab": {
          "base_uri": "https://localhost:8080/",
          "height": 455
        },
        "id": "Y6imJbrj5RLA",
        "outputId": "4fcfb9f3-b6f3-4e3f-a893-4d5f9ff916f3"
      },
      "execution_count": 272,
      "outputs": [
        {
          "output_type": "execute_result",
          "data": {
            "text/plain": [
              "           CITY_ID  SHOP_ID  ITEM_CATEGORY_ID  ITEM_ID  \\\n",
              "UNIQUE_ID                                                \n",
              "11-20949      25.0       11                71    20949   \n",
              "11-4181       25.0       11                75     4181   \n",
              "12-11365      16.0       12                 9    11365   \n",
              "12-11369      16.0       12                 9    11369   \n",
              "12-11370      16.0       12                 9    11370   \n",
              "...            ...      ...               ...      ...   \n",
              "6-5823        22.0        6                35     5823   \n",
              "6-7856        22.0        6                28     7856   \n",
              "7-17717       22.0        7                79    17717   \n",
              "7-20949       22.0        7                71    20949   \n",
              "7-5822        22.0        7                35     5822   \n",
              "\n",
              "           DATE_SHOP_ID_ITEM_ID_MONTHLY_SALES_SUM_LAG2  \n",
              "UNIQUE_ID                                               \n",
              "11-20949                                     29.333333  \n",
              "11-4181                                       3.666667  \n",
              "12-11365                                     26.000000  \n",
              "12-11369                                    153.666667  \n",
              "12-11370                                    267.666667  \n",
              "...                                                ...  \n",
              "6-5823                                        2.666667  \n",
              "6-7856                                        3.666667  \n",
              "7-17717                                      27.666667  \n",
              "7-20949                                      58.000000  \n",
              "7-5822                                        7.000000  \n",
              "\n",
              "[299 rows x 5 columns]"
            ],
            "text/html": [
              "\n",
              "  <div id=\"df-e4ab0337-7bca-45ab-a9f4-44ee8b52e7f4\">\n",
              "    <div class=\"colab-df-container\">\n",
              "      <div>\n",
              "<style scoped>\n",
              "    .dataframe tbody tr th:only-of-type {\n",
              "        vertical-align: middle;\n",
              "    }\n",
              "\n",
              "    .dataframe tbody tr th {\n",
              "        vertical-align: top;\n",
              "    }\n",
              "\n",
              "    .dataframe thead th {\n",
              "        text-align: right;\n",
              "    }\n",
              "</style>\n",
              "<table border=\"1\" class=\"dataframe\">\n",
              "  <thead>\n",
              "    <tr style=\"text-align: right;\">\n",
              "      <th></th>\n",
              "      <th>CITY_ID</th>\n",
              "      <th>SHOP_ID</th>\n",
              "      <th>ITEM_CATEGORY_ID</th>\n",
              "      <th>ITEM_ID</th>\n",
              "      <th>DATE_SHOP_ID_ITEM_ID_MONTHLY_SALES_SUM_LAG2</th>\n",
              "    </tr>\n",
              "    <tr>\n",
              "      <th>UNIQUE_ID</th>\n",
              "      <th></th>\n",
              "      <th></th>\n",
              "      <th></th>\n",
              "      <th></th>\n",
              "      <th></th>\n",
              "    </tr>\n",
              "  </thead>\n",
              "  <tbody>\n",
              "    <tr>\n",
              "      <th>11-20949</th>\n",
              "      <td>25.0</td>\n",
              "      <td>11</td>\n",
              "      <td>71</td>\n",
              "      <td>20949</td>\n",
              "      <td>29.333333</td>\n",
              "    </tr>\n",
              "    <tr>\n",
              "      <th>11-4181</th>\n",
              "      <td>25.0</td>\n",
              "      <td>11</td>\n",
              "      <td>75</td>\n",
              "      <td>4181</td>\n",
              "      <td>3.666667</td>\n",
              "    </tr>\n",
              "    <tr>\n",
              "      <th>12-11365</th>\n",
              "      <td>16.0</td>\n",
              "      <td>12</td>\n",
              "      <td>9</td>\n",
              "      <td>11365</td>\n",
              "      <td>26.000000</td>\n",
              "    </tr>\n",
              "    <tr>\n",
              "      <th>12-11369</th>\n",
              "      <td>16.0</td>\n",
              "      <td>12</td>\n",
              "      <td>9</td>\n",
              "      <td>11369</td>\n",
              "      <td>153.666667</td>\n",
              "    </tr>\n",
              "    <tr>\n",
              "      <th>12-11370</th>\n",
              "      <td>16.0</td>\n",
              "      <td>12</td>\n",
              "      <td>9</td>\n",
              "      <td>11370</td>\n",
              "      <td>267.666667</td>\n",
              "    </tr>\n",
              "    <tr>\n",
              "      <th>...</th>\n",
              "      <td>...</td>\n",
              "      <td>...</td>\n",
              "      <td>...</td>\n",
              "      <td>...</td>\n",
              "      <td>...</td>\n",
              "    </tr>\n",
              "    <tr>\n",
              "      <th>6-5823</th>\n",
              "      <td>22.0</td>\n",
              "      <td>6</td>\n",
              "      <td>35</td>\n",
              "      <td>5823</td>\n",
              "      <td>2.666667</td>\n",
              "    </tr>\n",
              "    <tr>\n",
              "      <th>6-7856</th>\n",
              "      <td>22.0</td>\n",
              "      <td>6</td>\n",
              "      <td>28</td>\n",
              "      <td>7856</td>\n",
              "      <td>3.666667</td>\n",
              "    </tr>\n",
              "    <tr>\n",
              "      <th>7-17717</th>\n",
              "      <td>22.0</td>\n",
              "      <td>7</td>\n",
              "      <td>79</td>\n",
              "      <td>17717</td>\n",
              "      <td>27.666667</td>\n",
              "    </tr>\n",
              "    <tr>\n",
              "      <th>7-20949</th>\n",
              "      <td>22.0</td>\n",
              "      <td>7</td>\n",
              "      <td>71</td>\n",
              "      <td>20949</td>\n",
              "      <td>58.000000</td>\n",
              "    </tr>\n",
              "    <tr>\n",
              "      <th>7-5822</th>\n",
              "      <td>22.0</td>\n",
              "      <td>7</td>\n",
              "      <td>35</td>\n",
              "      <td>5822</td>\n",
              "      <td>7.000000</td>\n",
              "    </tr>\n",
              "  </tbody>\n",
              "</table>\n",
              "<p>299 rows × 5 columns</p>\n",
              "</div>\n",
              "      <button class=\"colab-df-convert\" onclick=\"convertToInteractive('df-e4ab0337-7bca-45ab-a9f4-44ee8b52e7f4')\"\n",
              "              title=\"Convert this dataframe to an interactive table.\"\n",
              "              style=\"display:none;\">\n",
              "        \n",
              "  <svg xmlns=\"http://www.w3.org/2000/svg\" height=\"24px\"viewBox=\"0 0 24 24\"\n",
              "       width=\"24px\">\n",
              "    <path d=\"M0 0h24v24H0V0z\" fill=\"none\"/>\n",
              "    <path d=\"M18.56 5.44l.94 2.06.94-2.06 2.06-.94-2.06-.94-.94-2.06-.94 2.06-2.06.94zm-11 1L8.5 8.5l.94-2.06 2.06-.94-2.06-.94L8.5 2.5l-.94 2.06-2.06.94zm10 10l.94 2.06.94-2.06 2.06-.94-2.06-.94-.94-2.06-.94 2.06-2.06.94z\"/><path d=\"M17.41 7.96l-1.37-1.37c-.4-.4-.92-.59-1.43-.59-.52 0-1.04.2-1.43.59L10.3 9.45l-7.72 7.72c-.78.78-.78 2.05 0 2.83L4 21.41c.39.39.9.59 1.41.59.51 0 1.02-.2 1.41-.59l7.78-7.78 2.81-2.81c.8-.78.8-2.07 0-2.86zM5.41 20L4 18.59l7.72-7.72 1.47 1.35L5.41 20z\"/>\n",
              "  </svg>\n",
              "      </button>\n",
              "      \n",
              "  <style>\n",
              "    .colab-df-container {\n",
              "      display:flex;\n",
              "      flex-wrap:wrap;\n",
              "      gap: 12px;\n",
              "    }\n",
              "\n",
              "    .colab-df-convert {\n",
              "      background-color: #E8F0FE;\n",
              "      border: none;\n",
              "      border-radius: 50%;\n",
              "      cursor: pointer;\n",
              "      display: none;\n",
              "      fill: #1967D2;\n",
              "      height: 32px;\n",
              "      padding: 0 0 0 0;\n",
              "      width: 32px;\n",
              "    }\n",
              "\n",
              "    .colab-df-convert:hover {\n",
              "      background-color: #E2EBFA;\n",
              "      box-shadow: 0px 1px 2px rgba(60, 64, 67, 0.3), 0px 1px 3px 1px rgba(60, 64, 67, 0.15);\n",
              "      fill: #174EA6;\n",
              "    }\n",
              "\n",
              "    [theme=dark] .colab-df-convert {\n",
              "      background-color: #3B4455;\n",
              "      fill: #D2E3FC;\n",
              "    }\n",
              "\n",
              "    [theme=dark] .colab-df-convert:hover {\n",
              "      background-color: #434B5C;\n",
              "      box-shadow: 0px 1px 3px 1px rgba(0, 0, 0, 0.15);\n",
              "      filter: drop-shadow(0px 1px 2px rgba(0, 0, 0, 0.3));\n",
              "      fill: #FFFFFF;\n",
              "    }\n",
              "  </style>\n",
              "\n",
              "      <script>\n",
              "        const buttonEl =\n",
              "          document.querySelector('#df-e4ab0337-7bca-45ab-a9f4-44ee8b52e7f4 button.colab-df-convert');\n",
              "        buttonEl.style.display =\n",
              "          google.colab.kernel.accessAllowed ? 'block' : 'none';\n",
              "\n",
              "        async function convertToInteractive(key) {\n",
              "          const element = document.querySelector('#df-e4ab0337-7bca-45ab-a9f4-44ee8b52e7f4');\n",
              "          const dataTable =\n",
              "            await google.colab.kernel.invokeFunction('convertToInteractive',\n",
              "                                                     [key], {});\n",
              "          if (!dataTable) return;\n",
              "\n",
              "          const docLinkHtml = 'Like what you see? Visit the ' +\n",
              "            '<a target=\"_blank\" href=https://colab.research.google.com/notebooks/data_table.ipynb>data table notebook</a>'\n",
              "            + ' to learn more about interactive tables.';\n",
              "          element.innerHTML = '';\n",
              "          dataTable['output_type'] = 'display_data';\n",
              "          await google.colab.output.renderOutput(dataTable, element);\n",
              "          const docLink = document.createElement('div');\n",
              "          docLink.innerHTML = docLinkHtml;\n",
              "          element.appendChild(docLink);\n",
              "        }\n",
              "      </script>\n",
              "    </div>\n",
              "  </div>\n",
              "  "
            ]
          },
          "metadata": {},
          "execution_count": 272
        }
      ]
    },
    {
      "cell_type": "code",
      "source": [
        "if \"SALES_PREDICTED\" in X_test.columns:\n",
        "    X_test.drop(\"SALES_PREDICTED\", axis = 1, inplace = True)\n",
        "    \n",
        "Y_test_predict = model.predict(X_test)\n",
        "X_test[\"SALES_PREDICTED\"] = np.clip(Y_test_predict, 0, 30)"
      ],
      "metadata": {
        "papermill": {
          "duration": 0.04833,
          "end_time": "2022-12-25T18:21:27.107366",
          "exception": false,
          "start_time": "2022-12-25T18:21:27.059036",
          "status": "completed"
        },
        "tags": [],
        "execution": {
          "iopub.status.busy": "2023-04-18T19:34:18.832694Z",
          "iopub.execute_input": "2023-04-18T19:34:18.833226Z",
          "iopub.status.idle": "2023-04-18T19:34:18.844370Z",
          "shell.execute_reply.started": "2023-04-18T19:34:18.833194Z",
          "shell.execute_reply": "2023-04-18T19:34:18.843435Z"
        },
        "trusted": true,
        "id": "iAVf1nCR5RLA"
      },
      "execution_count": 273,
      "outputs": []
    },
    {
      "cell_type": "code",
      "source": [
        "Y_valida"
      ],
      "metadata": {
        "execution": {
          "iopub.status.busy": "2023-04-18T19:34:18.845520Z",
          "iopub.execute_input": "2023-04-18T19:34:18.850148Z",
          "iopub.status.idle": "2023-04-18T19:34:18.859067Z",
          "shell.execute_reply.started": "2023-04-18T19:34:18.850103Z",
          "shell.execute_reply": "2023-04-18T19:34:18.858254Z"
        },
        "trusted": true,
        "colab": {
          "base_uri": "https://localhost:8080/"
        },
        "id": "n3RT0do15RLB",
        "outputId": "614599e7-7149-46c7-9392-c5a33d6ee7f8"
      },
      "execution_count": 274,
      "outputs": [
        {
          "output_type": "execute_result",
          "data": {
            "text/plain": [
              "UNIQUE_ID\n",
              "11-20949    21.666667\n",
              "11-4181      5.333333\n",
              "12-11365    10.000000\n",
              "12-11369    30.000000\n",
              "12-11370    30.000000\n",
              "              ...    \n",
              "6-5823       2.000000\n",
              "6-7856       4.666667\n",
              "7-17717     24.000000\n",
              "7-20949     30.000000\n",
              "7-5822       7.000000\n",
              "Name: MONTHLY_SALES, Length: 299, dtype: float64"
            ]
          },
          "metadata": {},
          "execution_count": 274
        }
      ]
    },
    {
      "cell_type": "code",
      "source": [
        "Y_test_predict"
      ],
      "metadata": {
        "execution": {
          "iopub.status.busy": "2023-04-18T19:34:18.860174Z",
          "iopub.execute_input": "2023-04-18T19:34:18.861747Z",
          "iopub.status.idle": "2023-04-18T19:34:18.878377Z",
          "shell.execute_reply.started": "2023-04-18T19:34:18.861669Z",
          "shell.execute_reply": "2023-04-18T19:34:18.876915Z"
        },
        "trusted": true,
        "colab": {
          "base_uri": "https://localhost:8080/"
        },
        "id": "vEPdygiA5RLC",
        "outputId": "d90b6351-57be-4151-a3c7-3c882fdcab98"
      },
      "execution_count": 275,
      "outputs": [
        {
          "output_type": "execute_result",
          "data": {
            "text/plain": [
              "array([24.115509 ,  4.11425  , 23.406303 , 27.5311   , 27.5311   ,\n",
              "       27.5311   ,  6.878549 , 17.103453 , 27.453629 ,  6.43649  ,\n",
              "       17.656013 , 27.453629 ,  5.2297487,  4.15554  ,  4.8330297,\n",
              "        8.645086 , 17.559889 , 10.397774 , 19.202791 , 27.3313   ,\n",
              "        7.1234717,  7.445634 ,  4.3015103, 16.003803 , 27.3313   ,\n",
              "        4.3015103,  8.224187 ,  4.3015103, 11.202437 , 27.3313   ,\n",
              "        5.2297487,  4.15554  ,  7.030996 ,  9.875247 , 19.195118 ,\n",
              "       27.42429  ,  4.374231 ,  4.977313 , 18.911215 , 27.3313   ,\n",
              "        9.781258 ,  3.6554518, 13.436793 ,  7.717494 ,  9.0829525,\n",
              "       12.934521 ,  8.716099 ,  5.3661656, 12.822761 , 20.406536 ,\n",
              "        5.4130497,  3.696741 ,  4.046518 ,  2.6602647,  8.159889 ,\n",
              "       17.471931 ,  6.352122 ,  4.977313 ,  3.8427114,  7.0539055,\n",
              "        4.192488 ,  4.9111342,  4.5248804,  8.73938  ,  4.9111342,\n",
              "        8.73938  ,  6.793352 , 20.008125 ,  3.696741 , 27.42429  ,\n",
              "        6.16822  ,  4.046518 ,  4.046518 ,  4.046518 ,  4.192488 ,\n",
              "        4.192488 ,  4.192488 ,  3.8427114,  9.3309965,  7.5474873,\n",
              "       10.291742 , 10.900912 ,  4.192488 ,  5.4561734,  4.374231 ,\n",
              "        3.8427114,  3.8427114,  4.977313 , 20.166258 , 17.015608 ,\n",
              "       12.976632 ,  3.8427114,  3.8427114,  8.73938  ,  7.606226 ,\n",
              "        3.8427114, 17.484089 ,  5.9626   , 27.42429  ,  4.772439 ,\n",
              "        4.908324 ,  4.2282605,  3.696741 ,  4.374231 ,  4.908324 ,\n",
              "        4.192488 ,  4.977313 ,  9.806958 ,  9.806958 ,  8.823807 ,\n",
              "        9.02011  ,  8.823807 ,  4.374231 ,  8.432756 , 14.032283 ,\n",
              "        4.374231 ,  7.2071266,  4.374231 , 19.202791 , 23.796598 ,\n",
              "        7.2385964,  7.0632825,  7.483189 ,  3.8427114,  7.0539055,\n",
              "        4.192488 ,  4.977313 , 14.435418 ,  3.8427114,  3.8427114,\n",
              "        5.7689843,  6.610051 ,  6.610051 ,  4.810758 ,  4.977313 ,\n",
              "       22.086697 ,  4.046518 , 27.42429  ,  4.6386786,  5.613651 ,\n",
              "        4.6386786,  4.5906963,  4.046518 ,  4.908324 ,  8.867829 ,\n",
              "        4.2282605,  4.2282605,  4.908324 ,  4.374231 ,  3.8427114,\n",
              "        4.908324 ,  4.192488 ,  3.8427114,  4.908324 ,  8.951051 ,\n",
              "       10.532859 ,  4.192488 ,  3.8427114,  6.0146813, 11.170924 ,\n",
              "        6.253189 , 16.116337 , 20.043907 , 10.291742 ,  4.192488 ,\n",
              "        8.432756 , 15.767699 ,  3.8427114,  3.8427114,  4.977313 ,\n",
              "        4.192488 ,  7.3089795, 14.355627 , 15.892493 , 19.4666   ,\n",
              "       27.3313   , 23.143757 ,  3.696741 , 18.885012 , 15.892493 ,\n",
              "        3.696741 , 27.3313   , 13.916248 , 27.453629 ,  4.11425  ,\n",
              "        4.9125085, 22.17782  , 23.367525 , 27.42429  ,  3.696741 ,\n",
              "        6.1979823,  9.158782 , 12.976632 ,  9.158782 ,  6.0146813,\n",
              "        4.374231 , 12.643827 ,  8.280712 ,  8.743604 , 15.760868 ,\n",
              "        3.696741 , 17.555883 , 27.3313   ,  5.454198 ,  6.168821 ,\n",
              "        8.962479 ,  4.977313 ,  4.374231 , 10.049684 , 27.42429  ,\n",
              "        6.8448625,  4.868644 ,  5.6702   ,  7.53811  , 12.831475 ,\n",
              "       24.42588  , 24.42588  ,  8.619347 , 26.421812 ,  3.5020506,\n",
              "       26.299484 ,  3.5020506,  3.8518271,  4.6328316,  3.5020506,\n",
              "        5.9740443,  3.8518271, 16.439512 , 27.3313   ,  5.1097164,\n",
              "        3.3560803,  3.5020506,  5.111692 , 27.278193 , 25.419    ,\n",
              "       27.278193 , 20.80546  , 11.698526 ,  6.371284 ,  8.022867 ,\n",
              "        3.8518271,  4.40994  , 27.371727 ,  3.5020506, 25.419    ,\n",
              "       27.278193 ,  4.8660274,  3.7058568, 20.005644 , 27.3313   ,\n",
              "       11.039584 ,  5.424503 ,  7.2071266,  7.2071266,  5.1097164,\n",
              "       27.3313   ,  5.0858684,  4.808148 ,  5.2930174,  3.3560803,\n",
              "        5.5422697,  3.8518271,  8.412223 ,  8.523678 ,  3.5020506,\n",
              "        3.5020506,  7.2071266,  4.035642 ,  6.0920086,  5.111692 ,\n",
              "        3.5020506,  3.8518271,  3.5020506,  5.929357 ,  8.7433195,\n",
              "       15.09792  ,  6.0046053,  5.7635326,  4.6376996,  3.5020506,\n",
              "        3.5020506,  7.2829833,  3.5020506,  3.8518271,  4.40994  ,\n",
              "       17.39775  , 24.19262  ,  6.875384 ,  3.5020506, 22.289259 ,\n",
              "       25.081446 ,  8.491037 ,  6.697711 ,  5.6973333,  4.9125085,\n",
              "        5.094251 , 22.803802 , 27.453629 ,  7.445634 ], dtype=float32)"
            ]
          },
          "metadata": {},
          "execution_count": 275
        }
      ]
    },
    {
      "cell_type": "code",
      "source": [
        "X_test.reset_index(inplace = True)"
      ],
      "metadata": {
        "papermill": {
          "duration": 0.039447,
          "end_time": "2022-12-25T18:21:27.181796",
          "exception": false,
          "start_time": "2022-12-25T18:21:27.142349",
          "status": "completed"
        },
        "tags": [],
        "execution": {
          "iopub.status.busy": "2023-04-18T19:34:18.880411Z",
          "iopub.execute_input": "2023-04-18T19:34:18.881656Z",
          "iopub.status.idle": "2023-04-18T19:34:18.890720Z",
          "shell.execute_reply.started": "2023-04-18T19:34:18.881610Z",
          "shell.execute_reply": "2023-04-18T19:34:18.889603Z"
        },
        "trusted": true,
        "id": "-4zTKsQf5RLC"
      },
      "execution_count": 276,
      "outputs": []
    },
    {
      "cell_type": "code",
      "source": [
        "(\n",
        "    X_test[[\"UNIQUE_ID\", \"SALES_PREDICTED\"]]\n",
        "    .rename(columns = {\"UNIQUE_ID\":\"unique_id\", \"SALES_PREDICTED\":\"sales\"})\n",
        "    .to_csv(\"submission.csv\", index = False)\n",
        ")"
      ],
      "metadata": {
        "papermill": {
          "duration": 0.043266,
          "end_time": "2022-12-25T18:21:27.255412",
          "exception": false,
          "start_time": "2022-12-25T18:21:27.212146",
          "status": "completed"
        },
        "tags": [],
        "execution": {
          "iopub.status.busy": "2023-04-18T19:34:18.891870Z",
          "iopub.execute_input": "2023-04-18T19:34:18.892810Z",
          "iopub.status.idle": "2023-04-18T19:34:18.904192Z",
          "shell.execute_reply.started": "2023-04-18T19:34:18.892778Z",
          "shell.execute_reply": "2023-04-18T19:34:18.903162Z"
        },
        "trusted": true,
        "id": "tTV-Wzkq5RLD"
      },
      "execution_count": 277,
      "outputs": []
    },
    {
      "cell_type": "markdown",
      "source": [
        "<a id='conclusion'></a>\n",
        "### Conclusión\n",
        "[Volver al índice](#index)<br>\n",
        "\n",
        "A continuación dejamos algunas ideas que se pueden implementar para mejorar el presente modelo:\n",
        "\n",
        "1. Probad otras combinaciones de variables.\n",
        "2. Darle más profundidad a los lags/shifts.\n",
        "3. Implementar medias móviles (ojo variables autoexplicativas).\n",
        "4. Utilizar otras columnas en vez de MONTHLY_SALES para construir las variables.\n",
        "5. Añadir variables externas (relación rublo/dólar, festivos locales etc).\n",
        "6. Probar otros algoritmos.\n",
        "7. Tunear los hiperparametros del modelo.\n"
      ],
      "metadata": {
        "papermill": {
          "duration": 0.029508,
          "end_time": "2022-12-25T18:21:27.314971",
          "exception": false,
          "start_time": "2022-12-25T18:21:27.285463",
          "status": "completed"
        },
        "tags": [],
        "id": "YUCcNlfg5RLD"
      }
    },
    {
      "cell_type": "code",
      "source": [],
      "metadata": {
        "papermill": {
          "duration": 0.029463,
          "end_time": "2022-12-25T18:21:27.491994",
          "exception": false,
          "start_time": "2022-12-25T18:21:27.462531",
          "status": "completed"
        },
        "tags": [],
        "id": "30pFXpHH5RLG"
      },
      "execution_count": null,
      "outputs": []
    }
  ]
}